{
 "cells": [
  {
   "cell_type": "code",
   "execution_count": 1,
   "metadata": {},
   "outputs": [],
   "source": [
    "__author__ = 'Alice Jacques <alice.jacques@noirlab.edu>'\n",
    "__version__ = '20230519' # yyyymmdd; \n",
    "__datasets__ = ['sdss_dr16','boss_dr16','desi_edr']"
   ]
  },
  {
   "cell_type": "markdown",
   "metadata": {},
   "source": [
    "# Testing all SPARCL client methods"
   ]
  },
  {
   "cell_type": "markdown",
   "metadata": {},
   "source": [
    "### Table of contents\n",
    "* [<tt>get_all_fields(dataset_list=None)</tt>](#get_all_fields)\n",
    "    * [<tt>dataset_list</tt>](#get_all_fields_dataset_list)\n",
    "* [<tt>get_default_fields(dataset_list=None)</tt>](#get_default_fields)\n",
    "    * [<tt>dataset_list</tt>](#get_default_fields_dataset_list)\n",
    "* [<tt>get_available_fields(dataset_list=None)</tt>](#get_available_fields)\n",
    "    * [<tt>dataset_list</tt>](#get_available_fields_dataset_list)\n",
    "* [<tt>find(outfields=None, constraints={}, dataset_list=None, limit=500, sort=None)</tt>](#find)\n",
    "    * [<tt>limit</tt>](#find_limit)\n",
    "    * [<tt>constraints</tt>](#find_constraints)\n",
    "    * [<tt>outfields</tt>](#find_outfields)\n",
    "    * [<tt>sort</tt>](#find_sort)\n",
    "* [<tt>retrieve(uuid_list, include='DEFAULT', dataset_list=None, limit=500)</tt>](#retrieve)\n",
    "    * [<tt>limit</tt>](#retrieve_limit)\n",
    "    * [<tt>dataset_list</tt>](#retrieve_dataset_list)\n",
    "    * [<tt>include</tt>](#retrieve_include)\n",
    "* [<tt>retrieve_by_specid(specid_list, include='DEFAULT', dataset_list=None, limit=500)</tt>](#retrieve_by_specid)\n",
    "    * [<tt>limit</tt>](#retrieve_by_specid_limit)\n",
    "    * [<tt>dataset_list</tt>](#retrieve_by_specid_dataset_list)\n",
    "    * [<tt>include</tt>](#retrieve_by_specid_include)\n",
    "* [<tt>missing(uuid_list, dataset_list=None, countOnly=False)</tt>](#missing)\n",
    "    * [<tt>uuid_list</tt>](#missing_uuid_list)\n",
    "    * [<tt>dataset_list</tt>](#missing_dataset_list)\n",
    "    * [<tt>countOnly</tt>](#missing_countOnly)\n",
    "* [<tt>missing_specids(specid_list, dataset_list=None, countOnly=False)</tt>](#missing_specids)\n",
    "    * [<tt>specid_list</tt>](#missing_specids_specid_list)\n",
    "    * [<tt>dataset_list</tt>](#missing_specids_dataset_list)\n",
    "    * [<tt>countOnly</tt>](#missing_specids_countOnly)"
   ]
  },
  {
   "cell_type": "code",
   "execution_count": 2,
   "metadata": {},
   "outputs": [],
   "source": [
    "#!pip install sparclclient==1.2.0b4.dev1"
   ]
  },
  {
   "cell_type": "code",
   "execution_count": 3,
   "metadata": {},
   "outputs": [
    {
     "ename": "ModuleNotFoundError",
     "evalue": "No module named 'sparcl'",
     "output_type": "error",
     "traceback": [
      "\u001b[0;31m---------------------------------------------------------------------------\u001b[0m",
      "\u001b[0;31mModuleNotFoundError\u001b[0m                       Traceback (most recent call last)",
      "Cell \u001b[0;32mIn[3], line 2\u001b[0m\n\u001b[1;32m      1\u001b[0m \u001b[38;5;66;03m# SPARCL imports\u001b[39;00m\n\u001b[0;32m----> 2\u001b[0m \u001b[38;5;28;01mfrom\u001b[39;00m \u001b[38;5;21;01msparcl\u001b[39;00m\u001b[38;5;21;01m.\u001b[39;00m\u001b[38;5;21;01mclient\u001b[39;00m \u001b[38;5;28;01mimport\u001b[39;00m SparclClient\n\u001b[1;32m      4\u001b[0m \u001b[38;5;66;03m# 3rd party imports\u001b[39;00m\n\u001b[1;32m      5\u001b[0m \u001b[38;5;28;01mfrom\u001b[39;00m \u001b[38;5;21;01mtime\u001b[39;00m \u001b[38;5;28;01mimport\u001b[39;00m time\n",
      "\u001b[0;31mModuleNotFoundError\u001b[0m: No module named 'sparcl'"
     ]
    }
   ],
   "source": [
    "# SPARCL imports\n",
    "from sparcl.client import SparclClient\n",
    "\n",
    "# 3rd party imports\n",
    "from time import time\n",
    "\n",
    "# Data Lab imports\n",
    "#! from dl import queryClient as qc\n",
    "#! from dl import authClient as ac\n",
    "#! from getpass import getpass"
   ]
  },
  {
   "cell_type": "code",
   "execution_count": null,
   "metadata": {},
   "outputs": [],
   "source": [
    "client = SparclClient(url='https://sparc1.datalab.noirlab.edu')\n",
    "client"
   ]
  },
  {
   "cell_type": "markdown",
   "metadata": {},
   "source": [
    "<a class=\"anchor\" id=\"get_all_fields\"></a>\n",
    "## client.get_all_fields()"
   ]
  },
  {
   "cell_type": "code",
   "execution_count": null,
   "metadata": {},
   "outputs": [],
   "source": [
    "client.get_all_fields?"
   ]
  },
  {
   "cell_type": "code",
   "execution_count": null,
   "metadata": {},
   "outputs": [],
   "source": [
    "# Get all fields common to all datasets\n",
    "print(client.get_all_fields())"
   ]
  },
  {
   "cell_type": "markdown",
   "metadata": {},
   "source": [
    "<a class=\"anchor\" id=\"get_all_fields_dataset_list\"></a>\n",
    "### parameter to test: dataset_list"
   ]
  },
  {
   "cell_type": "code",
   "execution_count": null,
   "metadata": {},
   "outputs": [],
   "source": [
    "# Get all fields in SDSS-DR16\n",
    "print(client.get_all_fields(dataset_list=['SDSS-DR16']))"
   ]
  },
  {
   "cell_type": "code",
   "execution_count": null,
   "metadata": {},
   "outputs": [],
   "source": [
    "# Get all fields in BOSS-DR16\n",
    "print(client.get_all_fields(dataset_list=['BOSS-DR16']))"
   ]
  },
  {
   "cell_type": "code",
   "execution_count": null,
   "metadata": {},
   "outputs": [],
   "source": [
    "# Get all fields in DESI-EDR\n",
    "print(client.get_all_fields(dataset_list=['DESI-EDR']))"
   ]
  },
  {
   "cell_type": "code",
   "execution_count": null,
   "metadata": {},
   "outputs": [],
   "source": [
    "# Get all fields common to both SDSS-DR16 and DESI-EDR\n",
    "print(client.get_all_fields(dataset_list=['SDSS-DR16','DESI-EDR']))"
   ]
  },
  {
   "cell_type": "markdown",
   "metadata": {},
   "source": [
    "<a class=\"anchor\" id=\"get_default_fields\"></a>\n",
    "## client.get_default_fields()"
   ]
  },
  {
   "cell_type": "code",
   "execution_count": null,
   "metadata": {},
   "outputs": [],
   "source": [
    "client.get_default_fields?"
   ]
  },
  {
   "cell_type": "code",
   "execution_count": null,
   "metadata": {},
   "outputs": [],
   "source": [
    "# Get default fields common to all datasets\n",
    "print(client.get_default_fields())"
   ]
  },
  {
   "cell_type": "markdown",
   "metadata": {},
   "source": [
    "<a class=\"anchor\" id=\"get_default_fields_dataset_list\"></a>\n",
    "### parameter to test: dataset_list"
   ]
  },
  {
   "cell_type": "code",
   "execution_count": null,
   "metadata": {},
   "outputs": [],
   "source": [
    "# Get default fields in SDSS-DR16\n",
    "print(client.get_default_fields(dataset_list=['SDSS-DR16']))"
   ]
  },
  {
   "cell_type": "code",
   "execution_count": null,
   "metadata": {},
   "outputs": [],
   "source": [
    "# Get default fields in BOSS-DR16\n",
    "print(client.get_default_fields(dataset_list=['BOSS-DR16']))"
   ]
  },
  {
   "cell_type": "code",
   "execution_count": null,
   "metadata": {},
   "outputs": [],
   "source": [
    "# Get default fields in DESI-EDR\n",
    "print(client.get_default_fields(dataset_list=['DESI-EDR']))"
   ]
  },
  {
   "cell_type": "code",
   "execution_count": null,
   "metadata": {},
   "outputs": [],
   "source": [
    "# Get default fields common to both SDSS-DR16 and DESI-EDR\n",
    "print(client.get_default_fields(dataset_list=['SDSS-DR16','DESI-EDR']))"
   ]
  },
  {
   "cell_type": "markdown",
   "metadata": {},
   "source": [
    "<a class=\"anchor\" id=\"get_available_fields\"></a>\n",
    "## client.get_available_fields()"
   ]
  },
  {
   "cell_type": "code",
   "execution_count": null,
   "metadata": {},
   "outputs": [],
   "source": [
    "client.get_available_fields?"
   ]
  },
  {
   "cell_type": "code",
   "execution_count": null,
   "metadata": {},
   "outputs": [],
   "source": [
    "# Get available fields common to all datasets\n",
    "print(client.get_available_fields())"
   ]
  },
  {
   "cell_type": "markdown",
   "metadata": {},
   "source": [
    "<a class=\"anchor\" id=\"get_available_fields_dataset_list\"></a>\n",
    "### parameter to test: dataset_list"
   ]
  },
  {
   "cell_type": "code",
   "execution_count": null,
   "metadata": {},
   "outputs": [],
   "source": [
    "# Get available fields in SDSS-DR16\n",
    "print(client.get_available_fields(dataset_list=['SDSS-DR16']))"
   ]
  },
  {
   "cell_type": "code",
   "execution_count": null,
   "metadata": {},
   "outputs": [],
   "source": [
    "# Get available fields in BOSS-DR16\n",
    "print(client.get_available_fields(dataset_list=['BOSS-DR16']))"
   ]
  },
  {
   "cell_type": "code",
   "execution_count": null,
   "metadata": {},
   "outputs": [],
   "source": [
    "# Get available fields in DESI-EDR\n",
    "print(client.get_available_fields(dataset_list=['DESI-EDR']))"
   ]
  },
  {
   "cell_type": "code",
   "execution_count": null,
   "metadata": {},
   "outputs": [],
   "source": [
    "# Get available fields common to both SDSS-DR16 and DESI-EDR\n",
    "print(client.get_available_fields(dataset_list=['SDSS-DR16', 'DESI-EDR']))"
   ]
  },
  {
   "cell_type": "markdown",
   "metadata": {},
   "source": [
    "<a class=\"anchor\" id=\"find\"></a>\n",
    "## client.find()"
   ]
  },
  {
   "cell_type": "code",
   "execution_count": null,
   "metadata": {},
   "outputs": [],
   "source": [
    "client.find?"
   ]
  },
  {
   "cell_type": "code",
   "execution_count": null,
   "metadata": {},
   "outputs": [],
   "source": [
    "outs = ['data_release','datasetgroup','dateobs_center','dec','exptime',\n",
    "        'sparcl_id','instrument','ra','redshift','redshift_err','redshift_warning',\n",
    "        'site','specid','specprimary','spectype','targetid','telescope',\n",
    "        'wavemax','wavemin']"
   ]
  },
  {
   "cell_type": "markdown",
   "metadata": {},
   "source": [
    "<a class=\"anchor\" id=\"find_limit\"></a>\n",
    "### parameter to test: limit"
   ]
  },
  {
   "cell_type": "code",
   "execution_count": null,
   "metadata": {},
   "outputs": [],
   "source": [
    "# does the default limit work?\n",
    "client.find()"
   ]
  },
  {
   "cell_type": "code",
   "execution_count": null,
   "metadata": {},
   "outputs": [],
   "source": [
    "# does setting a limit less than the default value work?\n",
    "client.find(limit=2)"
   ]
  },
  {
   "cell_type": "code",
   "execution_count": null,
   "metadata": {},
   "outputs": [],
   "source": [
    "# does setting a limit over the default value but under\n",
    "# the maximum value work?\n",
    "client.find(limit=800)"
   ]
  },
  {
   "cell_type": "code",
   "execution_count": null,
   "metadata": {},
   "outputs": [],
   "source": [
    "# does setting the limit to None work?\n",
    "client.find(limit=None)"
   ]
  },
  {
   "cell_type": "markdown",
   "metadata": {},
   "source": [
    "<a class=\"anchor\" id=\"find_constraints\"></a>\n",
    "### parameter to test: constraints"
   ]
  },
  {
   "cell_type": "code",
   "execution_count": null,
   "metadata": {},
   "outputs": [],
   "source": [
    "# No constraints passed\n",
    "\n",
    "found = client.find(outfields=outs, limit=10)\n",
    "print(f\"# records found: {len(found.records)}\")\n",
    "print(f\"Datasets found: {set([f['data_release'] for f in found.records])}\")\n",
    "print(f\"First record: {found.records[0]}\")"
   ]
  },
  {
   "cell_type": "code",
   "execution_count": null,
   "metadata": {},
   "outputs": [],
   "source": [
    "# No outfields passed\n",
    "\n",
    "cons = {'data_release': ['SDSS-DR16'],\n",
    "         'dec': [4,29],\n",
    "         'exptime': [2000,12000],\n",
    "         'ra': [80,136],\n",
    "         'redshift': [2,5]}\n",
    "\n",
    "found = client.find(constraints=cons, limit=10)\n",
    "print(f\"# records found: {len(found.records)}\")\n",
    "print(f\"First record: {found.records[0]}\")"
   ]
  },
  {
   "cell_type": "code",
   "execution_count": null,
   "metadata": {},
   "outputs": [],
   "source": [
    "# Invalid constraint value: data_release\n",
    "\n",
    "cons = {'data_release': [{'poppy'}]}\n",
    "\n",
    "try:\n",
    "    found = client.find(outfields=outs, constraints=cons, limit=10)\n",
    "except Exception as e:\n",
    "    print(e)"
   ]
  },
  {
   "cell_type": "code",
   "execution_count": null,
   "metadata": {},
   "outputs": [],
   "source": [
    "# Invalid constraint value: datasetgroup\n",
    "\n",
    "cons = {'datasetgroup': [{'daffodil'}]}\n",
    "\n",
    "try:\n",
    "    found = client.find(outfields=outs, constraints=cons, limit=10)\n",
    "except Exception as e:\n",
    "    print(e)"
   ]
  },
  {
   "cell_type": "code",
   "execution_count": null,
   "metadata": {},
   "outputs": [],
   "source": [
    "# Invalid constraint value: dateobs_center\n",
    "\n",
    "cons = {'dateobs_center': ['2011-12-21 12:00']}\n",
    "\n",
    "try:\n",
    "    found = client.find(outfields=outs, constraints=cons, limit=10)\n",
    "except Exception as e:\n",
    "    print(e)"
   ]
  },
  {
   "cell_type": "code",
   "execution_count": null,
   "metadata": {},
   "outputs": [],
   "source": [
    "# Invalid constraint value: dec\n",
    "\n",
    "cons = {'dec': [29]}\n",
    "\n",
    "try:\n",
    "    found = client.find(outfields=outs, constraints=cons, limit=10)\n",
    "except Exception as e:\n",
    "    print(e)"
   ]
  },
  {
   "cell_type": "code",
   "execution_count": null,
   "metadata": {},
   "outputs": [],
   "source": [
    "# Invalid constraint value: exptime\n",
    "\n",
    "cons = {'exptime': [30]}\n",
    "\n",
    "try:\n",
    "    found = client.find(outfields=outs, constraints=cons, limit=10)\n",
    "except Exception as e:\n",
    "    print(e)"
   ]
  },
  {
   "cell_type": "code",
   "execution_count": null,
   "metadata": {},
   "outputs": [],
   "source": [
    "# Invalid constraint value: instrument\n",
    "\n",
    "cons = {'instrument': [{'hyacinth'}]}\n",
    "\n",
    "try:\n",
    "    found = client.find(outfields=outs, constraints=cons, limit=10)\n",
    "except Exception as e:\n",
    "    print(e)"
   ]
  },
  {
   "cell_type": "code",
   "execution_count": null,
   "metadata": {},
   "outputs": [],
   "source": [
    "# Invalid constraint value: ra\n",
    "\n",
    "cons = {'ra': [80]}\n",
    "\n",
    "try:\n",
    "    found = client.find(outfields=outs, constraints=cons, limit=10)\n",
    "except Exception as e:\n",
    "    print(e)"
   ]
  },
  {
   "cell_type": "code",
   "execution_count": null,
   "metadata": {},
   "outputs": [],
   "source": [
    "# Invalid constraint value: redshift\n",
    "\n",
    "cons = {'redshift': [1]}\n",
    "\n",
    "try:\n",
    "    found = client.find(outfields=outs, constraints=cons, limit=10)\n",
    "except Exception as e:\n",
    "    print(e)"
   ]
  },
  {
   "cell_type": "code",
   "execution_count": null,
   "metadata": {},
   "outputs": [],
   "source": [
    "# Invalid constraint value: redshift_err\n",
    "\n",
    "cons = {'redshift_err': [0.0001]}\n",
    "\n",
    "try:\n",
    "    found = client.find(outfields=outs, constraints=cons, limit=10)\n",
    "except Exception as e:\n",
    "    print(e)"
   ]
  },
  {
   "cell_type": "code",
   "execution_count": null,
   "metadata": {},
   "outputs": [],
   "source": [
    "# Invalid constraint value: redshift_warning\n",
    "\n",
    "cons = {'redshift_warning': ['magnolia']}\n",
    "\n",
    "try:\n",
    "    found = client.find(outfields=outs, constraints=cons, limit=10)\n",
    "except Exception as e:\n",
    "    print(e)"
   ]
  },
  {
   "cell_type": "code",
   "execution_count": null,
   "metadata": {},
   "outputs": [],
   "source": [
    "# Invalid constraint value: site\n",
    "\n",
    "cons = {'site': [{'lotus'}]}\n",
    "\n",
    "try:\n",
    "    found = client.find(outfields=outs, constraints=cons, limit=10)\n",
    "except Exception as e:\n",
    "    print(e)"
   ]
  },
  {
   "cell_type": "code",
   "execution_count": null,
   "metadata": {},
   "outputs": [],
   "source": [
    "# Invalid constraint value: specprimary\n",
    "\n",
    "cons = {'specprimary': ['chrysanthemum']}\n",
    "\n",
    "try:\n",
    "    found = client.find(outfields=outs, constraints=cons, limit=10)\n",
    "except Exception as e:\n",
    "    print(e)"
   ]
  },
  {
   "cell_type": "code",
   "execution_count": null,
   "metadata": {},
   "outputs": [],
   "source": [
    "# Invalid constraint value: spectype\n",
    "\n",
    "cons = {'spectype': [{'tulip'}]}\n",
    "\n",
    "try:\n",
    "    found = client.find(outfields=outs, constraints=cons, limit=10)\n",
    "except Exception as e:\n",
    "    print(e)"
   ]
  },
  {
   "cell_type": "code",
   "execution_count": null,
   "metadata": {},
   "outputs": [],
   "source": [
    "# Invalid constraint value: telescope\n",
    "\n",
    "cons = {'telescope': [{'carnation'}]}\n",
    "\n",
    "try:\n",
    "    found = client.find(outfields=outs, constraints=cons, limit=10)\n",
    "except Exception as e:\n",
    "    print(e)"
   ]
  },
  {
   "cell_type": "code",
   "execution_count": null,
   "metadata": {},
   "outputs": [],
   "source": [
    "# Invalid constraint value: wavemax\n",
    "\n",
    "cons = {'wavemax': [10500]}\n",
    "\n",
    "try:\n",
    "    found = client.find(outfields=outs, constraints=cons, limit=10)\n",
    "except Exception as e:\n",
    "    print(e)"
   ]
  },
  {
   "cell_type": "code",
   "execution_count": null,
   "metadata": {},
   "outputs": [],
   "source": [
    "# Invalid constraint value: wavemin\n",
    "\n",
    "cons = {'wavemin': [3800]}\n",
    "\n",
    "try:\n",
    "    found = client.find(outfields=outs, constraints=cons, limit=10)\n",
    "except Exception as e:\n",
    "    print(e)"
   ]
  },
  {
   "cell_type": "code",
   "execution_count": null,
   "metadata": {},
   "outputs": [],
   "source": [
    "# Test all possible constraint fields with specified constraint values,\n",
    "# SDSS-DR16 only\n",
    "\n",
    "cons = {'data_release': ['SDSS-DR16'],\n",
    "         'datasetgroup': ['SDSS_BOSS'],\n",
    "         'dateobs_center': ['2003-11-21 00:00','2011-12-21 00:00'],\n",
    "         'dec': [4,29],\n",
    "         'exptime': [2000,12000],\n",
    "         'instrument': ['SDSS','BOSS'],\n",
    "         'ra': [80,136],\n",
    "         'redshift': [2,5],\n",
    "         'redshift_err': [0.0001,0.001],\n",
    "         'redshift_warning': [0,3,5],\n",
    "         'site': ['apo'],\n",
    "         'specprimary': [1],\n",
    "         'spectype': ['QSO','GALAXY'],\n",
    "         'telescope': ['sloan25m'],\n",
    "         'wavemax': [9210,10500],\n",
    "         'wavemin': [3800,3900]}\n",
    "\n",
    "found = client.find(outfields=outs, constraints=cons, limit=10)\n",
    "print(f\"# records found: {len(found.records)}\")\n",
    "print(f\"Datasets found: {set([f['data_release'] for f in found.records])}\")\n",
    "print(f\"First record: {found.records[0]}\")"
   ]
  },
  {
   "cell_type": "code",
   "execution_count": null,
   "metadata": {},
   "outputs": [],
   "source": [
    "# Test all possible constraint fields with specified constraint values,\n",
    "# BOSS-DR16 only\n",
    "\n",
    "cons = {'data_release': ['BOSS-DR16'],\n",
    "         'datasetgroup': ['SDSS_BOSS'],\n",
    "         'dateobs_center': ['2018-10-07 08:44:43+00:00', '2018-10-07 08:44:43+00:00'],\n",
    "         'dec': [4,20],\n",
    "         'exptime': [2000,12000],\n",
    "         'instrument': ['SDSS','BOSS'],\n",
    "         'ra': [20,150],\n",
    "         'redshift': [0,3],\n",
    "         'redshift_err': [0.0001,0.002],\n",
    "         'redshift_warning': [0],\n",
    "         'site': ['apo'],\n",
    "         'specprimary': [1],\n",
    "         'spectype': ['QSO','GALAXY'],\n",
    "         'telescope': ['sloan25m'],\n",
    "         'wavemax': [9210,10500],\n",
    "         'wavemin': [3200,3900]}\n",
    "\n",
    "found = client.find(outfields=outs, constraints=cons, limit=10)\n",
    "print(f\"# records found: {len(found.records)}\")\n",
    "print(f\"Datasets found: {set([f['data_release'] for f in found.records])}\")\n",
    "print(f\"First record: {found.records[0]}\")"
   ]
  },
  {
   "cell_type": "code",
   "execution_count": null,
   "metadata": {},
   "outputs": [],
   "source": [
    "# Test constraint fields with specified constraint values,\n",
    "# DESI-EDR only\n",
    "\n",
    "cons = {'data_release': ['DESI-EDR'],\n",
    "         'dec': [50,90],\n",
    "         'exptime': [2000,2500],\n",
    "         'instrument': ['DESI'],\n",
    "         'ra': [150,190],\n",
    "         'redshift': [1,1.7],\n",
    "         'redshift_err': [0.00006,0.0001],\n",
    "         'redshift_warning': [0,5],\n",
    "         'site': ['kpno'],\n",
    "         'specprimary': [1],\n",
    "         'spectype': ['GALAXY','STAR'],\n",
    "         'telescope': ['kp4m'],\n",
    "         'wavemax': [9700,9900],\n",
    "         'wavemin': [3500,3700]}\n",
    "\n",
    "found = client.find(outfields=outs, constraints=cons, limit=10)\n",
    "print(f\"# records found: {len(found.records)}\")\n",
    "print(f\"Datasets found: {set([f['data_release'] for f in found.records])}\")\n",
    "print(f\"First record: {found.records[0]}\")"
   ]
  },
  {
   "cell_type": "code",
   "execution_count": null,
   "metadata": {},
   "outputs": [],
   "source": [
    "# Test constraint fields with specified constraint values,\n",
    "# all datasets\n",
    "\n",
    "cons = {'data_release': ['BOSS-DR16','SDSS-DR16','DESI-EDR'],\n",
    "         'datasetgroup': ['SDSS_BOSS','DESI'],\n",
    "         'dec': [4,29],\n",
    "         'exptime': [2000,12000],\n",
    "         'instrument': ['SDSS','BOSS','DESI'],\n",
    "         'ra': [80,136],\n",
    "         'redshift': [2,5],\n",
    "         'redshift_err': [0.0001,0.001],\n",
    "         'redshift_warning': [0,3,5],\n",
    "         'site': ['apo','kpno'],\n",
    "         'specprimary': [1],\n",
    "         'spectype': ['QSO','GALAXY'],\n",
    "         'telescope': ['sloan25m','kp4m']}\n",
    "\n",
    "found = client.find(outfields=outs, constraints=cons, limit=50)\n",
    "print(f\"# records found: {len(found.records)}\")\n",
    "print(f\"Datasets found: {set([f['data_release'] for f in found.records])}\")\n",
    "print(f\"First record: {found.records[0]}\")"
   ]
  },
  {
   "cell_type": "code",
   "execution_count": null,
   "metadata": {},
   "outputs": [],
   "source": [
    "# Test combo of constraint fields with specified constraint values:\n",
    "# datasetgroup, redshift, specprimary, redshift_warning, spectype\n",
    "\n",
    "cons = {'datasetgroup': ['SDSS_BOSS'],\n",
    "         'redshift': [0,0.2],\n",
    "         'specprimary': [1],\n",
    "         'redshift_warning': [0],\n",
    "         'spectype': ['STAR']}\n",
    "\n",
    "found = client.find(outfields=outs, constraints=cons, limit=10)\n",
    "print(f\"# records found: {len(found.records)}\")\n",
    "print(f\"Datasets found: {set([f['data_release'] for f in found.records])}\")\n",
    "print(f\"First record: {found.records[0]}\")"
   ]
  },
  {
   "cell_type": "code",
   "execution_count": null,
   "metadata": {},
   "outputs": [],
   "source": [
    "# Test combo of constraint fields with specified constraint values:\n",
    "# datasetgroup, exptime, redshift_warning\n",
    "\n",
    "cons = {'datasetgroup': ['DESI'],\n",
    "         'exptime': [1000.2,1000.6],\n",
    "         'redshift_warning': [4]}\n",
    "\n",
    "found = client.find(outfields=outs, constraints=cons, limit=10)\n",
    "print(f\"# records found: {len(found.records)}\")\n",
    "print(f\"Datasets found: {set([f['data_release'] for f in found.records])}\")\n",
    "print(f\"First record: {found.records[0]}\")"
   ]
  },
  {
   "cell_type": "code",
   "execution_count": null,
   "metadata": {},
   "outputs": [],
   "source": [
    "# Test instrument and telescope constraint fields, SDSS-DR16 only\n",
    "\n",
    "cons = {'instrument': ['SDSS'],\n",
    "         'telescope': ['sloan25m']}\n",
    "\n",
    "found = client.find(outfields=outs, constraints=cons, limit=10)\n",
    "print(f\"# records found: {len(found.records)}\")\n",
    "print(f\"Datasets found: {set([f['data_release'] for f in found.records])}\")\n",
    "print(f\"First record: {found.records[0]}\")"
   ]
  },
  {
   "cell_type": "code",
   "execution_count": null,
   "metadata": {},
   "outputs": [],
   "source": [
    "# Test instrument and telescope constraint fields, BOSS-DR16 only\n",
    "\n",
    "cons = {'instrument': ['BOSS'],\n",
    "         'telescope': ['sloan25m']}\n",
    "\n",
    "found = client.find(outfields=outs, constraints=cons, limit=10)\n",
    "print(f\"# records found: {len(found.records)}\")\n",
    "print(f\"Datasets found: {set([f['data_release'] for f in found.records])}\")\n",
    "print(f\"First record: {found.records[0]}\")"
   ]
  },
  {
   "cell_type": "code",
   "execution_count": null,
   "metadata": {},
   "outputs": [],
   "source": [
    "# Test instrument and telescope constraint fields, DESI-EDR only\n",
    "\n",
    "cons = {'instrument': ['DESI'],\n",
    "         'telescope': ['kp4m']}\n",
    "\n",
    "found = client.find(outfields=outs, constraints=cons, limit=10)\n",
    "print(f\"# records found: {len(found.records)}\")\n",
    "print(f\"Datasets found: {set([f['data_release'] for f in found.records])}\")\n",
    "print(f\"First record: {found.records[0]}\")"
   ]
  },
  {
   "cell_type": "code",
   "execution_count": null,
   "metadata": {},
   "outputs": [],
   "source": [
    "# Test combo of constraint fields with specified constraint values:\n",
    "# site, specprimary, spectype\n",
    "\n",
    "cons = {'site': ['apo'],\n",
    "         'specprimary': [1],\n",
    "         'spectype': ['STAR']}\n",
    "\n",
    "found = client.find(outfields=outs, constraints=cons, limit=10)\n",
    "print(f\"# records found: {len(found.records)}\")\n",
    "print(f\"Datasets found: {set([f['data_release'] for f in found.records])}\")\n",
    "print(f\"First record: {found.records[0]}\")"
   ]
  },
  {
   "cell_type": "code",
   "execution_count": null,
   "metadata": {},
   "outputs": [],
   "source": [
    "# Test combo of constraint fields with specified constraint values:\n",
    "# site, specprimary, exptime\n",
    "\n",
    "cons = {'site': ['kpno'],\n",
    "         'specprimary': [1],\n",
    "         'exptime': [3000,3010]}\n",
    "\n",
    "found = client.find(outfields=outs, constraints=cons, limit=10)\n",
    "print(f\"# records found: {len(found.records)}\")\n",
    "print(f\"Datasets found: {set([f['data_release'] for f in found.records])}\")\n",
    "print(f\"First record: {found.records[0]}\")"
   ]
  },
  {
   "cell_type": "markdown",
   "metadata": {},
   "source": [
    "<a class=\"anchor\" id=\"find_outfields\"></a>\n",
    "### parameter to test: outfields"
   ]
  },
  {
   "cell_type": "code",
   "execution_count": null,
   "metadata": {},
   "outputs": [],
   "source": [
    "# No constraints passed, no limit passed\n",
    "\n",
    "found = client.find(outfields=outs)\n",
    "print(f\"# records found: {len(found.records)}\")\n",
    "print(f\"Datasets found: {set([f['data_release'] for f in found.records])}\")\n",
    "print(f\"First record: {found.records[0]}\")"
   ]
  },
  {
   "cell_type": "code",
   "execution_count": null,
   "metadata": {},
   "outputs": [],
   "source": [
    "# AUX field in only SDSS-DR16 and BOSS-DR16\n",
    "found = client.find(outfields=['run2d','data_release'])\n",
    "print(f\"# records found: {len(found.records)}\")\n",
    "print(f\"Datasets found: {set([f['data_release'] for f in found.records])}\")\n",
    "print(f\"First record: {found.records[0]}\")"
   ]
  },
  {
   "cell_type": "code",
   "execution_count": null,
   "metadata": {},
   "outputs": [],
   "source": [
    "# AUX field in only DESI-EDR\n",
    "found = client.find(outfields=['healpix','data_release'])\n",
    "print(f\"# records found: {len(found.records)}\")\n",
    "print(f\"Datasets found: {set([f['data_release'] for f in found.records])}\")\n",
    "print(f\"First record: {found.records[0]}\")"
   ]
  },
  {
   "cell_type": "code",
   "execution_count": null,
   "metadata": {},
   "outputs": [],
   "source": [
    "# AUX field in all datasets\n",
    "found = client.find(outfields=['survey','data_release'])\n",
    "print(f\"# records found: {len(found.records)}\")\n",
    "print(f\"Datasets found: {set([f['data_release'] for f in found.records])}\")\n",
    "print(f\"First record: {found.records[0]}\")"
   ]
  },
  {
   "cell_type": "code",
   "execution_count": null,
   "metadata": {},
   "outputs": [],
   "source": [
    "# Field does not exist in any dataset\n",
    "found = client.find(outfields=['petunia'])\n",
    "print(f\"# records found: {len(found.records)}\")\n",
    "print(f\"First record: {found.records[0]}\")"
   ]
  },
  {
   "cell_type": "code",
   "execution_count": null,
   "metadata": {},
   "outputs": [],
   "source": [
    "# Field exists in at least one dataset\n",
    "found = client.find(outfields=['fiberid','data_release'])\n",
    "print(f\"# records found: {len(found.records)}\")\n",
    "print(f\"Datasets found: {set([f['data_release'] for f in found.records])}\")\n",
    "print(f\"First record: {found.records[0]}\")"
   ]
  },
  {
   "cell_type": "code",
   "execution_count": null,
   "metadata": {},
   "outputs": [],
   "source": [
    "# One field exists in at least one dataset, another field does not exist\n",
    "# in any datasets\n",
    "found = client.find(outfields=['plate','dahlia','data_release'])\n",
    "print(f\"# records found: {len(found.records)}\")\n",
    "print(f\"Datasets found: {set([f['data_release'] for f in found.records])}\")\n",
    "print(f\"First record: {found.records[0]}\")"
   ]
  },
  {
   "cell_type": "code",
   "execution_count": null,
   "metadata": {},
   "outputs": [],
   "source": [
    "# A field does not exist in the specified data_release\n",
    "try:\n",
    "    found = client.find(outfields=['location','data_release'],constraints={'data_release':['SDSS-DR16']})\n",
    "    print(f\"# records found: {len(found.records)}\")\n",
    "    print(f\"Datasets found: {set([f['data_release'] for f in found.records])}\")\n",
    "    print(f\"First record: {found.records[0]}\")\n",
    "except Exception as e:\n",
    "    print(e)"
   ]
  },
  {
   "cell_type": "code",
   "execution_count": null,
   "metadata": {},
   "outputs": [],
   "source": [
    "# A field exists in only one of the specified data_releases\n",
    "found = client.find(outfields=['sv_primary','data_release'],constraints={'data_release':['SDSS-DR16','DESI-EDR']})\n",
    "print(f\"# records found: {len(found.records)}\")\n",
    "print(f\"Datasets found: {set([f['data_release'] for f in found.records])}\")\n",
    "print(f\"First record: {found.records[0]}\")"
   ]
  },
  {
   "cell_type": "markdown",
   "metadata": {},
   "source": [
    "<a class=\"anchor\" id=\"find_sort\"></a>\n",
    "### parameter to test: sort"
   ]
  },
  {
   "cell_type": "code",
   "execution_count": null,
   "metadata": {},
   "outputs": [],
   "source": [
    "def sortby(sort_field,cons={},lim=500):\n",
    "    found = client.find(outfields=outs,constraints=cons,sort=f'{sort_field}',limit=lim)\n",
    "    print(f\"Records found: {len(found.records)}\")\n",
    "    print(f\"Datasets found: {set([f['data_release'] for f in found.records])}\\n\")\n",
    "    print(f\"First record: {found.records[0]}\\n\")\n",
    "    print(f\"{sort_field} in first 5 records:\")\n",
    "    for i in range(5):\n",
    "        print(found.records[i][sort_field])\n",
    "    print(f\"\\n{sort_field} in last 5 records:\")\n",
    "    for i in range(495,500):\n",
    "        print(found.records[i][sort_field])"
   ]
  },
  {
   "cell_type": "code",
   "execution_count": null,
   "metadata": {},
   "outputs": [],
   "source": [
    "sortby('dateobs_center',cons={'dateobs_center':['2000-05-02T23:59:59Z','2000-08-07T03:47:16Z']})"
   ]
  },
  {
   "cell_type": "code",
   "execution_count": null,
   "metadata": {},
   "outputs": [],
   "source": [
    "sortby('dec',cons={'dec':[4,4.3]})"
   ]
  },
  {
   "cell_type": "code",
   "execution_count": null,
   "metadata": {},
   "outputs": [],
   "source": [
    "sortby('exptime')"
   ]
  },
  {
   "cell_type": "code",
   "execution_count": null,
   "metadata": {},
   "outputs": [],
   "source": [
    "sortby('ra',cons={'ra':[3,3.3]})"
   ]
  },
  {
   "cell_type": "code",
   "execution_count": null,
   "metadata": {},
   "outputs": [],
   "source": [
    "sortby('redshift',cons={'redshift':[0.9,0.91]})"
   ]
  },
  {
   "cell_type": "code",
   "execution_count": null,
   "metadata": {},
   "outputs": [],
   "source": [
    "sortby('redshift_err',cons={'redshift_err':[10.0,20.0]})"
   ]
  },
  {
   "cell_type": "code",
   "execution_count": null,
   "metadata": {},
   "outputs": [],
   "source": [
    "sortby('redshift_warning',cons={'redshift_warning':[1,3,5]})"
   ]
  },
  {
   "cell_type": "code",
   "execution_count": null,
   "metadata": {},
   "outputs": [],
   "source": [
    "found = client.find(outfields=outs,sort='id')\n",
    "print(f\"# records found: {len(found.records)}\")\n",
    "print(f\"Datasets found: {set([f['data_release'] for f in found.records])}\\n\")\n",
    "print(f\"First record: {found.records[0]}\\n\")\n",
    "print(\"sparcl_id in first 5 records:\")\n",
    "for i in range(5):\n",
    "    print(found.records[i].sparcl_id)\n",
    "print(\"\\nsparcl_id in last 5 records:\")\n",
    "for i in range(495,500):\n",
    "    print(found.records[i].sparcl_id)"
   ]
  },
  {
   "cell_type": "code",
   "execution_count": null,
   "metadata": {},
   "outputs": [],
   "source": [
    "sortby('specid',cons={'data_release':['DESI-EDR']})"
   ]
  },
  {
   "cell_type": "code",
   "execution_count": null,
   "metadata": {},
   "outputs": [],
   "source": [
    "sortby('specprimary',cons={'data_release':['BOSS-DR16','DESI-EDR']},lim=1000)"
   ]
  },
  {
   "cell_type": "code",
   "execution_count": null,
   "metadata": {},
   "outputs": [],
   "source": [
    "sortby('spectype')"
   ]
  },
  {
   "cell_type": "code",
   "execution_count": null,
   "metadata": {},
   "outputs": [],
   "source": [
    "sortby('targetid',cons={'data_release':['DESI-EDR']})"
   ]
  },
  {
   "cell_type": "code",
   "execution_count": null,
   "metadata": {},
   "outputs": [],
   "source": [
    "sortby('wavemax',cons={'wavemax':[10,10000]})"
   ]
  },
  {
   "cell_type": "code",
   "execution_count": null,
   "metadata": {},
   "outputs": [],
   "source": [
    "sortby('wavemin',cons={'data_release':['SDSS-DR16','BOSS-DR16'],'wavemin':[1,5000]})"
   ]
  },
  {
   "cell_type": "code",
   "execution_count": null,
   "metadata": {},
   "outputs": [],
   "source": [
    "print(\"\\n###################### UNSORTED ######################\\n\")\n",
    "found = client.find(outfields=outs,constraints={'ra':[1,200],'dec':[0,80]})\n",
    "print(f\"Records found: {len(found.records)}\")\n",
    "print(f\"Datasets found: {set([f['data_release'] for f in found.records])}\\n\")\n",
    "print(f\"First record: {found.records[0]}\\n\")\n",
    "print(f\"ra, dec in first 5 records:\")\n",
    "for i in range(5):\n",
    "    print(f\"{found.records[i]['ra']}, {found.records[i]['dec']}\")\n",
    "print(f\"\\nra, dec in last 5 records:\")\n",
    "for i in range(495,500):\n",
    "    print(f\"{found.records[i]['ra']}, {found.records[i]['dec']}\")\n",
    "\n",
    "print(\"\\n###################### SORTED ######################\\n\")\n",
    "found = client.find(outfields=outs,constraints={'ra':[1,200],'dec':[0,80]},sort='ra,dec')\n",
    "print(f\"Records found: {len(found.records)}\")\n",
    "print(f\"Datasets found: {set([f['data_release'] for f in found.records])}\\n\")\n",
    "print(f\"First record: {found.records[0]}\\n\")\n",
    "print(f\"ra, dec in first 5 records:\")\n",
    "for i in range(5):\n",
    "    print(f\"{found.records[i]['ra']}, {found.records[i]['dec']}\")\n",
    "print(f\"\\nra, dec in last 5 records:\")\n",
    "for i in range(495,500):\n",
    "    print(f\"{found.records[i]['ra']}, {found.records[i]['dec']}\")"
   ]
  },
  {
   "cell_type": "markdown",
   "metadata": {},
   "source": [
    "<a class=\"anchor\" id=\"retrieve\"></a>\n",
    "## client.retrieve()"
   ]
  },
  {
   "cell_type": "code",
   "execution_count": null,
   "metadata": {},
   "outputs": [],
   "source": [
    "client.retrieve?"
   ]
  },
  {
   "cell_type": "code",
   "execution_count": null,
   "metadata": {},
   "outputs": [],
   "source": [
    "ids_lots = client.find(limit=60000).ids"
   ]
  },
  {
   "cell_type": "code",
   "execution_count": null,
   "metadata": {},
   "outputs": [],
   "source": [
    "# ids from SDSS-DR16 only\n",
    "ids_sdss = client.find(outfields=['sparcl_id'],\n",
    "                       constraints={'data_release':['SDSS-DR16']},\n",
    "                       limit=3).ids\n",
    "\n",
    "# ids from BOSS-DR16 only\n",
    "ids_boss = client.find(outfields=['sparcl_id'],\n",
    "                       constraints={'data_release':['BOSS-DR16']},\n",
    "                       limit=3).ids\n",
    "\n",
    "# ids from DESI-EDR only\n",
    "ids_desi = client.find(outfields=['sparcl_id'],\n",
    "                       constraints={'data_release':['DESI-EDR']},\n",
    "                       limit=3).ids\n",
    "\n",
    "# ids from any dataset\n",
    "ids_any = ids_sdss + ids_boss + ids_desi"
   ]
  },
  {
   "cell_type": "markdown",
   "metadata": {},
   "source": [
    "<a class=\"anchor\" id=\"retrieve_limit\"></a>\n",
    "### parameter to test: limit"
   ]
  },
  {
   "cell_type": "code",
   "execution_count": null,
   "metadata": {},
   "outputs": [],
   "source": [
    "# does the default limit work?\n",
    "client.retrieve(uuid_list=ids_lots)"
   ]
  },
  {
   "cell_type": "code",
   "execution_count": null,
   "metadata": {},
   "outputs": [],
   "source": [
    "# does setting a limit less than the default value work?\n",
    "client.retrieve(uuid_list=ids_lots,limit=2)"
   ]
  },
  {
   "cell_type": "code",
   "execution_count": null,
   "metadata": {},
   "outputs": [],
   "source": [
    "# does setting a limit over the default value but under\n",
    "# the maximum value work?\n",
    "client.retrieve(uuid_list=ids_lots,limit=800)"
   ]
  },
  {
   "cell_type": "code",
   "execution_count": null,
   "metadata": {},
   "outputs": [],
   "source": [
    "# does trying to retrieve more than the maximum allowed\n",
    "# by setting limit=30000 produce the right error message?\n",
    "try:\n",
    "    client.retrieve(uuid_list=ids_lots,limit=30000)\n",
    "except Exception as e:\n",
    "    print(e)"
   ]
  },
  {
   "cell_type": "code",
   "execution_count": null,
   "metadata": {},
   "outputs": [],
   "source": [
    "# does trying to retrieve more than the maximum allowed\n",
    "# by setting limit=None produce the right error message?\n",
    "try:\n",
    "    client.retrieve(uuid_list=ids_lots,limit=None)\n",
    "except Exception as e:\n",
    "    print(e)"
   ]
  },
  {
   "cell_type": "markdown",
   "metadata": {},
   "source": [
    "<a class=\"anchor\" id=\"retrieve_dataset_list\"></a>\n",
    "### parameter to test: dataset_list"
   ]
  },
  {
   "cell_type": "code",
   "execution_count": null,
   "metadata": {},
   "outputs": [],
   "source": [
    "# Retrieve from all datasets (dataset_list=None, the default)\n",
    "r = client.retrieve(uuid_list=ids_any, include=['data_release'])\n",
    "set([f['data_release'] for f in r.records])"
   ]
  },
  {
   "cell_type": "code",
   "execution_count": null,
   "metadata": {},
   "outputs": [],
   "source": [
    "# Retrieve from only SDSS-DR16 (should get a warning about missing ids)\n",
    "r = client.retrieve(uuid_list=ids_any, include=['data_release'], dataset_list=['SDSS-DR16'])\n",
    "set([f['data_release'] for f in r.records])"
   ]
  },
  {
   "cell_type": "code",
   "execution_count": null,
   "metadata": {},
   "outputs": [],
   "source": [
    "# Retrieve from only BOSS-DR16 (should get a warning about missing ids)\n",
    "r = client.retrieve(uuid_list=ids_any, include=['data_release'], dataset_list=['BOSS-DR16'])\n",
    "set([f['data_release'] for f in r.records])"
   ]
  },
  {
   "cell_type": "code",
   "execution_count": null,
   "metadata": {},
   "outputs": [],
   "source": [
    "# Retrieve from only DESI-EDR (should get a warning about missing ids)\n",
    "r = client.retrieve(uuid_list=ids_any, include=['data_release'], dataset_list=['DESI-EDR'])\n",
    "set([f['data_release'] for f in r.records])"
   ]
  },
  {
   "cell_type": "code",
   "execution_count": null,
   "metadata": {},
   "outputs": [],
   "source": [
    "# Retrieve from only SDSS-DR16 and DESI-EDR (should get a warning about missing ids)\n",
    "r = client.retrieve(uuid_list=ids_any, include=['data_release'], dataset_list=['SDSS-DR16','DESI-EDR'])\n",
    "set([f['data_release'] for f in r.records])"
   ]
  },
  {
   "cell_type": "markdown",
   "metadata": {},
   "source": [
    "<a class=\"anchor\" id=\"retrieve_include\"></a>\n",
    "### parameter to test: include"
   ]
  },
  {
   "cell_type": "code",
   "execution_count": null,
   "metadata": {},
   "outputs": [],
   "source": [
    "# include only default fields common to all datasets\n",
    "r = client.retrieve(uuid_list=ids_any, include='DEFAULT')\n",
    "print([set(r.records[i].keys()) for i in range(len(r.records))][0])"
   ]
  },
  {
   "cell_type": "code",
   "execution_count": null,
   "metadata": {},
   "outputs": [],
   "source": [
    "# include all fields common to all datasets\n",
    "r = client.retrieve(uuid_list=ids_any, include='ALL')\n",
    "print([set(r.records[i].keys()) for i in range(len(r.records))][0])"
   ]
  },
  {
   "cell_type": "code",
   "execution_count": null,
   "metadata": {},
   "outputs": [],
   "source": [
    "# include all fields in SDSS-DR16 only (should get a warning about missing ids)\n",
    "r = client.retrieve(uuid_list=ids_any, include='ALL', dataset_list=['SDSS-DR16'])\n",
    "print([set(r.records[i].keys()) for i in range(len(r.records))][0])"
   ]
  },
  {
   "cell_type": "code",
   "execution_count": null,
   "metadata": {},
   "outputs": [],
   "source": [
    "# include all fields in BOSS-DR16 only (should get a warning about missing ids)\n",
    "r = client.retrieve(uuid_list=ids_any, include='ALL', dataset_list=['BOSS-DR16'])\n",
    "print([set(r.records[i].keys()) for i in range(len(r.records))][0])"
   ]
  },
  {
   "cell_type": "code",
   "execution_count": null,
   "metadata": {},
   "outputs": [],
   "source": [
    "# include all fields in DESI-EDR only (should get a warning about missing ids)\n",
    "r = client.retrieve(uuid_list=ids_any, include='ALL', dataset_list=['DESI-EDR'])\n",
    "print([set(r.records[i].keys()) for i in range(len(r.records))][0])"
   ]
  },
  {
   "cell_type": "code",
   "execution_count": null,
   "metadata": {},
   "outputs": [],
   "source": [
    "# include all fields in SDSS-DR16 and DESI-EDR only (should get a warning about missing ids)\n",
    "r = client.retrieve(uuid_list=ids_any, include='ALL', dataset_list=['SDSS-DR16','DESI-EDR'])\n",
    "print([set(r.records[i].keys()) for i in range(len(r.records))][0])"
   ]
  },
  {
   "cell_type": "code",
   "execution_count": null,
   "metadata": {},
   "outputs": [],
   "source": [
    "# include only specified fields\n",
    "r = client.retrieve(uuid_list=ids_any, include=['sparcl_id','flux','redshift'])\n",
    "print([set(r.records[i].keys()) for i in range(len(r.records))][0])"
   ]
  },
  {
   "cell_type": "code",
   "execution_count": null,
   "metadata": {},
   "outputs": [],
   "source": [
    "# include aux fields in SDSS-DR16 only\n",
    "r = client.retrieve(uuid_list=ids_sdss, include=['run2d','primtarget'], dataset_list=['SDSS-DR16'])\n",
    "print([set(r.records[i].keys()) for i in range(len(r.records))][0])"
   ]
  },
  {
   "cell_type": "code",
   "execution_count": null,
   "metadata": {},
   "outputs": [],
   "source": [
    "# include aux fields in BOSS-DR16 only\n",
    "r = client.retrieve(uuid_list=ids_boss, include=['fiberid','mjd'], dataset_list=['BOSS-DR16'])\n",
    "print([set(r.records[i].keys()) for i in range(len(r.records))][0])"
   ]
  },
  {
   "cell_type": "code",
   "execution_count": null,
   "metadata": {},
   "outputs": [],
   "source": [
    "# include aux fields in BOSS-DR16 only\n",
    "r = client.retrieve(uuid_list=ids_any, include=['fiberid','mjd'], dataset_list=['BOSS-DR16'])\n",
    "print([set(r.records[i].keys()) for i in range(len(r.records))][0])"
   ]
  },
  {
   "cell_type": "code",
   "execution_count": null,
   "metadata": {},
   "outputs": [],
   "source": [
    "# include aux fields in DESI-EDR only\n",
    "r = client.retrieve(uuid_list=ids_desi, include=['survey','sv_primary'], dataset_list=['DESI-EDR'])\n",
    "print([set(r.records[i].keys()) for i in range(len(r.records))][0])"
   ]
  },
  {
   "cell_type": "code",
   "execution_count": null,
   "metadata": {},
   "outputs": [],
   "source": [
    "# try to include fields that do not exist in the DB\n",
    "try:\n",
    "    r = client.retrieve(uuid_list=ids_any, include=['sparcl_id','magnolia'])\n",
    "    print([set(r.records[i].keys()) for i in range(len(r.records))][0])\n",
    "except Exception as e:\n",
    "    print(e)"
   ]
  },
  {
   "cell_type": "markdown",
   "metadata": {},
   "source": [
    "<a class=\"anchor\" id=\"retrieve_by_specid\"></a>\n",
    "## client.retrieve_by_specid()"
   ]
  },
  {
   "cell_type": "code",
   "execution_count": null,
   "metadata": {},
   "outputs": [],
   "source": [
    "client.retrieve_by_specid?"
   ]
  },
  {
   "cell_type": "code",
   "execution_count": null,
   "metadata": {},
   "outputs": [],
   "source": [
    "found_specids = client.find(outfields=['specid'],limit=60000)\n",
    "specids_lots = [f['specid'] for f in found_specids.records]"
   ]
  },
  {
   "cell_type": "code",
   "execution_count": null,
   "metadata": {},
   "outputs": [],
   "source": [
    "# specids from SDSS-DR16 only\n",
    "found_sdss = client.find(outfields=['specid'],\n",
    "                       constraints={'data_release':['SDSS-DR16']},\n",
    "                       limit=3)\n",
    "specids_sdss = [f['specid'] for f in found_sdss.records]\n",
    "\n",
    "# specids from BOSS-DR16 only\n",
    "found_boss = client.find(outfields=['specid'],\n",
    "                       constraints={'data_release':['BOSS-DR16']},\n",
    "                       limit=3)\n",
    "specids_boss = [f['specid'] for f in found_boss.records]\n",
    "\n",
    "# specids from DESI-EDR only\n",
    "found_desi = client.find(outfields=['specid'],\n",
    "                       constraints={'data_release':['DESI-EDR']},\n",
    "                       limit=3)\n",
    "specids_desi = [f['specid'] for f in found_desi.records]\n",
    "\n",
    "# specids from any dataset\n",
    "specids_any = specids_sdss + specids_boss + specids_desi"
   ]
  },
  {
   "cell_type": "markdown",
   "metadata": {},
   "source": [
    "<a class=\"anchor\" id=\"retrieve_by_specid_limit\"></a>\n",
    "### parameter to test: limit"
   ]
  },
  {
   "cell_type": "code",
   "execution_count": null,
   "metadata": {},
   "outputs": [],
   "source": [
    "# does the default limit work?\n",
    "client.retrieve_by_specid(specid_list=specids_lots)"
   ]
  },
  {
   "cell_type": "code",
   "execution_count": null,
   "metadata": {},
   "outputs": [],
   "source": [
    "# does setting a limit less than the default value work?\n",
    "client.retrieve_by_specid(specid_list=specids_lots,limit=2)"
   ]
  },
  {
   "cell_type": "code",
   "execution_count": null,
   "metadata": {},
   "outputs": [],
   "source": [
    "# does setting a limit over the default value but under\n",
    "# the maximum value work?\n",
    "client.retrieve_by_specid(specid_list=specids_lots,limit=800)"
   ]
  },
  {
   "cell_type": "code",
   "execution_count": null,
   "metadata": {},
   "outputs": [],
   "source": [
    "# does trying to retrieve more than the maximum allowed\n",
    "# by setting limit=30000 produce the right error message?\n",
    "try:\n",
    "    client.retrieve_by_specid(specid_list=specids_lots,limit=30000)\n",
    "except Exception as e:\n",
    "    print(e)"
   ]
  },
  {
   "cell_type": "code",
   "execution_count": null,
   "metadata": {},
   "outputs": [],
   "source": [
    "# does trying to retrieve more than the maximum allowed\n",
    "# by setting limit=None produce the right error message?\n",
    "try:\n",
    "    client.retrieve_by_specid(specid_list=specids_lots,limit=None)\n",
    "except Exception as e:\n",
    "    print(e)"
   ]
  },
  {
   "cell_type": "markdown",
   "metadata": {},
   "source": [
    "<a class=\"anchor\" id=\"retrieve_by_specid_dataset_list\"></a>\n",
    "### parameter to test: dataset_list"
   ]
  },
  {
   "cell_type": "code",
   "execution_count": null,
   "metadata": {},
   "outputs": [],
   "source": [
    "# Retrieve from all datasets (dataset_list=None, the default)\n",
    "r = client.retrieve_by_specid(specid_list=specids_any, include=['data_release'])\n",
    "set([f['data_release'] for f in r.records])"
   ]
  },
  {
   "cell_type": "code",
   "execution_count": null,
   "metadata": {},
   "outputs": [],
   "source": [
    "# Retrieve from only SDSS-DR16\n",
    "r = client.retrieve_by_specid(specid_list=specids_any, include=['data_release'], dataset_list=['SDSS-DR16'])\n",
    "set([f['data_release'] for f in r.records])"
   ]
  },
  {
   "cell_type": "code",
   "execution_count": null,
   "metadata": {},
   "outputs": [],
   "source": [
    "# Retrieve from only BOSS-DR16\n",
    "r = client.retrieve_by_specid(specid_list=specids_any, include=['data_release'], dataset_list=['BOSS-DR16'])\n",
    "set([f['data_release'] for f in r.records])"
   ]
  },
  {
   "cell_type": "code",
   "execution_count": null,
   "metadata": {},
   "outputs": [],
   "source": [
    "# Retrieve from only DESI-EDR\n",
    "r = client.retrieve_by_specid(specid_list=specids_any, include=['data_release'], dataset_list=['DESI-EDR'])\n",
    "set([f['data_release'] for f in r.records])"
   ]
  },
  {
   "cell_type": "code",
   "execution_count": null,
   "metadata": {},
   "outputs": [],
   "source": [
    "# Retrieve from only SDSS-DR16 and DESI-EDR\n",
    "r = client.retrieve_by_specid(specid_list=specids_any, include=['data_release'], dataset_list=['SDSS-DR16','DESI-EDR'])\n",
    "set([f['data_release'] for f in r.records])"
   ]
  },
  {
   "cell_type": "markdown",
   "metadata": {},
   "source": [
    "<a class=\"anchor\" id=\"retrieve_by_specid_include\"></a>\n",
    "### parameter to test: include"
   ]
  },
  {
   "cell_type": "code",
   "execution_count": null,
   "metadata": {},
   "outputs": [],
   "source": [
    "# include only default fields common to all datasets\n",
    "r = client.retrieve_by_specid(specid_list=specids_any, include='DEFAULT')\n",
    "print([set(r.records[i].keys()) for i in range(len(r.records))][0])"
   ]
  },
  {
   "cell_type": "code",
   "execution_count": null,
   "metadata": {},
   "outputs": [],
   "source": [
    "# include all fields common to all datasets\n",
    "r = client.retrieve_by_specid(specid_list=specids_any, include='ALL')\n",
    "print([set(r.records[i].keys()) for i in range(len(r.records))][0])"
   ]
  },
  {
   "cell_type": "code",
   "execution_count": null,
   "metadata": {},
   "outputs": [],
   "source": [
    "# include all fields in SDSS-DR16 only\n",
    "r = client.retrieve_by_specid(specid_list=specids_any, include='ALL', dataset_list=['SDSS-DR16'])\n",
    "print([set(r.records[i].keys()) for i in range(len(r.records))][0])"
   ]
  },
  {
   "cell_type": "code",
   "execution_count": null,
   "metadata": {},
   "outputs": [],
   "source": [
    "# include all fields in BOSS-DR16 only\n",
    "r = client.retrieve_by_specid(specid_list=specids_any, include='ALL', dataset_list=['BOSS-DR16'])\n",
    "print([set(r.records[i].keys()) for i in range(len(r.records))][0])"
   ]
  },
  {
   "cell_type": "code",
   "execution_count": null,
   "metadata": {},
   "outputs": [],
   "source": [
    "# include all fields in DESI-EDR only\n",
    "r = client.retrieve_by_specid(specid_list=specids_any, include='ALL', dataset_list=['DESI-EDR'])\n",
    "print([set(r.records[i].keys()) for i in range(len(r.records))][0])"
   ]
  },
  {
   "cell_type": "code",
   "execution_count": null,
   "metadata": {},
   "outputs": [],
   "source": [
    "# include all fields in SDSS-DR16 and DESI-EDR only\n",
    "r = client.retrieve_by_specid(specid_list=specids_any, include='ALL', dataset_list=['SDSS-DR16','DESI-EDR'])\n",
    "print([set(r.records[i].keys()) for i in range(len(r.records))][0])"
   ]
  },
  {
   "cell_type": "code",
   "execution_count": null,
   "metadata": {},
   "outputs": [],
   "source": [
    "# include only specified fields\n",
    "r = client.retrieve_by_specid(specid_list=specids_any, include=['sparcl_id','flux','redshift'])\n",
    "print([set(r.records[i].keys()) for i in range(len(r.records))][0])"
   ]
  },
  {
   "cell_type": "code",
   "execution_count": null,
   "metadata": {},
   "outputs": [],
   "source": [
    "# include aux fields in SDSS-DR16 only\n",
    "r = client.retrieve_by_specid(specid_list=specids_sdss, include=['vdisp','run2d'], dataset_list=['SDSS-DR16'])\n",
    "print([set(r.records[i].keys()) for i in range(len(r.records))][0])"
   ]
  },
  {
   "cell_type": "code",
   "execution_count": null,
   "metadata": {},
   "outputs": [],
   "source": [
    "# include aux fields in BOSS-DR16 only\n",
    "r = client.retrieve_by_specid(specid_list=specids_boss, include=['fiberid','mjd'], dataset_list=['BOSS-DR16'])\n",
    "print([set(r.records[i].keys()) for i in range(len(r.records))][0])"
   ]
  },
  {
   "cell_type": "code",
   "execution_count": null,
   "metadata": {},
   "outputs": [],
   "source": [
    "# include aux fields in DESI-EDR only\n",
    "r = client.retrieve_by_specid(specid_list=specids_desi, include=['survey','sv_primary'], dataset_list=['DESI-EDR'])\n",
    "print([set(r.records[i].keys()) for i in range(len(r.records))][0])"
   ]
  },
  {
   "cell_type": "code",
   "execution_count": null,
   "metadata": {},
   "outputs": [],
   "source": [
    "# try to include fields that do not exist in the DB\n",
    "try:\n",
    "    r = client.retrieve_by_specid(specid_list=specids_any, include=['sparcl_id','marigold'])\n",
    "    print([set(r.records[i].keys()) for i in range(len(r.records))][0])\n",
    "except Exception as e:\n",
    "    print(e)"
   ]
  },
  {
   "cell_type": "markdown",
   "metadata": {},
   "source": [
    "<a class=\"anchor\" id=\"missing\"></a>\n",
    "## client.missing()"
   ]
  },
  {
   "cell_type": "code",
   "execution_count": null,
   "metadata": {},
   "outputs": [],
   "source": [
    "client.missing?"
   ]
  },
  {
   "cell_type": "code",
   "execution_count": null,
   "metadata": {},
   "outputs": [],
   "source": [
    "some_missing_ids = ids_any + ['00009f84-8acc-425b-87e1-0a819f11697c','00002f94-96b1-4f2d-8d1d-1a47a89fe105']"
   ]
  },
  {
   "cell_type": "markdown",
   "metadata": {},
   "source": [
    "<a class=\"anchor\" id=\"missing_uuid_list\"></a>\n",
    "### parameter to test: uuid_list"
   ]
  },
  {
   "cell_type": "code",
   "execution_count": null,
   "metadata": {},
   "outputs": [],
   "source": [
    "client.missing(uuid_list=ids_any)"
   ]
  },
  {
   "cell_type": "code",
   "execution_count": null,
   "metadata": {},
   "outputs": [],
   "source": [
    "# List of 60,000 ids -- produces error\n",
    "#client.missing(uuid_list=ids_lots)"
   ]
  },
  {
   "cell_type": "code",
   "execution_count": null,
   "metadata": {},
   "outputs": [],
   "source": [
    "# 2 ids not in any datasets\n",
    "client.missing(uuid_list=some_missing_ids)"
   ]
  },
  {
   "cell_type": "markdown",
   "metadata": {},
   "source": [
    "<a class=\"anchor\" id=\"missing_dataset_list\"></a>\n",
    "### parameter to test: dataset_list BUG??"
   ]
  },
  {
   "cell_type": "code",
   "execution_count": null,
   "metadata": {},
   "outputs": [],
   "source": [
    "# ids only in DESI-EDR\n",
    "client.missing(uuid_list=ids_desi, dataset_list=['SDSS-DR16','BOSS-DR16'])"
   ]
  },
  {
   "cell_type": "code",
   "execution_count": null,
   "metadata": {},
   "outputs": [],
   "source": [
    "# ids only in SDSS-DR16\n",
    "client.missing(uuid_list=ids_sdss, dataset_list=['DESI-EDR','BOSS-DR16'])"
   ]
  },
  {
   "cell_type": "code",
   "execution_count": null,
   "metadata": {},
   "outputs": [],
   "source": [
    "# ids only in BOSS-DR16\n",
    "client.missing(uuid_list=ids_boss, dataset_list=['DESI-EDR','SDSS-DR16'])"
   ]
  },
  {
   "cell_type": "markdown",
   "metadata": {},
   "source": [
    "<a class=\"anchor\" id=\"missing_countOnly\"></a>\n",
    "### parameter to test: countOnly BUG???"
   ]
  },
  {
   "cell_type": "code",
   "execution_count": null,
   "metadata": {},
   "outputs": [],
   "source": [
    "client.missing(uuid_list=some_missing_ids,countOnly=True)"
   ]
  },
  {
   "cell_type": "markdown",
   "metadata": {},
   "source": [
    "<a class=\"anchor\" id=\"missing_specids\"></a>\n",
    "## client.missing_specids()"
   ]
  },
  {
   "cell_type": "code",
   "execution_count": null,
   "metadata": {},
   "outputs": [],
   "source": [
    "client.missing_specids?"
   ]
  },
  {
   "cell_type": "code",
   "execution_count": null,
   "metadata": {},
   "outputs": [],
   "source": [
    "some_missing_specids = specids_any + [11111111111111111, 999999999999999999]"
   ]
  },
  {
   "cell_type": "markdown",
   "metadata": {},
   "source": [
    "<a class=\"anchor\" id=\"missing_specids_specid_list\"></a>\n",
    "### parameter to test: specid_list"
   ]
  },
  {
   "cell_type": "code",
   "execution_count": null,
   "metadata": {},
   "outputs": [],
   "source": [
    "client.missing_specids(specid_list=specids_any)"
   ]
  },
  {
   "cell_type": "code",
   "execution_count": null,
   "metadata": {},
   "outputs": [],
   "source": [
    "# List of 60,000 specids -- produces error\n",
    "#client.missing_specids(specid_list=specids_lots)"
   ]
  },
  {
   "cell_type": "code",
   "execution_count": null,
   "metadata": {},
   "outputs": [],
   "source": [
    "# 2 specids not in any datasets\n",
    "client.missing_specids(specid_list=some_missing_specids)"
   ]
  },
  {
   "cell_type": "markdown",
   "metadata": {},
   "source": [
    "<a class=\"anchor\" id=\"missing_specids_dataset_list\"></a>\n",
    "### parameter to test: dataset_list BUG??"
   ]
  },
  {
   "cell_type": "code",
   "execution_count": null,
   "metadata": {},
   "outputs": [],
   "source": [
    "# specids only in DESI-EDR\n",
    "client.missing_specids(specid_list=specids_desi, dataset_list=['SDSS-DR16','BOSS-DR16'])"
   ]
  },
  {
   "cell_type": "code",
   "execution_count": null,
   "metadata": {},
   "outputs": [],
   "source": [
    "# specids only in SDSS-DR16\n",
    "client.missing_specids(specid_list=specids_sdss, dataset_list=['DESI-EDR','BOSS-DR16'])"
   ]
  },
  {
   "cell_type": "code",
   "execution_count": null,
   "metadata": {},
   "outputs": [],
   "source": [
    "# specids only in BOSS-DR16\n",
    "client.missing_specids(specid_list=specids_boss, dataset_list=['DESI-EDR','SDSS-DR16'])"
   ]
  },
  {
   "cell_type": "markdown",
   "metadata": {},
   "source": [
    "<a class=\"anchor\" id=\"missing_specids_countOnly\"></a>\n",
    "### parameter to test: countOnly BUG???"
   ]
  },
  {
   "cell_type": "code",
   "execution_count": null,
   "metadata": {},
   "outputs": [],
   "source": [
    "client.missing_specids(specid_list=some_missing_specids,countOnly=True)"
   ]
  }
 ],
 "metadata": {
  "kernelspec": {
   "display_name": "Python 3 (ipykernel)",
   "language": "python",
   "name": "python3"
  },
  "language_info": {
   "codemirror_mode": {
    "name": "ipython",
    "version": 3
   },
   "file_extension": ".py",
   "mimetype": "text/x-python",
   "name": "python",
   "nbconvert_exporter": "python",
   "pygments_lexer": "ipython3",
   "version": "3.10.12"
  }
 },
 "nbformat": 4,
 "nbformat_minor": 4
}
