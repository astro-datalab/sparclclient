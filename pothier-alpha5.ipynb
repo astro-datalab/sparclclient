{
 "cells": [
  {
   "cell_type": "code",
   "execution_count": 1,
   "id": "6eb5325d-7e5e-46d6-99c2-346eed4fafab",
   "metadata": {},
   "outputs": [],
   "source": [
    "import sparcl.client"
   ]
  },
  {
   "cell_type": "code",
   "execution_count": 2,
   "id": "f8de12c5-95e3-488c-af9c-aa7548c519c7",
   "metadata": {},
   "outputs": [
    {
     "name": "stderr",
     "output_type": "stream",
     "text": [
      "/tmp/ipykernel_88056/1540030723.py:1: UserWarning: Implementation ignores that fact that a\n",
      "        single Science Field Name might map to MULTIPLE Internal Field Names\n",
      "        within a single Data Set.  If this is the case (see Admin)\n",
      "        results may be unpredictable!!!\n",
      "  client = sparcl.client.SparclClient(url=sparcl.client._DEV, verbose=True)\n"
     ]
    },
    {
     "data": {
      "text/plain": [
       "(sparclclient:0.4.0a5.dev4, api:6.0, http://localhost:8030/sparc, verbose=True, connect_timeout=1.1, read_timeout=5400.0)"
      ]
     },
     "execution_count": 2,
     "metadata": {},
     "output_type": "execute_result"
    }
   ],
   "source": [
    "client = sparcl.client.SparclClient(url=sparcl.client._DEV, verbose=True)\n",
    "client "
   ]
  },
  {
   "cell_type": "code",
   "execution_count": 3,
   "id": "991b2f67-6ec4-45d3-bd08-97e6c386e8bb",
   "metadata": {},
   "outputs": [
    {
     "data": {
      "text/plain": [
       "{'flux', 'uuid', 'wavelength'}"
      ]
     },
     "execution_count": 3,
     "metadata": {},
     "output_type": "execute_result"
    }
   ],
   "source": [
    "client.get_default_fields(None)"
   ]
  },
  {
   "cell_type": "code",
   "execution_count": 4,
   "id": "d289d85b-fb9c-475b-ab6c-d5546d672a7c",
   "metadata": {},
   "outputs": [
    {
     "data": {
      "text/plain": [
       "['uuid', 'flux', 'wavelength']"
      ]
     },
     "execution_count": 4,
     "metadata": {},
     "output_type": "execute_result"
    }
   ],
   "source": [
    "client.get_default_fields('BOSS-DR16')"
   ]
  },
  {
   "cell_type": "code",
   "execution_count": 5,
   "id": "bb4757d6-d97c-49b0-9620-72666c7c5a26",
   "metadata": {},
   "outputs": [
    {
     "name": "stdout",
     "output_type": "stream",
     "text": [
      "['FIBER', 'HEALPIX', 'LOCATION', 'MJD', 'PROGRAM', 'RUN2D', 'SURVEY', 'SV_PRIMARY', 'TARGETID', 'TILEID', 'data_release', 'datasetgroup', 'dateobs', 'dateobs_center', 'dec', 'dirpath', 'exptime', 'extra_files', 'filename', 'filesize', 'flux', 'id', 'instrument', 'ivar', 'mask', 'model', 'ra', 'redshift', 'redshift_err', 'redshift_warning', 'site', 'sky', 'specid', 'specprimary', 'spectype', 'targetid', 'telescope', 'wave_sigma', 'wavelength', 'wavemax', 'wavemin']\n"
     ]
    }
   ],
   "source": [
    "print(sorted(client.dr_o2n['DESI-edr'].keys()))  # No PLATEID, but is in dr_all['DESI-edr']"
   ]
  },
  {
   "cell_type": "code",
   "execution_count": 6,
   "id": "de43c501-fd66-41c7-a6d5-11dad919e246",
   "metadata": {},
   "outputs": [
    {
     "name": "stdout",
     "output_type": "stream",
     "text": [
      "['FIBER', 'HEALPIX', 'LOCATION', 'MJD', 'PROGRAM', 'RUN2D', 'SURVEY', 'SV_PRIMARY', 'TARGETID', 'TILEID', 'data_release', 'datasetgroup', 'dateobs', 'dateobs_center', 'dec', 'exptime', 'flux', 'id', 'instrument', 'ivar', 'mask', 'model', 'ra', 'redshift', 'redshift_err', 'redshift_warning', 'site', 'sky', 'specid', 'specprimary', 'spectype', 'targetid', 'telescope', 'wave_sigma', 'wavelength', 'wavemax', 'wavemin']\n"
     ]
    }
   ],
   "source": [
    "print(sorted(client.dr_all.get('DESI-edr')))"
   ]
  },
  {
   "cell_type": "code",
   "execution_count": 7,
   "id": "03022846-4c21-4606-8bd1-8ade5cb98a48",
   "metadata": {},
   "outputs": [
    {
     "name": "stdout",
     "output_type": "stream",
     "text": [
      "['FIBER', 'HEALPIX', 'LOCATION', 'MJD', 'PROGRAM', 'RUN2D', 'SURVEY', 'SV_PRIMARY', 'TARGETID', 'TILEID', 'data_release', 'datasetgroup', 'dateobs', 'dateobs_center', 'dec', 'exptime', 'flux', 'instrument', 'ivar', 'mask', 'model', 'ra', 'redshift', 'redshift_err', 'redshift_warning', 'site', 'sky', 'specid', 'specprimary', 'spectype', 'targetid', 'telescope', 'uuid', 'wave_sigma', 'wavelength', 'wavemax', 'wavemin']\n"
     ]
    }
   ],
   "source": [
    "print(sorted(client.get_all_fields('DESI-edr')))"
   ]
  },
  {
   "cell_type": "code",
   "execution_count": 8,
   "id": "0d186a2b-a2d8-4794-9ada-6937b404ec9f",
   "metadata": {},
   "outputs": [
    {
     "name": "stdout",
     "output_type": "stream",
     "text": [
      "['FIBERID', 'MJD', 'PLATEID', 'RUN1D', 'RUN2D', 'SPECOBJID', 'data_release', 'datasetgroup', 'dateobs', 'dateobs_center', 'dec', 'exptime', 'flux', 'instrument', 'ivar', 'mask', 'model', 'ra', 'redshift', 'redshift_err', 'redshift_warning', 'site', 'sky', 'specid', 'specprimary', 'spectype', 'targetid', 'telescope', 'uuid', 'wave_sigma', 'wavelength', 'wavemax', 'wavemin']\n"
     ]
    }
   ],
   "source": [
    "print(sorted(client.get_all_fields('BOSS-DR16'))) # NOTE: redshift => z"
   ]
  },
  {
   "cell_type": "code",
   "execution_count": 9,
   "id": "2ae4446b-314d-488e-abd4-2622c49f5c78",
   "metadata": {},
   "outputs": [
    {
     "name": "stdout",
     "output_type": "stream",
     "text": [
      "{'wavelength': 'wavelength', 'SV_PRIMARY': 'SV_PRIMARY', 'wavemax': 'wavemax', 'telescope': 'telescope', 'flux': 'flux', 'wave_sigma': 'wave_sigma', 'HEALPIX': 'HEALPIX', 'sky': 'sky', 'dateobs': 'dateobs', 'ivar': 'ivar', 'data_release': 'data_release', 'datasetgroup': 'datasetgroup', 'FIBER': 'FIBER', 'TARGETID': 'TARGETID', 'SURVEY': 'SURVEY', 'specprimary': 'specprimary', 'instrument': 'instrument', 'filename': 'filename', 'extra_files': 'extra_files', 'RUN2D': 'RUN2D', 'targetid': 'targetid', 'dirpath': 'dirpath', 'dec': 'dec', 'spectype': 'spectype', 'MJD': 'MJD', 'model': 'model', 'exptime': 'exptime', 'TILEID': 'TILEID', 'filesize': 'filesize', 'dateobs_center': 'dateobs_center', 'ra': 'ra', 'redshift_warning': 'redshift_warning', 'specid': 'specid', 'site': 'site', 'LOCATION': 'LOCATION', 'id': 'uuid', 'mask': 'mask', 'wavemin': 'wavemin', 'redshift_err': 'redshift_err', 'redshift': 'redshift', 'PROGRAM': 'PROGRAM'}\n"
     ]
    }
   ],
   "source": [
    "print(client.dr_o2n['DESI-edr'])"
   ]
  },
  {
   "cell_type": "code",
   "execution_count": 10,
   "id": "84cdf72c-3755-46bd-b180-49defd991cf0",
   "metadata": {
    "tags": []
   },
   "outputs": [
    {
     "data": {
      "text/plain": [
       "{'META': {'endpoint': 'sparc/find'},\n",
       " 'PARAMETERS': {'limit': 50,\n",
       "  'include': None,\n",
       "  'offset': 0,\n",
       "  'json_payload': {'outfields': ['id', 'data_release'], 'search': []}},\n",
       " 'HEADER': {'data_release': 'category', 'id': 'str'},\n",
       " 'WARNINGS': [\"OFFSET parameter needs SORT but it was not provided. Using default 'id' for sorting\"],\n",
       " 'Count': 6}"
      ]
     },
     "execution_count": 10,
     "metadata": {},
     "output_type": "execute_result"
    }
   ],
   "source": [
    "# get sample ids\n",
    "found = client.find(['uuid', 'data_release'], limit=50)\n",
    "ids = found.ids\n",
    "found.info"
   ]
  },
  {
   "cell_type": "code",
   "execution_count": 12,
   "id": "836704fb-c620-452e-9618-ba216388208a",
   "metadata": {
    "tags": []
   },
   "outputs": [
    {
     "name": "stdout",
     "output_type": "stream",
     "text": [
      "Found 2 ids from Data Set = DESI-edr\n",
      "Using url=\"http://localhost:8030/sparc/retrieve/?include=id%2Cflux%2Cwavelength&dataset_list=DESI-edr\"\n",
      "Got response to post in 0.09353263399680145 seconds\n",
      "Got 2 spectra in 0.09 seconds (21 spectra/sec)\n",
      "{'success': True, 'info': 'Successfully found 2 records in dr=DESI-edr'}\n"
     ]
    },
    {
     "data": {
      "text/plain": [
       "{'status': {'success': True,\n",
       "  'info': 'Successfully found 2 records in dr=DESI-edr'},\n",
       " 'Count': 2}"
      ]
     },
     "execution_count": 12,
     "metadata": {},
     "output_type": "execute_result"
    }
   ],
   "source": [
    "# orig=redshift, new=z in DataFields\n",
    "dr='DESI-edr'\n",
    "id_desi = [rec['uuid'] for rec in found.records if rec.get('data_release') == dr]\n",
    "print(f'Found {len(id_desi)} ids from Data Set = {dr}')\n",
    "results = client.retrieve(id_desi, include=['flux', 'wavelength', 'uuid'], dataset_list=[dr])\n",
    "results.info"
   ]
  },
  {
   "cell_type": "code",
   "execution_count": 13,
   "id": "60861148-2569-4358-a414-220b03d1811b",
   "metadata": {},
   "outputs": [
    {
     "name": "stdout",
     "output_type": "stream",
     "text": [
      "dict key access: 7781\n",
      "dict DOT access: 7781\n"
     ]
    }
   ],
   "source": [
    "print(f'dict key access: {len(results.records[0][\"flux\"])}')\n",
    "print(f'dict DOT access: {len(results.records[0].flux)}')"
   ]
  },
  {
   "cell_type": "code",
   "execution_count": 14,
   "id": "23197832-1375-49ce-8c16-850100b8056b",
   "metadata": {},
   "outputs": [],
   "source": [
    "import sparcl.utils as ut"
   ]
  },
  {
   "cell_type": "code",
   "execution_count": 15,
   "id": "d5d69fe1-136c-484c-92d6-dc6d16ebaf58",
   "metadata": {
    "tags": []
   },
   "outputs": [],
   "source": [
    "dd = ut._AttrDict(results.records[0])"
   ]
  },
  {
   "cell_type": "code",
   "execution_count": 16,
   "id": "505525b7-a1b6-409e-9e91-efc1c50f6653",
   "metadata": {},
   "outputs": [
    {
     "data": {
      "text/plain": [
       "'DESI-edr'"
      ]
     },
     "execution_count": 16,
     "metadata": {},
     "output_type": "execute_result"
    }
   ],
   "source": [
    "dd._dr"
   ]
  },
  {
   "cell_type": "code",
   "execution_count": 21,
   "id": "b1001fbd-385a-4dae-8422-42e23533b222",
   "metadata": {},
   "outputs": [
    {
     "name": "stdout",
     "output_type": "stream",
     "text": [
      "Found 2 matches.\n",
      "Using url=\"http://localhost:8030/sparc/retrieve/?include=id%2Cspecid&dataset_list=DESI-edr%2CBOSS-DR16%2CSDSS-DR16\"\n",
      "Got response to post in 0.01697138699819334 seconds\n",
      "Got 2 spectra in 0.02 seconds (118 spectra/sec)\n",
      "{'success': True, 'info': 'Successfully found 2 records in dr=DESI-edr,BOSS-DR16,SDSS-DR16'}\n",
      "Got 2 records.\n",
      "{'status': {'success': True, 'info': 'Successfully found 2 records in dr=DESI-edr,BOSS-DR16,SDSS-DR16'}, 'Count': 2}\n"
     ]
    },
    {
     "data": {
      "text/plain": [
       "[{'specid': 1429831265344501,\n",
       "  'uuid': '4d62c9bc-f72b-47b3-a11e-0231a6e7e4a2',\n",
       "  '_dr': 'BOSS-DR16'},\n",
       " {'specid': 1429831265410037,\n",
       "  'uuid': 'fbef651a-e6cb-48b5-a1a9-2a3860f2c732',\n",
       "  '_dr': 'BOSS-DR16'}]"
      ]
     },
     "execution_count": 21,
     "metadata": {},
     "output_type": "execute_result"
    }
   ],
   "source": [
    "specids = [1429831265344501, 1429831265410037]\n",
    "results = client.retrieve_by_specid(specids, include=['uuid','specid'], verbose=True)\n",
    "print(results.info)\n",
    "results.records"
   ]
  },
  {
   "cell_type": "markdown",
   "id": "417ee614-6004-41b0-881b-b33560a3f999",
   "metadata": {
    "jupyter": {
     "outputs_hidden": true
    },
    "tags": []
   },
   "source": [
    "# TODO\n",
    "## Join request and response on id\n",
    "## make sure AttrDict still works (dot notation for records to get fields)"
   ]
  },
  {
   "cell_type": "code",
   "execution_count": null,
   "id": "41edc49a-9c5c-44ca-9916-d13c2959bb2d",
   "metadata": {},
   "outputs": [],
   "source": []
  },
  {
   "cell_type": "markdown",
   "id": "8c94a0d1-2922-4ccc-aa36-3acfdd4b46f4",
   "metadata": {},
   "source": [
    "## Use Case: Favorite Data Set list (ID Priority)\n",
    "I have my **favorite DR list**. I use `client.find()` over each DR separately because each DR has a different special field I use in my constraints. I combine multi-find results into one `id_list`.  I only need fields that are common to all my DRs.  Using\n",
    "   `results = client.retrieve(id_list)`\n",
    "   with *ID Priority*, I get `results` that contains a list of homogeneous records.\n"
   ]
  },
  {
   "cell_type": "code",
   "execution_count": null,
   "id": "48b2ae04-3d27-433c-8676-35e900b521dc",
   "metadata": {},
   "outputs": [],
   "source": [
    "results.records[0].keys()"
   ]
  },
  {
   "cell_type": "markdown",
   "id": "e994412f-8603-43c9-8d74-b3f2241edcbe",
   "metadata": {
    "tags": []
   },
   "source": [
    "## Use Case: Favorite Fields (Field Priority)\n",
    " I have my **favorite fields**.  I need all records I get to have all\n",
    "   of my favorite fields. I use one or more\n",
    "   FIND commands to produce an id_list. Using\n",
    "   `results = client.retrieve(id_list, include=fav_fields)`\n",
    "   with *Field Priority*, I get `results` that contains a list of homogeneous\n",
    "   records, all of which contain the full list of my fav_fields.\n",
    "   I am pleased that I didn't have to think about any specific\n",
    "   DR(s). I know that if my fav_fields had included too much, my\n",
    "   RETRIEVE would have failed to find any records that included all\n",
    "   fields.  As it is, checking `results.records` shows that only 70%\n",
    "   of the ids I started with resulted in a record. I see which ids\n",
    "   from my id_list were not used by looking at `results.status`."
   ]
  },
  {
   "cell_type": "code",
   "execution_count": null,
   "id": "e2166401-6bdd-4569-a5d2-6ee98ca2284d",
   "metadata": {},
   "outputs": [],
   "source": []
  },
  {
   "cell_type": "markdown",
   "id": "f7fb9f89-bb72-40d2-8bcf-a2915ae0692a",
   "metadata": {},
   "source": [
    "## Use Case: Required plus Optional fields\n",
    "I don't care about DRs but there are **some fields that are required** for\n",
    "   my work. **Other fields are optional**.  I want them when they are\n",
    "   available. I get the list of DRs that contain my required fields\n",
    "   `dr_list = client.drs_common(req_fields)`\n",
    "   Then I find records  from these DRs via:\n",
    "`client.find(dr_list, ...)`\n",
    "   For my work it  would be much easier to deal with homogeneous records, so I compute\n",
    "   the full list of fields for my records with\n",
    "`field_list = req_fields.intersect(opt_fields, client.fields_common(dr_list))`\n",
    "   Then I get the records:\n",
    "`results = client.retrieve(ids, field_list)`"
   ]
  },
  {
   "cell_type": "code",
   "execution_count": null,
   "id": "de406728-9c42-40d6-892b-312a70e59489",
   "metadata": {},
   "outputs": [],
   "source": []
  },
  {
   "cell_type": "markdown",
   "id": "28e7a5e5-f5ce-445f-b340-6e961d689080",
   "metadata": {},
   "source": [
    "## Use Case: Complex find yielding Hetergeneous records\n",
    "I have ids from a complex combination of `client.find()` and DataLab queries. I must have the records associated with all ids.\n",
    "\n",
    "   I want to process a homogeneous set of records using the largest\n",
    "   set of common fields I can.  I'm anticipating doing fancy analysis\n",
    "   with special fields but I don't exactly what that will entail yet,\n",
    "   so I don't want to throw any fields out.\n",
    "\n",
    "   There are *uncommon fields* I've found to be useful.  I want to\n",
    "   process the records that have these uncommon fields seperately from\n",
    "   the common batch.  I realize all records containing the uncommon\n",
    "   fields will have ids that are also associatated with my common\n",
    "   batch. I'll join the two batches using the id.\n",
    "```\n",
    " found = client.find(...)  # multiple complex FIND and Data Lab queries\n",
    " ids = found.ids\n",
    " dr_list = found.dr_list\n",
    " common_fields = client.common_fields(dr_list)\n",
    " results_common = client.retrieve(ids, include=common_fields)\n",
    " result_uncommon = client.retrieve(ids, include=uncommon_fields)\n",
    "```"
   ]
  },
  {
   "cell_type": "code",
   "execution_count": null,
   "id": "fb276bc3-9efa-4a7e-8a3e-55137b528249",
   "metadata": {},
   "outputs": [],
   "source": []
  }
 ],
 "metadata": {
  "kernelspec": {
   "display_name": "Python 3 (ipykernel)",
   "language": "python",
   "name": "python3"
  },
  "language_info": {
   "codemirror_mode": {
    "name": "ipython",
    "version": 3
   },
   "file_extension": ".py",
   "mimetype": "text/x-python",
   "name": "python",
   "nbconvert_exporter": "python",
   "pygments_lexer": "ipython3",
   "version": "3.9.7"
  }
 },
 "nbformat": 4,
 "nbformat_minor": 5
}
