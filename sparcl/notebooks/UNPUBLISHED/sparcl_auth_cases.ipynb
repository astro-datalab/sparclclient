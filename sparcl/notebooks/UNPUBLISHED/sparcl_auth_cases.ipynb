{
 "cells": [
  {
   "cell_type": "markdown",
   "id": "409cd60f-9a73-42ac-9dc8-cf7f4a0b0cb6",
   "metadata": {},
   "source": [
    "# SPARCL Auth use cases\n",
    "S. Juneau, with some materials from the How_to_use_SPARCL.ipynb notebook by A. Jacques et al.\n",
    "\n",
    "## Imports"
   ]
  },
  {
   "cell_type": "code",
   "execution_count": 1,
   "id": "1c7798bd-6351-4d8c-8ebf-025c2b7ccaf8",
   "metadata": {
    "tags": []
   },
   "outputs": [],
   "source": [
    "# std lib\n",
    "from getpass import getpass\n",
    "\n",
    "# Data Lab\n",
    "#from dl import authClient as ac\n",
    "\n",
    "# import SPARCL\n",
    "from sparcl.client import SparclClient"
   ]
  },
  {
   "cell_type": "code",
   "execution_count": 2,
   "id": "97fea6b9-3f33-48b7-8a71-c6be8de42eab",
   "metadata": {},
   "outputs": [],
   "source": [
    "server = 'https://astrosparcl.datalab.noirlab.edu'  # Public Server\n",
    "#server = 'https://sparc1.datalab.noirlab.edu'       # internal TEST Server\n"
   ]
  },
  {
   "cell_type": "code",
   "execution_count": 3,
   "id": "7a90d581-79e7-4d1d-8b38-85451ee909e6",
   "metadata": {},
   "outputs": [],
   "source": [
    "## Instantiate SPARCLClient\n",
    "client = SparclClient(url=server)"
   ]
  },
  {
   "cell_type": "markdown",
   "id": "16db2853-0d4a-4a28-a78a-f811439b4292",
   "metadata": {},
   "source": [
    "## DL Auth\n",
    "\n",
    "Check if I'm logged in the Data Lab (in case I want to save results to my account) --> later replace this step with authenticating and/or checking the login status with SPARCL"
   ]
  },
  {
   "cell_type": "code",
   "execution_count": 4,
   "id": "48483c11-7b12-4de2-9ca4-9106f938f9cf",
   "metadata": {},
   "outputs": [],
   "source": [
    "#token = ac.login(input(\"Enter user name: (+ENTER) \"),getpass(\"Enter password: (+ENTER) \"))\n",
    "#ac.whoAmI()"
   ]
  },
  {
   "cell_type": "markdown",
   "id": "11ba43cb-3616-4280-a2ac-3d35d6338786",
   "metadata": {},
   "source": [
    "<a class=\"anchor\" id=\"datasets\"></a>\n",
    "## Data sets available in SPARCL\n",
    "List all currently available data sets from the server/url associated with client"
   ]
  },
  {
   "cell_type": "code",
   "execution_count": 5,
   "id": "f8e135d8-a73e-4102-a135-759e813805da",
   "metadata": {},
   "outputs": [
    {
     "data": {
      "text/plain": [
       "{'BOSS-DR16', 'DESI-EDR', 'SDSS-DR16', 'SDSS-DR17'}"
      ]
     },
     "execution_count": 5,
     "metadata": {},
     "output_type": "execute_result"
    }
   ],
   "source": [
    "client.all_datasets"
   ]
  },
  {
   "cell_type": "markdown",
   "id": "357fbe57-1624-4bb6-91e0-9730db7aa21e",
   "metadata": {},
   "source": [
    "## Examples for data discovery\n",
    "\n",
    "### (1) No data sets specified --> search all available"
   ]
  },
  {
   "cell_type": "code",
   "execution_count": 6,
   "id": "ece4a55a-91b7-471e-9d98-0fe19305addf",
   "metadata": {
    "tags": []
   },
   "outputs": [],
   "source": [
    "out = ['sparcl_id', 'ra', 'dec', 'redshift', 'spectype', 'data_release', 'redshift_err']\n",
    "\n",
    "# No constraints on datasets\n",
    "cons = {'spectype': ['QSO'],\n",
    "        'redshift': [0.5, 0.9]}"
   ]
  },
  {
   "cell_type": "code",
   "execution_count": 7,
   "id": "55aefda7-363e-49c3-af14-6195257c32d0",
   "metadata": {
    "tags": []
   },
   "outputs": [
    {
     "name": "stdout",
     "output_type": "stream",
     "text": [
      "url=https://astrosparcl.datalab.noirlab.edu/sparc/find/?limit=20 sspec={'outfields': ['sparcl_id', 'ra', 'dec', 'redshift', 'spectype', 'data_release', 'redshift_err'], 'search': [['spectype', 'QSO'], ['redshift', 0.5, 0.9]]}\n",
      "Record key counts: {'redshift_err': 20, 'dec': 20, 'spectype': 20, 'redshift': 20, 'data_release': 20, 'sparcl_id': 20, 'ra': 20, '_dr': 20}\n"
     ]
    },
    {
     "data": {
      "text/plain": [
       "['00007710-a3e3-11ee-b735-525400ad1336, BOSS-DR16, 29.563962, 0.841756, 0.000233',\n",
       " '000084c4-a584-11ee-93c0-525400ad1336, BOSS-DR16, 142.844940, 0.694658, 0.000062',\n",
       " '00009671-9d55-11ee-9f22-525400ad1336, DESI-EDR, 99.321930, 0.793761, 0.000081',\n",
       " '0000d9c3-a17d-11ee-b07c-525400ad1336, BOSS-DR16, 135.684550, 0.628725, 0.000033',\n",
       " '0000ff02-9ef1-11ee-a5c6-525400ad1336, BOSS-DR16, 120.255830, 0.586132, 0.000078',\n",
       " '000113c8-9e94-11ee-9620-525400ad1336, BOSS-DR16, 27.828601, 0.820452, 0.000319',\n",
       " '00015e6c-a1a7-11ee-af85-525400ad1336, BOSS-DR16, 218.848750, 0.794184, 0.000259',\n",
       " '000198c2-a42d-11ee-b296-525400ad1336, BOSS-DR16, 9.971137, 0.844562, 0.000089',\n",
       " '0001b55e-a065-11ee-bd78-525400ad1336, SDSS-DR16, 285.285050, 0.850619, 0.000240',\n",
       " '0002111b-9e3d-11ee-8ff7-525400ad1336, SDSS-DR16, 149.493560, 0.595322, 0.000059',\n",
       " '00023927-a467-11ee-9cc3-525400ad1336, BOSS-DR16, 141.667180, 0.870533, 0.000203',\n",
       " '00032c11-9e8d-11ee-a69f-525400ad1336, BOSS-DR16, 253.698780, 0.641871, 0.000037',\n",
       " '00037c3f-9ee1-11ee-982b-525400ad1336, BOSS-DR16, 37.800458, 0.643916, 0.000085',\n",
       " '0005a062-9be0-11ee-a1a2-525400ad1336, DESI-EDR, 172.369098, 0.875936, 0.000224',\n",
       " '0005acb9-9f5c-11ee-b6fa-525400ad1336, BOSS-DR16, 222.871170, 0.691619, 0.000141',\n",
       " '0005c12b-a02a-11ee-9d94-525400ad1336, SDSS-DR16, 130.378250, 0.641000, 0.000030',\n",
       " '00063674-9e6c-11ee-9e93-525400ad1336, SDSS-DR16, 17.402144, 0.724570, 0.001661',\n",
       " '00065107-a512-11ee-9a7c-525400ad1336, BOSS-DR16, 333.022280, 0.824359, 0.000077',\n",
       " '0006885f-a4fd-11ee-9c80-525400ad1336, BOSS-DR16, 352.655360, 0.879026, 0.000152',\n",
       " '00072421-a369-11ee-be10-525400ad1336, BOSS-DR16, 214.154880, 0.681319, 0.000126']"
      ]
     },
     "execution_count": 7,
     "metadata": {},
     "output_type": "execute_result"
    }
   ],
   "source": [
    "found_I = client.find(outfields=out, constraints=cons, limit=20, verbose=True)\n",
    "[\"%s, %s, %f, %f, %f\" % (f.sparcl_id, f.data_release, f.ra, f.redshift, f.redshift_err)\n",
    " for f in found_I.records]"
   ]
  },
  {
   "cell_type": "markdown",
   "id": "0efc55ae-9b27-41b5-a6f3-2f3c9f2e1221",
   "metadata": {},
   "source": [
    "For `retrieve`, there is an option to use `.info` such as: \n",
    "```\n",
    "{'status': {'success': True,\n",
    "  'info': [\"Successfully found 20 records in dr_list=['DESI-EDR', 'SDSS-DR16', 'BOSS-DR16']\"],\n",
    "  'warnings': []}}\n",
    "```\n",
    "Above, it would be useful if `verbose=True` would similarly print the list of data sets such as: `Searched dr_list=['DESI-EDR', 'SDSS-DR16', 'BOSS-DR16']` and including the list of available datasets. Or alternatively the list of datasets in which records were found (whichever is easier to implement is fine). No need to list unauthorized datasets."
   ]
  },
  {
   "cell_type": "markdown",
   "id": "98459ed7-729b-4795-a085-32870e4ea979",
   "metadata": {},
   "source": [
    "### (2) Only public data sets specified --> search those\n",
    "\n",
    "Below, everything behaves as expected. No change needed."
   ]
  },
  {
   "cell_type": "code",
   "execution_count": 8,
   "id": "a86c9f77-1a6d-43ca-a7b6-ba6e3ed37648",
   "metadata": {
    "tags": []
   },
   "outputs": [],
   "source": [
    "# Add a constraints to data sets with only Public options\n",
    "cons = {'spectype': ['QSO'],\n",
    "        'redshift': [0.5, 0.9],\n",
    "        'data_release': ['SDSS-DR16','DESI-EDR']}"
   ]
  },
  {
   "cell_type": "code",
   "execution_count": 9,
   "id": "84a77a13-7766-472b-bbf3-0edbe5f3cf79",
   "metadata": {
    "tags": []
   },
   "outputs": [
    {
     "name": "stdout",
     "output_type": "stream",
     "text": [
      "url=https://astrosparcl.datalab.noirlab.edu/sparc/find/?limit=20 sspec={'outfields': ['sparcl_id', 'ra', 'dec', 'redshift', 'spectype', 'data_release', 'redshift_err'], 'search': [['spectype', 'QSO'], ['redshift', 0.5, 0.9], ['data_release', 'SDSS-DR16', 'DESI-EDR']]}\n",
      "Record key counts: {'redshift_err': 20, 'dec': 20, 'spectype': 20, 'redshift': 20, 'data_release': 20, 'sparcl_id': 20, 'ra': 20, '_dr': 20}\n"
     ]
    },
    {
     "data": {
      "text/plain": [
       "['00009671-9d55-11ee-9f22-525400ad1336, DESI-EDR, 99.321930, 0.793761, 0.000081',\n",
       " '0001b55e-a065-11ee-bd78-525400ad1336, SDSS-DR16, 285.285050, 0.850619, 0.000240',\n",
       " '0002111b-9e3d-11ee-8ff7-525400ad1336, SDSS-DR16, 149.493560, 0.595322, 0.000059',\n",
       " '0005a062-9be0-11ee-a1a2-525400ad1336, DESI-EDR, 172.369098, 0.875936, 0.000224',\n",
       " '0005c12b-a02a-11ee-9d94-525400ad1336, SDSS-DR16, 130.378250, 0.641000, 0.000030',\n",
       " '00063674-9e6c-11ee-9e93-525400ad1336, SDSS-DR16, 17.402144, 0.724570, 0.001661',\n",
       " '000ae867-9fb2-11ee-a779-525400ad1336, SDSS-DR16, 193.878890, 0.767093, 0.000164',\n",
       " '0016389b-9f4e-11ee-b0c6-525400ad1336, SDSS-DR16, 220.336350, 0.894496, 0.000287',\n",
       " '001aaee8-a0d3-11ee-acd6-525400ad1336, SDSS-DR16, 158.799340, 0.658398, 0.000786',\n",
       " '001aced9-a0c3-11ee-abcf-525400ad1336, SDSS-DR16, 92.557349, 0.855296, 0.000188',\n",
       " '0021ee91-9efd-11ee-8880-525400ad1336, SDSS-DR16, 318.556380, 0.887307, 0.000228',\n",
       " '0022b33e-9fad-11ee-9fbd-525400ad1336, SDSS-DR16, 167.410630, 0.695967, 0.000064',\n",
       " '00239a99-a09e-11ee-a65f-525400ad1336, SDSS-DR16, 95.891726, 0.802089, 0.000197',\n",
       " '00256718-9e3e-11ee-ac9d-525400ad1336, SDSS-DR16, 153.323260, 0.749604, 0.000168',\n",
       " '0025c194-a06a-11ee-9fe6-525400ad1336, SDSS-DR16, 330.544530, 0.526668, 1.114095',\n",
       " '00262da1-9be3-11ee-9cc1-525400ad1336, DESI-EDR, 227.175912, 0.878453, 0.000026',\n",
       " '0026c4cc-a03b-11ee-8855-525400ad1336, SDSS-DR16, 152.705100, 0.718914, 0.000072',\n",
       " '0028817d-9cda-11ee-b59c-525400ad1336, DESI-EDR, 111.717370, 0.618966, 0.000061',\n",
       " '002a99f4-9f10-11ee-959a-525400ad1336, SDSS-DR16, 246.407290, 0.661926, 0.000133',\n",
       " '002b9ce8-a086-11ee-9994-525400ad1336, SDSS-DR16, 110.742080, 0.641528, 0.000030']"
      ]
     },
     "execution_count": 9,
     "metadata": {},
     "output_type": "execute_result"
    }
   ],
   "source": [
    "found_I = client.find(outfields=out, constraints=cons, limit=20, verbose=True)\n",
    "[\"%s, %s, %f, %f, %f\" % (f.sparcl_id, f.data_release, f.ra, f.redshift, f.redshift_err)\n",
    " for f in found_I.records]"
   ]
  },
  {
   "cell_type": "code",
   "execution_count": 10,
   "id": "989fd635-6bea-490f-afc8-7d02c3e66dce",
   "metadata": {
    "tags": []
   },
   "outputs": [],
   "source": [
    "# Add a constraints to data sets with only one Public data set\n",
    "\n",
    "cons = {'spectype': ['QSO'],\n",
    "        'redshift': [0.5, 0.9],\n",
    "        'data_release': ['SDSS-DR16']}"
   ]
  },
  {
   "cell_type": "code",
   "execution_count": 11,
   "id": "1585c783-4d77-4671-8d85-6cd719299c03",
   "metadata": {
    "tags": []
   },
   "outputs": [
    {
     "data": {
      "text/plain": [
       "['0001b55e-a065-11ee-bd78-525400ad1336, SDSS-DR16, 285.285050, 0.850619, 0.000240',\n",
       " '0002111b-9e3d-11ee-8ff7-525400ad1336, SDSS-DR16, 149.493560, 0.595322, 0.000059',\n",
       " '0005c12b-a02a-11ee-9d94-525400ad1336, SDSS-DR16, 130.378250, 0.641000, 0.000030',\n",
       " '00063674-9e6c-11ee-9e93-525400ad1336, SDSS-DR16, 17.402144, 0.724570, 0.001661',\n",
       " '000ae867-9fb2-11ee-a779-525400ad1336, SDSS-DR16, 193.878890, 0.767093, 0.000164',\n",
       " '0016389b-9f4e-11ee-b0c6-525400ad1336, SDSS-DR16, 220.336350, 0.894496, 0.000287',\n",
       " '001aaee8-a0d3-11ee-acd6-525400ad1336, SDSS-DR16, 158.799340, 0.658398, 0.000786',\n",
       " '001aced9-a0c3-11ee-abcf-525400ad1336, SDSS-DR16, 92.557349, 0.855296, 0.000188',\n",
       " '0021ee91-9efd-11ee-8880-525400ad1336, SDSS-DR16, 318.556380, 0.887307, 0.000228',\n",
       " '0022b33e-9fad-11ee-9fbd-525400ad1336, SDSS-DR16, 167.410630, 0.695967, 0.000064',\n",
       " '00239a99-a09e-11ee-a65f-525400ad1336, SDSS-DR16, 95.891726, 0.802089, 0.000197',\n",
       " '00256718-9e3e-11ee-ac9d-525400ad1336, SDSS-DR16, 153.323260, 0.749604, 0.000168',\n",
       " '0025c194-a06a-11ee-9fe6-525400ad1336, SDSS-DR16, 330.544530, 0.526668, 1.114095',\n",
       " '0026c4cc-a03b-11ee-8855-525400ad1336, SDSS-DR16, 152.705100, 0.718914, 0.000072',\n",
       " '002a99f4-9f10-11ee-959a-525400ad1336, SDSS-DR16, 246.407290, 0.661926, 0.000133',\n",
       " '002b9ce8-a086-11ee-9994-525400ad1336, SDSS-DR16, 110.742080, 0.641528, 0.000030',\n",
       " '002baf2b-a0bf-11ee-9811-525400ad1336, SDSS-DR16, 248.686790, 0.800358, 12.105769',\n",
       " '003c1c81-9f82-11ee-95d9-525400ad1336, SDSS-DR16, 234.751860, 0.874434, 0.000338',\n",
       " '003ec464-9fb1-11ee-aae8-525400ad1336, SDSS-DR16, 184.704150, 0.598774, 0.000227',\n",
       " '003ef280-9fae-11ee-aed9-525400ad1336, SDSS-DR16, 174.630820, 0.658187, 0.000197']"
      ]
     },
     "execution_count": 11,
     "metadata": {},
     "output_type": "execute_result"
    }
   ],
   "source": [
    "found_I = client.find(outfields=out, constraints=cons, limit=20)\n",
    "[\"%s, %s, %f, %f, %f\" % (f.sparcl_id, f.data_release, f.ra, f.redshift, f.redshift_err)\n",
    " for f in found_I.records]"
   ]
  },
  {
   "cell_type": "markdown",
   "id": "bd97641f-d953-4104-88bb-3c03ebc3cc0f",
   "metadata": {},
   "source": [
    "### (3) Only unauthorized data set specified --> return error"
   ]
  },
  {
   "cell_type": "code",
   "execution_count": 12,
   "id": "b38c1fbd-bb14-4552-baa0-37675db44b7c",
   "metadata": {
    "tags": []
   },
   "outputs": [],
   "source": [
    "# Specifically try to request a non-public data set (as of now): SDSS-DR17\n",
    "\n",
    "cons = {'spectype': ['QSO'],\n",
    "        'redshift': [0.5, 0.9],\n",
    "        'data_release': ['SDSS-DR17']}"
   ]
  },
  {
   "cell_type": "code",
   "execution_count": 15,
   "id": "2ddbb9ea-57e0-4ac4-bc7b-e0c051225ff0",
   "metadata": {},
   "outputs": [
    {
     "name": "stdout",
     "output_type": "stream",
     "text": [
      "SUCCESSFULY got expected error: str(err)='[UNKNOWN] User \"<annonymous>\" is declined access to {\\'SDSS-DR17\\'}. [NODRACCESS] None'\n"
     ]
    }
   ],
   "source": [
    "try:\n",
    "    found_I = client.find(outfields=out, constraints=cons, limit=20)\n",
    "    [\"%s, %s, %f, %f, %f\" % (f.sparcl_id, f.data_release, f.ra, f.redshift, f.redshift_err)\n",
    " for f in found_I.records]\n",
    "except Exception as err:\n",
    "    print(f'SUCCESSFULY got expected error: {str(err)=}')"
   ]
  },
  {
   "cell_type": "markdown",
   "id": "c6a44197-043a-4706-811e-383e65ec1a56",
   "metadata": {},
   "source": [
    "Great that an error is returned including listing the dataset!\n",
    "\n",
    "A minor comment/question regarding the error message:\n",
    "```\n",
    "UnknownServerError: [UNKNOWN] User \"<annonymous>\" is declined access to {'SDSS-DR17'}. [NODRACCESS]\n",
    "```\n",
    "It could be confusing at first that is says \"Unknown\" server error while the error is known to be Access Denied. It's not a big deal because it's then explained as \"User anonymous is declined access to {'SDSS-DR17'}\" which is very clear. So this is a low priority. "
   ]
  },
  {
   "cell_type": "markdown",
   "id": "abb3713f-3580-45a6-88a3-5a9dd68a0ff0",
   "metadata": {},
   "source": [
    "### (4) Mix of public & unauthorized data set specified --> Expect an error due to unauthorized dataset\n",
    "\n",
    "This is also the correct behavior. If the user sees the error message, they should realize that they need to be logged in and authorized or otherwise they need to remove the unauthorized dataset from their query."
   ]
  },
  {
   "cell_type": "code",
   "execution_count": 24,
   "id": "1e57f903-1a5a-4a08-8278-b6738d464e4a",
   "metadata": {
    "tags": []
   },
   "outputs": [],
   "source": [
    "# Add a constraints to data sets with both Public and Unauthorized options\n",
    "cons = {'spectype': ['QSO'],\n",
    "        'redshift': [0.5, 0.9],\n",
    "        'data_release': ['SDSS-DR16','SDSS-DR17']}"
   ]
  },
  {
   "cell_type": "code",
   "execution_count": 25,
   "id": "5541eb73-d9d1-4f5d-9184-ba8964fb8cb3",
   "metadata": {
    "tags": []
   },
   "outputs": [
    {
     "name": "stdout",
     "output_type": "stream",
     "text": [
      "SUCCESSFULY got expected error: str(err)='[UNKNOWN] User \"<annonymous>\" is declined access to {\\'SDSS-DR17\\'}. [NODRACCESS] None'\n"
     ]
    }
   ],
   "source": [
    "try:\n",
    "    found_I = client.find(outfields=out, constraints=cons, limit=20)\n",
    "except Exception as err:\n",
    "    print(f'SUCCESSFULY got expected error: {str(err)=}')"
   ]
  },
  {
   "cell_type": "markdown",
   "id": "0befe5c7-3ca5-48fd-a29b-510026c5866e",
   "metadata": {},
   "source": [
    "### (5) Mix of public & non-existent data set specified --> Want an ERROR that data set does not exist\n",
    "\n",
    "Below is *not* the expected behavior because the server quietly ignores the non-existing (or misspelled) data set and returns results from the public data set. If one looks carefully with `verbose=True`, one can notice that the non-existent data set name is not included in `'data_release'` but it would be preferable to have an ERROR message instead."
   ]
  },
  {
   "cell_type": "code",
   "execution_count": 18,
   "id": "6bcf3443-c729-4266-8b36-87237cd905ae",
   "metadata": {
    "tags": []
   },
   "outputs": [],
   "source": [
    "# Add a constraints to data sets with both Public and Non-existent options\n",
    "cons = {'spectype': ['QSO'],\n",
    "        'redshift': [0.5, 0.9],\n",
    "        'data_release': ['SDSS-DR16','FOO']}"
   ]
  },
  {
   "cell_type": "code",
   "execution_count": 19,
   "id": "c2e4c521-2052-44ee-b6f1-8457061484f5",
   "metadata": {
    "tags": []
   },
   "outputs": [
    {
     "name": "stdout",
     "output_type": "stream",
     "text": [
      "url=https://astrosparcl.datalab.noirlab.edu/sparc/find/?limit=20 sspec={'outfields': ['sparcl_id', 'ra', 'dec', 'redshift', 'spectype', 'data_release', 'redshift_err'], 'search': [['spectype', 'QSO'], ['redshift', 0.5, 0.9], ['data_release', 'SDSS-DR16', 'FOO']]}\n",
      "Record key counts: {'redshift_err': 20, 'dec': 20, 'spectype': 20, 'redshift': 20, 'data_release': 20, 'sparcl_id': 20, 'ra': 20, '_dr': 20}\n"
     ]
    },
    {
     "data": {
      "text/plain": [
       "['0001b55e-a065-11ee-bd78-525400ad1336, SDSS-DR16, 285.285050, 0.850619, 0.000240',\n",
       " '0002111b-9e3d-11ee-8ff7-525400ad1336, SDSS-DR16, 149.493560, 0.595322, 0.000059',\n",
       " '0005c12b-a02a-11ee-9d94-525400ad1336, SDSS-DR16, 130.378250, 0.641000, 0.000030',\n",
       " '00063674-9e6c-11ee-9e93-525400ad1336, SDSS-DR16, 17.402144, 0.724570, 0.001661',\n",
       " '000ae867-9fb2-11ee-a779-525400ad1336, SDSS-DR16, 193.878890, 0.767093, 0.000164',\n",
       " '0016389b-9f4e-11ee-b0c6-525400ad1336, SDSS-DR16, 220.336350, 0.894496, 0.000287',\n",
       " '001aaee8-a0d3-11ee-acd6-525400ad1336, SDSS-DR16, 158.799340, 0.658398, 0.000786',\n",
       " '001aced9-a0c3-11ee-abcf-525400ad1336, SDSS-DR16, 92.557349, 0.855296, 0.000188',\n",
       " '0021ee91-9efd-11ee-8880-525400ad1336, SDSS-DR16, 318.556380, 0.887307, 0.000228',\n",
       " '0022b33e-9fad-11ee-9fbd-525400ad1336, SDSS-DR16, 167.410630, 0.695967, 0.000064',\n",
       " '00239a99-a09e-11ee-a65f-525400ad1336, SDSS-DR16, 95.891726, 0.802089, 0.000197',\n",
       " '00256718-9e3e-11ee-ac9d-525400ad1336, SDSS-DR16, 153.323260, 0.749604, 0.000168',\n",
       " '0025c194-a06a-11ee-9fe6-525400ad1336, SDSS-DR16, 330.544530, 0.526668, 1.114095',\n",
       " '0026c4cc-a03b-11ee-8855-525400ad1336, SDSS-DR16, 152.705100, 0.718914, 0.000072',\n",
       " '002a99f4-9f10-11ee-959a-525400ad1336, SDSS-DR16, 246.407290, 0.661926, 0.000133',\n",
       " '002b9ce8-a086-11ee-9994-525400ad1336, SDSS-DR16, 110.742080, 0.641528, 0.000030',\n",
       " '002baf2b-a0bf-11ee-9811-525400ad1336, SDSS-DR16, 248.686790, 0.800358, 12.105769',\n",
       " '003c1c81-9f82-11ee-95d9-525400ad1336, SDSS-DR16, 234.751860, 0.874434, 0.000338',\n",
       " '003ec464-9fb1-11ee-aae8-525400ad1336, SDSS-DR16, 184.704150, 0.598774, 0.000227',\n",
       " '003ef280-9fae-11ee-aed9-525400ad1336, SDSS-DR16, 174.630820, 0.658187, 0.000197']"
      ]
     },
     "execution_count": 19,
     "metadata": {},
     "output_type": "execute_result"
    }
   ],
   "source": [
    "found_I = client.find(outfields=out, constraints=cons, limit=20, verbose=True)\n",
    "[\"%s, %s, %f, %f, %f\" % (f.sparcl_id, f.data_release, f.ra, f.redshift, f.redshift_err)\n",
    " for f in found_I.records]"
   ]
  },
  {
   "cell_type": "markdown",
   "id": "86d25596-e634-42df-80ef-933c371207a5",
   "metadata": {},
   "source": [
    "#### NOTE: Above, there should be an error that `Data set {'FOO'} does not exist.`\n",
    "\n",
    "Similarly, we next try a data set name with a typo: `DESI-ERD` instead of `DESI-EDR`"
   ]
  },
  {
   "cell_type": "code",
   "execution_count": 20,
   "id": "e34eb8e9-fb75-4b4a-be06-d4a6a730c5cb",
   "metadata": {
    "tags": []
   },
   "outputs": [],
   "source": [
    "# Add a constraints to data sets with both Public and Unauthorized options\n",
    "cons = {'spectype': ['QSO'],\n",
    "        'redshift': [0.5, 0.9],\n",
    "        'data_release': ['SDSS-DR16','DESI-ERD']}"
   ]
  },
  {
   "cell_type": "code",
   "execution_count": 21,
   "id": "0afbb57f-08ec-4ff8-b332-727a15a97955",
   "metadata": {
    "tags": []
   },
   "outputs": [
    {
     "data": {
      "text/plain": [
       "['0001b55e-a065-11ee-bd78-525400ad1336, SDSS-DR16, 285.285050, 0.850619, 0.000240',\n",
       " '0002111b-9e3d-11ee-8ff7-525400ad1336, SDSS-DR16, 149.493560, 0.595322, 0.000059',\n",
       " '0005c12b-a02a-11ee-9d94-525400ad1336, SDSS-DR16, 130.378250, 0.641000, 0.000030',\n",
       " '00063674-9e6c-11ee-9e93-525400ad1336, SDSS-DR16, 17.402144, 0.724570, 0.001661',\n",
       " '000ae867-9fb2-11ee-a779-525400ad1336, SDSS-DR16, 193.878890, 0.767093, 0.000164',\n",
       " '0016389b-9f4e-11ee-b0c6-525400ad1336, SDSS-DR16, 220.336350, 0.894496, 0.000287',\n",
       " '001aaee8-a0d3-11ee-acd6-525400ad1336, SDSS-DR16, 158.799340, 0.658398, 0.000786',\n",
       " '001aced9-a0c3-11ee-abcf-525400ad1336, SDSS-DR16, 92.557349, 0.855296, 0.000188',\n",
       " '0021ee91-9efd-11ee-8880-525400ad1336, SDSS-DR16, 318.556380, 0.887307, 0.000228',\n",
       " '0022b33e-9fad-11ee-9fbd-525400ad1336, SDSS-DR16, 167.410630, 0.695967, 0.000064',\n",
       " '00239a99-a09e-11ee-a65f-525400ad1336, SDSS-DR16, 95.891726, 0.802089, 0.000197',\n",
       " '00256718-9e3e-11ee-ac9d-525400ad1336, SDSS-DR16, 153.323260, 0.749604, 0.000168',\n",
       " '0025c194-a06a-11ee-9fe6-525400ad1336, SDSS-DR16, 330.544530, 0.526668, 1.114095',\n",
       " '0026c4cc-a03b-11ee-8855-525400ad1336, SDSS-DR16, 152.705100, 0.718914, 0.000072',\n",
       " '002a99f4-9f10-11ee-959a-525400ad1336, SDSS-DR16, 246.407290, 0.661926, 0.000133',\n",
       " '002b9ce8-a086-11ee-9994-525400ad1336, SDSS-DR16, 110.742080, 0.641528, 0.000030',\n",
       " '002baf2b-a0bf-11ee-9811-525400ad1336, SDSS-DR16, 248.686790, 0.800358, 12.105769',\n",
       " '003c1c81-9f82-11ee-95d9-525400ad1336, SDSS-DR16, 234.751860, 0.874434, 0.000338',\n",
       " '003ec464-9fb1-11ee-aae8-525400ad1336, SDSS-DR16, 184.704150, 0.598774, 0.000227',\n",
       " '003ef280-9fae-11ee-aed9-525400ad1336, SDSS-DR16, 174.630820, 0.658187, 0.000197']"
      ]
     },
     "execution_count": 21,
     "metadata": {},
     "output_type": "execute_result"
    }
   ],
   "source": [
    "found_I = client.find(outfields=out, constraints=cons, limit=20)\n",
    "[\"%s, %s, %f, %f, %f\" % (f.sparcl_id, f.data_release, f.ra, f.redshift, f.redshift_err)\n",
    " for f in found_I.records]"
   ]
  },
  {
   "cell_type": "markdown",
   "id": "31ea7685-d381-40ab-8e13-55d631a3dd72",
   "metadata": {},
   "source": [
    "#### NOTE: Above, there should be an error that `Data set {'DESI-ERD'} does not exist.`"
   ]
  }
 ],
 "metadata": {
  "kernelspec": {
   "display_name": "Python 3 (ipykernel)",
   "language": "python",
   "name": "python3"
  },
  "language_info": {
   "codemirror_mode": {
    "name": "ipython",
    "version": 3
   },
   "file_extension": ".py",
   "mimetype": "text/x-python",
   "name": "python",
   "nbconvert_exporter": "python",
   "pygments_lexer": "ipython3",
   "version": "3.10.12"
  }
 },
 "nbformat": 4,
 "nbformat_minor": 5
}
