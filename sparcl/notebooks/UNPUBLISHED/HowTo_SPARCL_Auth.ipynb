{
 "cells": [
  {
   "cell_type": "code",
   "execution_count": null,
   "id": "d5c6f1a1-5f61-4571-97dd-917b8ec0a34f",
   "metadata": {},
   "outputs": [],
   "source": [
    "__author__ = 'Alice Jacques <alice.jacques@noirlab.edu>, Steve Pothier <steve.pothier@noirlab.edu>, SPARCL team <datalab-spectro@noirlab.edu>'\n",
    "__version__ = '20240717' # yyyymmdd; \n",
    "__datasets__ = ['sdss_dr16', 'boss_dr16', 'desi_edr', 'sdss_dr17_test']"
   ]
  },
  {
   "cell_type": "markdown",
   "id": "8ac7f357-b7c8-4a1d-aae9-e013f6720940",
   "metadata": {},
   "source": [
    "# How to use SPARCL's authentication+authorization feature\n",
    "Authors: Alice Jacques, Steve Pothier, and the SPARCL team"
   ]
  },
  {
   "cell_type": "markdown",
   "id": "3238a4be-483d-4809-b1a3-1202254e3c09",
   "metadata": {},
   "source": [
    "### Table of contents\n",
    "* [(1) Login, logout, and check authorized datasets](#loginout)\n",
    "    - [(1a) A user authorized to access a private dataset](#1a)\n",
    "    - [(1b) A user unauthorized to access a private dataset](#1b)\n",
    "    - [(1c) A user that has an SSO account, but is not registered in our Admin](#1c)\n",
    "    - [(1d) An anonymous user](#1d)\n",
    "<html><p></html>\n",
    "* [(2) Auth with the <tt>client.find()</tt> method](#find)\n",
    "    - [(2a) A user authorized to access a private dataset](#2a)\n",
    "    - [(2b) A user unauthorized to access a private dataset](#2b)\n",
    "    - [(2c) A user that has an SSO account, but is not registered in our Admin](#2c)\n",
    "    - [(2d) An anonymous user](#2d)\n",
    "<html><p></html>\n",
    "* [(3) Auth with the <tt>client.retrieve()</tt> method](#retrieve)\n",
    "    - [(3a) A user authorized to access a private dataset](#3a)\n",
    "    - [(3b) A user unauthorized to access a private dataset](#3b)\n",
    "    - [(3c) A user that has an SSO account, but is not registered in our Admin](#3c)\n",
    "    - [(3d) An anonymous user](#3d)"
   ]
  },
  {
   "cell_type": "markdown",
   "id": "dc627526-0f44-4e98-ac64-9e661070f716",
   "metadata": {},
   "source": [
    "## NOTE\n",
    "This notebook demonstrates how users will interact with the Auth feature in SPARCL. It is meant for internal-use only. Connection to sparc1 and sparclstage servers require VPN.\n",
    "\n",
    "A logged-in session will only last about 30 seconds. Re-run the `client.login` cell to sign back into the specified user account."
   ]
  },
  {
   "cell_type": "markdown",
   "id": "aa39e07c-2625-4bfd-8b65-c003440d0847",
   "metadata": {},
   "source": [
    "# Install the most recent version of the SPARCL client"
   ]
  },
  {
   "cell_type": "code",
   "execution_count": 12,
   "id": "a4e0cfb3-0b8b-44e3-9c5a-d507b8e6e108",
   "metadata": {
    "tags": []
   },
   "outputs": [
    {
     "name": "stdout",
     "output_type": "stream",
     "text": [
      "Collecting sparclclient==1.2.2b11\n",
      "  Downloading sparclclient-1.2.2b11-py2.py3-none-any.whl.metadata (567 bytes)\n",
      "Downloading sparclclient-1.2.2b11-py2.py3-none-any.whl (113 kB)\n",
      "\u001b[2K   \u001b[90m━━━━━━━━━━━━━━━━━━━━━━━━━━━━━━━━━━━━━━━━\u001b[0m \u001b[32m113.8/113.8 kB\u001b[0m \u001b[31m3.4 MB/s\u001b[0m eta \u001b[36m0:00:00\u001b[0m\n",
      "\u001b[?25h\u001b[33mDEPRECATION: pyodbc 4.0.0-unsupported has a non-standard version number. pip 24.1 will enforce this behaviour change. A possible replacement is to upgrade to a newer version of pyodbc or contact the author to suggest that they release a version with a conforming version number. Discussion can be found at https://github.com/pypa/pip/issues/12063\u001b[0m\u001b[33m\n",
      "\u001b[0mInstalling collected packages: sparclclient\n",
      "  Attempting uninstall: sparclclient\n",
      "    Found existing installation: sparclclient 1.2.2b10\n",
      "    Uninstalling sparclclient-1.2.2b10:\n",
      "      Successfully uninstalled sparclclient-1.2.2b10\n",
      "Successfully installed sparclclient-1.2.2b11\n",
      "\n",
      "\u001b[1m[\u001b[0m\u001b[34;49mnotice\u001b[0m\u001b[1;39;49m]\u001b[0m\u001b[39;49m A new release of pip is available: \u001b[0m\u001b[31;49m24.0\u001b[0m\u001b[39;49m -> \u001b[0m\u001b[32;49m24.1.2\u001b[0m\n",
      "\u001b[1m[\u001b[0m\u001b[34;49mnotice\u001b[0m\u001b[1;39;49m]\u001b[0m\u001b[39;49m To update, run: \u001b[0m\u001b[32;49mpip install --upgrade pip\u001b[0m\n"
     ]
    }
   ],
   "source": [
    "!pip install sparclclient==1.2.2b11"
   ]
  },
  {
   "cell_type": "markdown",
   "id": "5663de5a-acfc-45fa-b9d2-24432acc195f",
   "metadata": {},
   "source": [
    "# Imports and setup"
   ]
  },
  {
   "cell_type": "code",
   "execution_count": 1,
   "id": "e8a3b609-3fff-4497-b998-94183f021bc6",
   "metadata": {
    "tags": []
   },
   "outputs": [
    {
     "name": "stderr",
     "output_type": "stream",
     "text": [
      "/Users/alice.jacques/.local/lib/python3.8/site-packages/requests/__init__.py:89: RequestsDependencyWarning: urllib3 (2.2.1) or chardet (5.2.0) doesn't match a supported version!\n",
      "  warnings.warn(\"urllib3 ({}) or chardet ({}) doesn't match a supported \"\n"
     ]
    }
   ],
   "source": [
    "from sparcl.client import SparclClient\n",
    "from getpass import getpass"
   ]
  },
  {
   "cell_type": "code",
   "execution_count": 2,
   "id": "96fae0a6-7e8f-4339-9745-4713c5f92829",
   "metadata": {
    "tags": []
   },
   "outputs": [
    {
     "data": {
      "text/plain": [
       "(sparclclient:1.2.2b11, api:12.0, https://sparclstage.datalab.noirlab.edu/sparc, client_hash=, verbose=False, connect_timeout=1.1, read_timeout=5400.0)"
      ]
     },
     "execution_count": 2,
     "metadata": {},
     "output_type": "execute_result"
    }
   ],
   "source": [
    "#client = SparclClient(url='https://sparc1.datalab.noirlab.edu')  ## PAT\n",
    "#client = SparclClient(url='http://sparcdev2.csdc.noirlab.edu:8050')  ## DEV\n",
    "client = SparclClient(url='https://sparclstage.datalab.noirlab.edu')  ## STAGE\n",
    "#client = SparclClient()  ## PROD\n",
    "client"
   ]
  },
  {
   "cell_type": "code",
   "execution_count": 3,
   "id": "53a44e12-3e9c-4bb1-89cb-e22f5432b5d8",
   "metadata": {
    "tags": []
   },
   "outputs": [
    {
     "name": "stdin",
     "output_type": "stream",
     "text": [
      " ········\n"
     ]
    }
   ],
   "source": [
    "auth_user = 'test_user_1@noirlab.edu'\n",
    "unauth_user = 'test_user_2@noirlab.edu'\n",
    "non_user = 'test_user_3@noirlab.edu'\n",
    "usrpw = getpass()"
   ]
  },
  {
   "cell_type": "markdown",
   "id": "c5d2fcba-4097-4133-9661-f53babc57fe1",
   "metadata": {},
   "source": [
    "#### Helper function"
   ]
  },
  {
   "cell_type": "code",
   "execution_count": 4,
   "id": "c4d907ff-7524-48cc-93c2-08be2ec97e19",
   "metadata": {
    "tags": []
   },
   "outputs": [],
   "source": [
    "def count_records(res):\n",
    "    \n",
    "    count_sdss=0\n",
    "    count_boss=0\n",
    "    count_desi=0\n",
    "    count_priv=0\n",
    "    \n",
    "    for r in res.records:\n",
    "        if r.data_release == 'SDSS-DR16':\n",
    "            count_sdss += 1\n",
    "        elif r.data_release == 'BOSS-DR16':\n",
    "            count_boss += 1\n",
    "        elif r.data_release == 'DESI-EDR':\n",
    "            count_desi += 1\n",
    "        elif r.data_release == 'SDSS-DR17-test':\n",
    "            count_priv += 1\n",
    "\n",
    "    print(f\"# of SDSS-DR16 records = {count_sdss}\\n\"\n",
    "          f\"# of BOSS-DR16 records = {count_boss}\\n\"\n",
    "          f\"# of DESI-EDR records = {count_desi}\\n\"\n",
    "          f\"# of SDSS-DR17-test records = {count_priv}\")"
   ]
  },
  {
   "cell_type": "markdown",
   "id": "960cceb3-fcbf-403e-ba45-452ac792e2d4",
   "metadata": {},
   "source": [
    "<a class=\"anchor\" id=\"loginout\"></a>\n",
    "# (1) Login, logout, and check authorized datasets"
   ]
  },
  {
   "cell_type": "code",
   "execution_count": 5,
   "id": "f4ad6166-04c2-4936-a20c-94f145c21784",
   "metadata": {
    "tags": []
   },
   "outputs": [
    {
     "data": {
      "text/plain": [
       "\u001b[0;31mSignature:\u001b[0m \u001b[0mclient\u001b[0m\u001b[0;34m.\u001b[0m\u001b[0mlogin\u001b[0m\u001b[0;34m(\u001b[0m\u001b[0memail\u001b[0m\u001b[0;34m,\u001b[0m \u001b[0mpassword\u001b[0m\u001b[0;34m=\u001b[0m\u001b[0;32mNone\u001b[0m\u001b[0;34m)\u001b[0m\u001b[0;34m\u001b[0m\u001b[0;34m\u001b[0m\u001b[0m\n",
       "\u001b[0;31mDocstring:\u001b[0m\n",
       "Login to the SPARCL service.\n",
       "\n",
       "Args:\n",
       "    email (:obj:`str`): User login email.\n",
       "\n",
       "    password (:obj:`str`, optional): User SSO password.\n",
       "        If not given, the output will prompt the user\n",
       "        to enter in their SSO password.\n",
       "\n",
       "Returns:\n",
       "    None.\n",
       "\n",
       "Example:\n",
       "    >>>\n",
       "    >> client = SparclClient()\n",
       "    >> client.login('test_user@noirlab.edu', 'testpw')\n",
       "    Logged in successfully with email='test_user@noirlab.edu'\n",
       "\u001b[0;31mFile:\u001b[0m      ~/anaconda3/lib/python3.8/site-packages/sparcl/client.py\n",
       "\u001b[0;31mType:\u001b[0m      method"
      ]
     },
     "metadata": {},
     "output_type": "display_data"
    }
   ],
   "source": [
    "client.login?"
   ]
  },
  {
   "cell_type": "code",
   "execution_count": 6,
   "id": "9e9dbb27-9c69-43a5-a1f6-fe726f60c1b9",
   "metadata": {
    "tags": []
   },
   "outputs": [
    {
     "data": {
      "text/plain": [
       "\u001b[0;31mSignature:\u001b[0m \u001b[0mclient\u001b[0m\u001b[0;34m.\u001b[0m\u001b[0mlogout\u001b[0m\u001b[0;34m(\u001b[0m\u001b[0;34m)\u001b[0m\u001b[0;34m\u001b[0m\u001b[0;34m\u001b[0m\u001b[0m\n",
       "\u001b[0;31mDocstring:\u001b[0m\n",
       "Logout of the SPARCL service.\n",
       "\n",
       "Args:\n",
       "    None.\n",
       "\n",
       "Returns:\n",
       "    None.\n",
       "\n",
       "Example:\n",
       "    >>> client = SparclClient()\n",
       "    >>> client.logout()\n",
       "    Logged-out successfully.  Previously logged-in with email None.\n",
       "\u001b[0;31mFile:\u001b[0m      ~/anaconda3/lib/python3.8/site-packages/sparcl/client.py\n",
       "\u001b[0;31mType:\u001b[0m      method"
      ]
     },
     "metadata": {},
     "output_type": "display_data"
    }
   ],
   "source": [
    "client.logout?"
   ]
  },
  {
   "cell_type": "markdown",
   "id": "f96d7713-6508-4b72-9dd1-7b5fb75e9143",
   "metadata": {},
   "source": [
    "<a class=\"anchor\" id=\"1a\"></a>\n",
    "### (1a) A user authorized to access a private dataset"
   ]
  },
  {
   "cell_type": "code",
   "execution_count": 7,
   "id": "98fe8ff9-c897-49e4-82d7-5f9798e75813",
   "metadata": {
    "tags": []
   },
   "outputs": [
    {
     "name": "stdout",
     "output_type": "stream",
     "text": [
      "Logged in successfully with email='test_user_1@noirlab.edu'\n"
     ]
    }
   ],
   "source": [
    "client.login(auth_user, usrpw)"
   ]
  },
  {
   "cell_type": "code",
   "execution_count": 8,
   "id": "5a7fcd64-5c55-457e-b3fc-375d3aac1c4c",
   "metadata": {
    "tags": []
   },
   "outputs": [
    {
     "data": {
      "text/plain": [
       "{'Loggedin_As': 'test_user_1@noirlab.edu',\n",
       " 'Authorized_Datasets': {'BOSS-DR16',\n",
       "  'DESI-EDR',\n",
       "  'SDSS-DR16',\n",
       "  'SDSS-DR17-test'}}"
      ]
     },
     "execution_count": 8,
     "metadata": {},
     "output_type": "execute_result"
    }
   ],
   "source": [
    "client.authorized"
   ]
  },
  {
   "cell_type": "code",
   "execution_count": 9,
   "id": "fa2d2a18-e68c-4e8d-b934-6b650f3171cd",
   "metadata": {
    "tags": []
   },
   "outputs": [
    {
     "name": "stdout",
     "output_type": "stream",
     "text": [
      "Logged-out successfully.  Previously logged-in with email test_user_1@noirlab.edu.\n"
     ]
    }
   ],
   "source": [
    "client.logout()"
   ]
  },
  {
   "cell_type": "markdown",
   "id": "a37f2891-0019-4d95-8715-f894ba8a89f3",
   "metadata": {},
   "source": [
    "<a class=\"anchor\" id=\"1b\"></a>\n",
    "### (1b) A user unauthorized to access a private dataset"
   ]
  },
  {
   "cell_type": "code",
   "execution_count": 10,
   "id": "18faec44-0a03-424f-95fd-f0df7aabd6ee",
   "metadata": {
    "tags": []
   },
   "outputs": [
    {
     "name": "stdout",
     "output_type": "stream",
     "text": [
      "Logged in successfully with email='test_user_2@noirlab.edu'\n"
     ]
    }
   ],
   "source": [
    "client.login(unauth_user, usrpw)"
   ]
  },
  {
   "cell_type": "code",
   "execution_count": 11,
   "id": "c25f9737-04af-486a-9443-4d9014cf2601",
   "metadata": {
    "tags": []
   },
   "outputs": [
    {
     "data": {
      "text/plain": [
       "{'Loggedin_As': 'test_user_2@noirlab.edu',\n",
       " 'Authorized_Datasets': {'BOSS-DR16', 'DESI-EDR', 'SDSS-DR16'}}"
      ]
     },
     "execution_count": 11,
     "metadata": {},
     "output_type": "execute_result"
    }
   ],
   "source": [
    "client.authorized"
   ]
  },
  {
   "cell_type": "code",
   "execution_count": 12,
   "id": "20fd0c36-319b-4978-92fa-255ef73eb401",
   "metadata": {
    "tags": []
   },
   "outputs": [
    {
     "name": "stdout",
     "output_type": "stream",
     "text": [
      "Logged-out successfully.  Previously logged-in with email test_user_2@noirlab.edu.\n"
     ]
    }
   ],
   "source": [
    "client.logout()"
   ]
  },
  {
   "cell_type": "markdown",
   "id": "cf157185-9a66-406b-be31-a4b0a3bb1d55",
   "metadata": {},
   "source": [
    "<a class=\"anchor\" id=\"1c\"></a>\n",
    "### (1c) A user that has an SSO account, but is not registered in our Admin"
   ]
  },
  {
   "cell_type": "code",
   "execution_count": 13,
   "id": "ee8a2605-516d-4eb0-afd0-ece3a53549fc",
   "metadata": {
    "tags": []
   },
   "outputs": [
    {
     "name": "stdout",
     "output_type": "stream",
     "text": [
      "Logged in successfully with email='test_user_3@noirlab.edu'\n"
     ]
    }
   ],
   "source": [
    "client.login(non_user, usrpw)"
   ]
  },
  {
   "cell_type": "code",
   "execution_count": 14,
   "id": "1a8cbf2d-568b-4199-adde-f77fae944d70",
   "metadata": {
    "tags": []
   },
   "outputs": [
    {
     "data": {
      "text/plain": [
       "{'Loggedin_As': 'Anonymous',\n",
       " 'Authorized_Datasets': {'BOSS-DR16', 'DESI-EDR', 'SDSS-DR16'}}"
      ]
     },
     "execution_count": 14,
     "metadata": {},
     "output_type": "execute_result"
    }
   ],
   "source": [
    "client.authorized"
   ]
  },
  {
   "cell_type": "code",
   "execution_count": 15,
   "id": "56575542-11fd-4afa-b182-9d0aa288e9dd",
   "metadata": {
    "tags": []
   },
   "outputs": [
    {
     "name": "stdout",
     "output_type": "stream",
     "text": [
      "Logged-out successfully.  Previously logged-in with email test_user_3@noirlab.edu.\n"
     ]
    }
   ],
   "source": [
    "client.logout()"
   ]
  },
  {
   "cell_type": "markdown",
   "id": "95986e60-f5c7-4d71-b0bc-ac3bee7defc5",
   "metadata": {},
   "source": [
    "<a class=\"anchor\" id=\"1d\"></a>\n",
    "### (1d) An anonymous user"
   ]
  },
  {
   "cell_type": "code",
   "execution_count": 16,
   "id": "db8ec640-4fcf-4492-a7aa-ea8c6f3c993b",
   "metadata": {
    "tags": []
   },
   "outputs": [
    {
     "data": {
      "text/plain": [
       "{'Loggedin_As': 'Anonymous',\n",
       " 'Authorized_Datasets': {'BOSS-DR16', 'DESI-EDR', 'SDSS-DR16'}}"
      ]
     },
     "execution_count": 16,
     "metadata": {},
     "output_type": "execute_result"
    }
   ],
   "source": [
    "client.authorized"
   ]
  },
  {
   "cell_type": "code",
   "execution_count": 17,
   "id": "cb0bb70c-651f-4763-83f8-d4a7f303c3c7",
   "metadata": {
    "tags": []
   },
   "outputs": [
    {
     "name": "stdout",
     "output_type": "stream",
     "text": [
      "Logged-out successfully.  Previously logged-in with email None.\n"
     ]
    }
   ],
   "source": [
    "client.logout()"
   ]
  },
  {
   "cell_type": "markdown",
   "id": "e5427142-9eec-4a83-be3b-e72920ece93e",
   "metadata": {},
   "source": [
    "<a class=\"anchor\" id=\"find\"></a>\n",
    "# (2) Auth with the `client.find()` method"
   ]
  },
  {
   "cell_type": "code",
   "execution_count": 24,
   "id": "0d5b8c6a-5371-4bcd-8773-bd9fdd7d47bf",
   "metadata": {
    "tags": []
   },
   "outputs": [],
   "source": [
    "# No dataset(s) specified in constraints\n",
    "cons = {'spectype': ['GALAXY'],\n",
    "        'redshift': [0.299649, 0.299652]}\n",
    "# Private dataset specified in constraints\n",
    "cons2 = {'spectype': ['GALAXY'],\n",
    "         'redshift': [0.299649, 0.299652],\n",
    "         'data_release': ['SDSS-DR17-test', 'DESI-EDR']}\n",
    "# Outfields\n",
    "out = ['sparcl_id', 'data_release']"
   ]
  },
  {
   "cell_type": "markdown",
   "id": "c511de77-f113-4215-8372-ee4f905f22c3",
   "metadata": {},
   "source": [
    "<a class=\"anchor\" id=\"2a\"></a>\n",
    "### (2a) A user authorized to access a private dataset"
   ]
  },
  {
   "cell_type": "code",
   "execution_count": 26,
   "id": "00f1d30e-3b65-470c-a829-c9ad6f10657b",
   "metadata": {
    "tags": []
   },
   "outputs": [
    {
     "name": "stdout",
     "output_type": "stream",
     "text": [
      "Logged in successfully with email='test_user_1@noirlab.edu'\n"
     ]
    }
   ],
   "source": [
    "client.login(auth_user, usrpw)"
   ]
  },
  {
   "cell_type": "code",
   "execution_count": 27,
   "id": "908a18f8-4a69-4a1a-9392-19e1c1ba05d4",
   "metadata": {
    "tags": []
   },
   "outputs": [
    {
     "name": "stdout",
     "output_type": "stream",
     "text": [
      "# of SDSS-DR16 records = 2\n",
      "# of BOSS-DR16 records = 9\n",
      "# of DESI-EDR records = 3\n",
      "# of SDSS-DR17-test records = 1\n"
     ]
    }
   ],
   "source": [
    "# No dataset(s) specified in constraints.\n",
    "auth_found = client.find(outfields=out,\n",
    "                         constraints=cons,\n",
    "                         limit=20000)\n",
    "count_records(auth_found)"
   ]
  },
  {
   "cell_type": "code",
   "execution_count": 28,
   "id": "9194f105-b71b-4403-8008-f69f97526be9",
   "metadata": {
    "tags": []
   },
   "outputs": [
    {
     "name": "stdout",
     "output_type": "stream",
     "text": [
      "# of SDSS-DR16 records = 0\n",
      "# of BOSS-DR16 records = 0\n",
      "# of DESI-EDR records = 3\n",
      "# of SDSS-DR17-test records = 1\n"
     ]
    }
   ],
   "source": [
    "# Private dataset specified in constraints.\n",
    "auth_found2 = client.find(outfields=out,\n",
    "                          constraints=cons2,\n",
    "                          limit=20000)\n",
    "count_records(auth_found2)"
   ]
  },
  {
   "cell_type": "code",
   "execution_count": 22,
   "id": "5a2d127d-6338-42ed-9cfc-892f679670af",
   "metadata": {
    "tags": []
   },
   "outputs": [
    {
     "name": "stdout",
     "output_type": "stream",
     "text": [
      "Logged-out successfully.  Previously logged-in with email test_user_1@noirlab.edu.\n"
     ]
    }
   ],
   "source": [
    "client.logout()"
   ]
  },
  {
   "cell_type": "markdown",
   "id": "47640ca9-ed9e-4ad5-b913-7b080871a81e",
   "metadata": {},
   "source": [
    "<a class=\"anchor\" id=\"2b\"></a>\n",
    "### (2b) A user unauthorized to access a private dataset"
   ]
  },
  {
   "cell_type": "code",
   "execution_count": 29,
   "id": "fb91c794-e261-4934-ac5f-80e0d9696fd7",
   "metadata": {
    "tags": []
   },
   "outputs": [
    {
     "name": "stdout",
     "output_type": "stream",
     "text": [
      "Logged in successfully with email='test_user_2@noirlab.edu'\n"
     ]
    }
   ],
   "source": [
    "client.login(unauth_user, usrpw)"
   ]
  },
  {
   "cell_type": "code",
   "execution_count": 30,
   "id": "a960b911-ab66-4926-ad48-a5e7089b6637",
   "metadata": {
    "tags": []
   },
   "outputs": [
    {
     "name": "stdout",
     "output_type": "stream",
     "text": [
      "# of SDSS-DR16 records = 2\n",
      "# of BOSS-DR16 records = 9\n",
      "# of DESI-EDR records = 3\n",
      "# of SDSS-DR17-test records = 0\n"
     ]
    }
   ],
   "source": [
    "# No dataset(s) specified in constraints.\n",
    "unauth_found = client.find(outfields=out,\n",
    "                           constraints=cons,\n",
    "                           limit=20000)\n",
    "count_records(unauth_found)"
   ]
  },
  {
   "cell_type": "code",
   "execution_count": 31,
   "id": "1a935917-9a2e-4167-b222-b2884490ea9d",
   "metadata": {
    "tags": []
   },
   "outputs": [
    {
     "ename": "AccessNotAllowed",
     "evalue": "[DSDENIED] uname='test_user_2@noirlab.edu' is declined access to datasets=['SDSS-DR17-test']; drs_requested=['DESI-EDR', 'SDSS-DR17-test'] my_auth=['BOSS-DR16', 'DESI-EDR', 'SDSS-DR16']",
     "output_type": "error",
     "traceback": [
      "\u001b[0;31m---------------------------------------------------------------------------\u001b[0m",
      "\u001b[0;31mAccessNotAllowed\u001b[0m                          Traceback (most recent call last)",
      "Cell \u001b[0;32mIn[31], line 3\u001b[0m\n\u001b[1;32m      1\u001b[0m \u001b[38;5;66;03m# Private dataset specified in constraints.\u001b[39;00m\n\u001b[1;32m      2\u001b[0m \u001b[38;5;66;03m# This cell should produce an \"Access Not Allowed\" error.\u001b[39;00m\n\u001b[0;32m----> 3\u001b[0m unauth_found2 \u001b[38;5;241m=\u001b[39m \u001b[43mclient\u001b[49m\u001b[38;5;241;43m.\u001b[39;49m\u001b[43mfind\u001b[49m\u001b[43m(\u001b[49m\u001b[43moutfields\u001b[49m\u001b[38;5;241;43m=\u001b[39;49m\u001b[43mout\u001b[49m\u001b[43m,\u001b[49m\n\u001b[1;32m      4\u001b[0m \u001b[43m                            \u001b[49m\u001b[43mconstraints\u001b[49m\u001b[38;5;241;43m=\u001b[39;49m\u001b[43mcons2\u001b[49m\u001b[43m,\u001b[49m\n\u001b[1;32m      5\u001b[0m \u001b[43m                            \u001b[49m\u001b[43mlimit\u001b[49m\u001b[38;5;241;43m=\u001b[39;49m\u001b[38;5;241;43m20000\u001b[39;49m\u001b[43m)\u001b[49m\n\u001b[1;32m      6\u001b[0m count_records(unauth_found2)\n",
      "File \u001b[0;32m~/anaconda3/lib/python3.8/site-packages/sparcl/client.py:576\u001b[0m, in \u001b[0;36mSparclClient.find\u001b[0;34m(self, outfields, constraints, limit, sort, verbose)\u001b[0m\n\u001b[1;32m    574\u001b[0m     \u001b[38;5;28;01mif\u001b[39;00m verbose \u001b[38;5;129;01mand\u001b[39;00m (\u001b[38;5;124m\"\u001b[39m\u001b[38;5;124mtraceback\u001b[39m\u001b[38;5;124m\"\u001b[39m \u001b[38;5;129;01min\u001b[39;00m res\u001b[38;5;241m.\u001b[39mjson()):\n\u001b[1;32m    575\u001b[0m         \u001b[38;5;28mprint\u001b[39m(\u001b[38;5;124mf\u001b[39m\u001b[38;5;124m'\u001b[39m\u001b[38;5;124mDBG: Server traceback=\u001b[39m\u001b[38;5;130;01m\\n\u001b[39;00m\u001b[38;5;132;01m{\u001b[39;00mres\u001b[38;5;241m.\u001b[39mjson()[\u001b[38;5;124m\"\u001b[39m\u001b[38;5;124mtraceback\u001b[39m\u001b[38;5;124m\"\u001b[39m]\u001b[38;5;132;01m}\u001b[39;00m\u001b[38;5;124m'\u001b[39m)\n\u001b[0;32m--> 576\u001b[0m     \u001b[38;5;28;01mraise\u001b[39;00m ex\u001b[38;5;241m.\u001b[39mgenSparclException(res, verbose\u001b[38;5;241m=\u001b[39m\u001b[38;5;28mself\u001b[39m\u001b[38;5;241m.\u001b[39mverbose)\n\u001b[1;32m    578\u001b[0m found \u001b[38;5;241m=\u001b[39m Found(res\u001b[38;5;241m.\u001b[39mjson(), client\u001b[38;5;241m=\u001b[39m\u001b[38;5;28mself\u001b[39m)\n\u001b[1;32m    579\u001b[0m \u001b[38;5;28;01mif\u001b[39;00m verbose:\n",
      "\u001b[0;31mAccessNotAllowed\u001b[0m: [DSDENIED] uname='test_user_2@noirlab.edu' is declined access to datasets=['SDSS-DR17-test']; drs_requested=['DESI-EDR', 'SDSS-DR17-test'] my_auth=['BOSS-DR16', 'DESI-EDR', 'SDSS-DR16']"
     ]
    }
   ],
   "source": [
    "# Private dataset specified in constraints.\n",
    "# This cell should produce an \"Access Not Allowed\" error.\n",
    "unauth_found2 = client.find(outfields=out,\n",
    "                            constraints=cons2,\n",
    "                            limit=20000)\n",
    "count_records(unauth_found2)"
   ]
  },
  {
   "cell_type": "code",
   "execution_count": 32,
   "id": "5bda5d9e-da49-45a5-98aa-815fcba44771",
   "metadata": {
    "tags": []
   },
   "outputs": [
    {
     "name": "stdout",
     "output_type": "stream",
     "text": [
      "Logged-out successfully.  Previously logged-in with email test_user_2@noirlab.edu.\n"
     ]
    }
   ],
   "source": [
    "client.logout()"
   ]
  },
  {
   "cell_type": "markdown",
   "id": "16427baf-356b-489d-a8e1-2475a283827e",
   "metadata": {},
   "source": [
    "<a class=\"anchor\" id=\"2c\"></a>\n",
    "### (2c) A user that has an SSO account, but is not registered in our Admin"
   ]
  },
  {
   "cell_type": "code",
   "execution_count": 33,
   "id": "45a21b83-d1fc-4f46-a17b-685b8003077a",
   "metadata": {
    "tags": []
   },
   "outputs": [
    {
     "name": "stdout",
     "output_type": "stream",
     "text": [
      "Logged in successfully with email='test_user_3@noirlab.edu'\n"
     ]
    }
   ],
   "source": [
    "client.login(non_user, usrpw)"
   ]
  },
  {
   "cell_type": "code",
   "execution_count": 34,
   "id": "f15bad13-0381-45fd-968d-ee5481b44a2c",
   "metadata": {
    "tags": []
   },
   "outputs": [
    {
     "name": "stdout",
     "output_type": "stream",
     "text": [
      "# of SDSS-DR16 records = 2\n",
      "# of BOSS-DR16 records = 9\n",
      "# of DESI-EDR records = 3\n",
      "# of SDSS-DR17-test records = 0\n"
     ]
    }
   ],
   "source": [
    "# No dataset(s) specified in constraints.\n",
    "non_found = client.find(outfields=out,\n",
    "                        constraints=cons,\n",
    "                        limit=20000)\n",
    "count_records(non_found)"
   ]
  },
  {
   "cell_type": "code",
   "execution_count": 35,
   "id": "c3e27bb0-2198-4447-8810-2b4ec1dcc5a1",
   "metadata": {
    "tags": []
   },
   "outputs": [
    {
     "ename": "AccessNotAllowed",
     "evalue": "[DSDENIED] uname='ANONYMOUS' is declined access to datasets=['SDSS-DR17-test']; drs_requested=['DESI-EDR', 'SDSS-DR17-test'] my_auth=['BOSS-DR16', 'DESI-EDR', 'SDSS-DR16']",
     "output_type": "error",
     "traceback": [
      "\u001b[0;31m---------------------------------------------------------------------------\u001b[0m",
      "\u001b[0;31mAccessNotAllowed\u001b[0m                          Traceback (most recent call last)",
      "Cell \u001b[0;32mIn[35], line 3\u001b[0m\n\u001b[1;32m      1\u001b[0m \u001b[38;5;66;03m# Private dataset specified in constraints.\u001b[39;00m\n\u001b[1;32m      2\u001b[0m \u001b[38;5;66;03m# This cell should produce an \"Access Not Allowed\" error.\u001b[39;00m\n\u001b[0;32m----> 3\u001b[0m non_found2 \u001b[38;5;241m=\u001b[39m \u001b[43mclient\u001b[49m\u001b[38;5;241;43m.\u001b[39;49m\u001b[43mfind\u001b[49m\u001b[43m(\u001b[49m\u001b[43moutfields\u001b[49m\u001b[38;5;241;43m=\u001b[39;49m\u001b[43mout\u001b[49m\u001b[43m,\u001b[49m\n\u001b[1;32m      4\u001b[0m \u001b[43m                         \u001b[49m\u001b[43mconstraints\u001b[49m\u001b[38;5;241;43m=\u001b[39;49m\u001b[43mcons2\u001b[49m\u001b[43m,\u001b[49m\n\u001b[1;32m      5\u001b[0m \u001b[43m                         \u001b[49m\u001b[43mlimit\u001b[49m\u001b[38;5;241;43m=\u001b[39;49m\u001b[38;5;241;43m20000\u001b[39;49m\u001b[43m)\u001b[49m\n\u001b[1;32m      6\u001b[0m count_records(non_found2)\n",
      "File \u001b[0;32m~/anaconda3/lib/python3.8/site-packages/sparcl/client.py:576\u001b[0m, in \u001b[0;36mSparclClient.find\u001b[0;34m(self, outfields, constraints, limit, sort, verbose)\u001b[0m\n\u001b[1;32m    574\u001b[0m     \u001b[38;5;28;01mif\u001b[39;00m verbose \u001b[38;5;129;01mand\u001b[39;00m (\u001b[38;5;124m\"\u001b[39m\u001b[38;5;124mtraceback\u001b[39m\u001b[38;5;124m\"\u001b[39m \u001b[38;5;129;01min\u001b[39;00m res\u001b[38;5;241m.\u001b[39mjson()):\n\u001b[1;32m    575\u001b[0m         \u001b[38;5;28mprint\u001b[39m(\u001b[38;5;124mf\u001b[39m\u001b[38;5;124m'\u001b[39m\u001b[38;5;124mDBG: Server traceback=\u001b[39m\u001b[38;5;130;01m\\n\u001b[39;00m\u001b[38;5;132;01m{\u001b[39;00mres\u001b[38;5;241m.\u001b[39mjson()[\u001b[38;5;124m\"\u001b[39m\u001b[38;5;124mtraceback\u001b[39m\u001b[38;5;124m\"\u001b[39m]\u001b[38;5;132;01m}\u001b[39;00m\u001b[38;5;124m'\u001b[39m)\n\u001b[0;32m--> 576\u001b[0m     \u001b[38;5;28;01mraise\u001b[39;00m ex\u001b[38;5;241m.\u001b[39mgenSparclException(res, verbose\u001b[38;5;241m=\u001b[39m\u001b[38;5;28mself\u001b[39m\u001b[38;5;241m.\u001b[39mverbose)\n\u001b[1;32m    578\u001b[0m found \u001b[38;5;241m=\u001b[39m Found(res\u001b[38;5;241m.\u001b[39mjson(), client\u001b[38;5;241m=\u001b[39m\u001b[38;5;28mself\u001b[39m)\n\u001b[1;32m    579\u001b[0m \u001b[38;5;28;01mif\u001b[39;00m verbose:\n",
      "\u001b[0;31mAccessNotAllowed\u001b[0m: [DSDENIED] uname='ANONYMOUS' is declined access to datasets=['SDSS-DR17-test']; drs_requested=['DESI-EDR', 'SDSS-DR17-test'] my_auth=['BOSS-DR16', 'DESI-EDR', 'SDSS-DR16']"
     ]
    }
   ],
   "source": [
    "# Private dataset specified in constraints.\n",
    "# This cell should produce an \"Access Not Allowed\" error.\n",
    "non_found2 = client.find(outfields=out,\n",
    "                         constraints=cons2,\n",
    "                         limit=20000)\n",
    "count_records(non_found2)"
   ]
  },
  {
   "cell_type": "code",
   "execution_count": 36,
   "id": "f66bbed9-bd8c-4132-a0a3-5cc67ce4bdad",
   "metadata": {
    "tags": []
   },
   "outputs": [
    {
     "name": "stdout",
     "output_type": "stream",
     "text": [
      "Logged-out successfully.  Previously logged-in with email test_user_3@noirlab.edu.\n"
     ]
    }
   ],
   "source": [
    "client.logout()"
   ]
  },
  {
   "cell_type": "markdown",
   "id": "48b9339f-2127-4370-869e-cf76fb1a548c",
   "metadata": {},
   "source": [
    "<a class=\"anchor\" id=\"2d\"></a>\n",
    "### (2d) An anonymous user"
   ]
  },
  {
   "cell_type": "code",
   "execution_count": 37,
   "id": "65042f19-7d16-4465-bd34-fc8aa2ca1d0c",
   "metadata": {
    "tags": []
   },
   "outputs": [
    {
     "name": "stdout",
     "output_type": "stream",
     "text": [
      "# of SDSS-DR16 records = 2\n",
      "# of BOSS-DR16 records = 9\n",
      "# of DESI-EDR records = 3\n",
      "# of SDSS-DR17-test records = 0\n"
     ]
    }
   ],
   "source": [
    "# No dataset(s) specified in constraints.\n",
    "anon_found = client.find(outfields=out,\n",
    "                         constraints=cons,\n",
    "                         limit=20000)\n",
    "count_records(anon_found)"
   ]
  },
  {
   "cell_type": "code",
   "execution_count": 38,
   "id": "3ac68b31-ce54-44b8-ac6a-6e671bb16838",
   "metadata": {
    "tags": []
   },
   "outputs": [
    {
     "ename": "AccessNotAllowed",
     "evalue": "[DSDENIED] uname='ANONYMOUS' is declined access to datasets=['SDSS-DR17-test']; drs_requested=['DESI-EDR', 'SDSS-DR17-test'] my_auth=['BOSS-DR16', 'DESI-EDR', 'SDSS-DR16']",
     "output_type": "error",
     "traceback": [
      "\u001b[0;31m---------------------------------------------------------------------------\u001b[0m",
      "\u001b[0;31mAccessNotAllowed\u001b[0m                          Traceback (most recent call last)",
      "Cell \u001b[0;32mIn[38], line 3\u001b[0m\n\u001b[1;32m      1\u001b[0m \u001b[38;5;66;03m# Private dataset specified in constraints.\u001b[39;00m\n\u001b[1;32m      2\u001b[0m \u001b[38;5;66;03m# This cell should produce an \"Access Not Allowed\" error.\u001b[39;00m\n\u001b[0;32m----> 3\u001b[0m anon_found2 \u001b[38;5;241m=\u001b[39m \u001b[43mclient\u001b[49m\u001b[38;5;241;43m.\u001b[39;49m\u001b[43mfind\u001b[49m\u001b[43m(\u001b[49m\u001b[43moutfields\u001b[49m\u001b[38;5;241;43m=\u001b[39;49m\u001b[43mout\u001b[49m\u001b[43m,\u001b[49m\n\u001b[1;32m      4\u001b[0m \u001b[43m                          \u001b[49m\u001b[43mconstraints\u001b[49m\u001b[38;5;241;43m=\u001b[39;49m\u001b[43mcons2\u001b[49m\u001b[43m,\u001b[49m\n\u001b[1;32m      5\u001b[0m \u001b[43m                          \u001b[49m\u001b[43mlimit\u001b[49m\u001b[38;5;241;43m=\u001b[39;49m\u001b[38;5;241;43m20000\u001b[39;49m\u001b[43m)\u001b[49m\n\u001b[1;32m      6\u001b[0m count_records(anon_found2)\n",
      "File \u001b[0;32m~/anaconda3/lib/python3.8/site-packages/sparcl/client.py:576\u001b[0m, in \u001b[0;36mSparclClient.find\u001b[0;34m(self, outfields, constraints, limit, sort, verbose)\u001b[0m\n\u001b[1;32m    574\u001b[0m     \u001b[38;5;28;01mif\u001b[39;00m verbose \u001b[38;5;129;01mand\u001b[39;00m (\u001b[38;5;124m\"\u001b[39m\u001b[38;5;124mtraceback\u001b[39m\u001b[38;5;124m\"\u001b[39m \u001b[38;5;129;01min\u001b[39;00m res\u001b[38;5;241m.\u001b[39mjson()):\n\u001b[1;32m    575\u001b[0m         \u001b[38;5;28mprint\u001b[39m(\u001b[38;5;124mf\u001b[39m\u001b[38;5;124m'\u001b[39m\u001b[38;5;124mDBG: Server traceback=\u001b[39m\u001b[38;5;130;01m\\n\u001b[39;00m\u001b[38;5;132;01m{\u001b[39;00mres\u001b[38;5;241m.\u001b[39mjson()[\u001b[38;5;124m\"\u001b[39m\u001b[38;5;124mtraceback\u001b[39m\u001b[38;5;124m\"\u001b[39m]\u001b[38;5;132;01m}\u001b[39;00m\u001b[38;5;124m'\u001b[39m)\n\u001b[0;32m--> 576\u001b[0m     \u001b[38;5;28;01mraise\u001b[39;00m ex\u001b[38;5;241m.\u001b[39mgenSparclException(res, verbose\u001b[38;5;241m=\u001b[39m\u001b[38;5;28mself\u001b[39m\u001b[38;5;241m.\u001b[39mverbose)\n\u001b[1;32m    578\u001b[0m found \u001b[38;5;241m=\u001b[39m Found(res\u001b[38;5;241m.\u001b[39mjson(), client\u001b[38;5;241m=\u001b[39m\u001b[38;5;28mself\u001b[39m)\n\u001b[1;32m    579\u001b[0m \u001b[38;5;28;01mif\u001b[39;00m verbose:\n",
      "\u001b[0;31mAccessNotAllowed\u001b[0m: [DSDENIED] uname='ANONYMOUS' is declined access to datasets=['SDSS-DR17-test']; drs_requested=['DESI-EDR', 'SDSS-DR17-test'] my_auth=['BOSS-DR16', 'DESI-EDR', 'SDSS-DR16']"
     ]
    }
   ],
   "source": [
    "# Private dataset specified in constraints.\n",
    "# This cell should produce an \"Access Not Allowed\" error.\n",
    "anon_found2 = client.find(outfields=out,\n",
    "                          constraints=cons2,\n",
    "                          limit=20000)\n",
    "count_records(anon_found2)"
   ]
  },
  {
   "cell_type": "markdown",
   "id": "d80e0150-676d-4271-9621-9ece0415c357",
   "metadata": {},
   "source": [
    "<a class=\"anchor\" id=\"retrieve\"></a>\n",
    "# (3) Auth with the `client.retrieve()` method"
   ]
  },
  {
   "cell_type": "markdown",
   "id": "64b0489d-f5d5-4696-8fe9-7ec5a84850aa",
   "metadata": {},
   "source": [
    "<a class=\"anchor\" id=\"3a\"></a>\n",
    "### (3a) A user authorized to access a private dataset"
   ]
  },
  {
   "cell_type": "code",
   "execution_count": 39,
   "id": "3dbf8f63-0cf8-4334-bbcb-619728a8d184",
   "metadata": {
    "tags": []
   },
   "outputs": [
    {
     "name": "stdout",
     "output_type": "stream",
     "text": [
      "Logged in successfully with email='test_user_1@noirlab.edu'\n"
     ]
    }
   ],
   "source": [
    "client.login(auth_user, usrpw)"
   ]
  },
  {
   "cell_type": "code",
   "execution_count": 40,
   "id": "910ee4c5-5dc4-4a29-8de6-3a21e5d548c0",
   "metadata": {
    "tags": []
   },
   "outputs": [
    {
     "name": "stdout",
     "output_type": "stream",
     "text": [
      "# of SDSS-DR16 records = 2\n",
      "# of BOSS-DR16 records = 9\n",
      "# of DESI-EDR records = 3\n",
      "# of SDSS-DR17-test records = 1\n"
     ]
    }
   ],
   "source": [
    "# uuid_list includes IDs from private dataset, no dataset(s) specified.\n",
    "auth_ret = client.retrieve(uuid_list=auth_found.ids,\n",
    "                           include=out,\n",
    "                           limit=20000)\n",
    "count_records(auth_ret)"
   ]
  },
  {
   "cell_type": "code",
   "execution_count": 41,
   "id": "3bff72e9-77be-45c4-be2c-09b2280d673e",
   "metadata": {
    "tags": []
   },
   "outputs": [
    {
     "name": "stdout",
     "output_type": "stream",
     "text": [
      "# of SDSS-DR16 records = 0\n",
      "# of BOSS-DR16 records = 0\n",
      "# of DESI-EDR records = 3\n",
      "# of SDSS-DR17-test records = 1\n"
     ]
    }
   ],
   "source": [
    "# uuid_list includes IDs from private dataset, private dataset specified.\n",
    "# This cell should produce an \"Access Not Allowed\" error.\n",
    "auth_ret2 = client.retrieve(uuid_list=auth_found2.ids,\n",
    "                            include=out,\n",
    "                            dataset_list=['SDSS-DR17-test', 'DESI-EDR'],\n",
    "                            limit=20000)\n",
    "count_records(auth_ret2)"
   ]
  },
  {
   "cell_type": "code",
   "execution_count": 42,
   "id": "da6758b1-1e8a-49f8-abfa-dcb5c68dff48",
   "metadata": {},
   "outputs": [
    {
     "name": "stdout",
     "output_type": "stream",
     "text": [
      "Logged-out successfully.  Previously logged-in with email test_user_1@noirlab.edu.\n"
     ]
    }
   ],
   "source": [
    "client.logout()"
   ]
  },
  {
   "cell_type": "markdown",
   "id": "fbc849bd-8376-4252-95cc-1eb9ef39464b",
   "metadata": {},
   "source": [
    "<a class=\"anchor\" id=\"3b\"></a>\n",
    "### (3b) A user unauthorized to access a private dataset"
   ]
  },
  {
   "cell_type": "code",
   "execution_count": 43,
   "id": "528d3df1-9824-4b53-a061-af190eac5d97",
   "metadata": {
    "tags": []
   },
   "outputs": [
    {
     "name": "stdout",
     "output_type": "stream",
     "text": [
      "Logged in successfully with email='test_user_2@noirlab.edu'\n"
     ]
    }
   ],
   "source": [
    "client.login(unauth_user, usrpw)"
   ]
  },
  {
   "cell_type": "code",
   "execution_count": 44,
   "id": "d5bc327b-49a4-432d-a670-32f9f0e4ec1b",
   "metadata": {},
   "outputs": [
    {
     "name": "stdout",
     "output_type": "stream",
     "text": [
      "# of SDSS-DR16 records = 2\n",
      "# of BOSS-DR16 records = 9\n",
      "# of DESI-EDR records = 3\n",
      "# of SDSS-DR17-test records = 0\n"
     ]
    }
   ],
   "source": [
    "# uuid_list does not include IDs from private dataset, no dataset(s) specified.\n",
    "unauth_ret = client.retrieve(uuid_list=unauth_found.ids,\n",
    "                             include=out,\n",
    "                             limit=20000)\n",
    "count_records(unauth_ret)"
   ]
  },
  {
   "cell_type": "code",
   "execution_count": 45,
   "id": "bf2038f4-5917-4978-a1b6-5fc39155569b",
   "metadata": {
    "tags": []
   },
   "outputs": [
    {
     "ename": "AccessNotAllowed",
     "evalue": "[DSDENIED] uname='test_user_2@noirlab.edu' is declined access to datasets=['SDSS-DR17-test']; drs_requested=['DESI-EDR', 'SDSS-DR17-test'] my_auth=['BOSS-DR16', 'DESI-EDR', 'SDSS-DR16']",
     "output_type": "error",
     "traceback": [
      "\u001b[0;31m---------------------------------------------------------------------------\u001b[0m",
      "\u001b[0;31mAccessNotAllowed\u001b[0m                          Traceback (most recent call last)",
      "Cell \u001b[0;32mIn[45], line 3\u001b[0m\n\u001b[1;32m      1\u001b[0m \u001b[38;5;66;03m# uuid_list does not include IDs from private dataset, private dataset specified.\u001b[39;00m\n\u001b[1;32m      2\u001b[0m \u001b[38;5;66;03m# This cell should produce an \"Access Not Allowed\" error.\u001b[39;00m\n\u001b[0;32m----> 3\u001b[0m unauth_ret2 \u001b[38;5;241m=\u001b[39m \u001b[43mclient\u001b[49m\u001b[38;5;241;43m.\u001b[39;49m\u001b[43mretrieve\u001b[49m\u001b[43m(\u001b[49m\u001b[43muuid_list\u001b[49m\u001b[38;5;241;43m=\u001b[39;49m\u001b[43munauth_found\u001b[49m\u001b[38;5;241;43m.\u001b[39;49m\u001b[43mids\u001b[49m\u001b[43m,\u001b[49m\n\u001b[1;32m      4\u001b[0m \u001b[43m                              \u001b[49m\u001b[43minclude\u001b[49m\u001b[38;5;241;43m=\u001b[39;49m\u001b[43mout\u001b[49m\u001b[43m,\u001b[49m\n\u001b[1;32m      5\u001b[0m \u001b[43m                              \u001b[49m\u001b[43mdataset_list\u001b[49m\u001b[38;5;241;43m=\u001b[39;49m\u001b[43m[\u001b[49m\u001b[38;5;124;43m'\u001b[39;49m\u001b[38;5;124;43mSDSS-DR17-test\u001b[39;49m\u001b[38;5;124;43m'\u001b[39;49m\u001b[43m,\u001b[49m\u001b[38;5;124;43m'\u001b[39;49m\u001b[38;5;124;43mDESI-EDR\u001b[39;49m\u001b[38;5;124;43m'\u001b[39;49m\u001b[43m]\u001b[49m\u001b[43m,\u001b[49m\n\u001b[1;32m      6\u001b[0m \u001b[43m                              \u001b[49m\u001b[43mlimit\u001b[49m\u001b[38;5;241;43m=\u001b[39;49m\u001b[38;5;241;43m20000\u001b[39;49m\u001b[43m)\u001b[49m\n\u001b[1;32m      7\u001b[0m count_records(unauth_ret2)\n",
      "File \u001b[0;32m~/anaconda3/lib/python3.8/site-packages/sparcl/client.py:870\u001b[0m, in \u001b[0;36mSparclClient.retrieve\u001b[0;34m(self, uuid_list, include, dataset_list, limit, verbose)\u001b[0m\n\u001b[1;32m    868\u001b[0m     \u001b[38;5;28;01mif\u001b[39;00m verbose \u001b[38;5;129;01mand\u001b[39;00m (\u001b[38;5;124m\"\u001b[39m\u001b[38;5;124mtraceback\u001b[39m\u001b[38;5;124m\"\u001b[39m \u001b[38;5;129;01min\u001b[39;00m res\u001b[38;5;241m.\u001b[39mjson()):\n\u001b[1;32m    869\u001b[0m         \u001b[38;5;28mprint\u001b[39m(\u001b[38;5;124mf\u001b[39m\u001b[38;5;124m'\u001b[39m\u001b[38;5;124mDBG: Server traceback=\u001b[39m\u001b[38;5;130;01m\\n\u001b[39;00m\u001b[38;5;132;01m{\u001b[39;00mres\u001b[38;5;241m.\u001b[39mjson()[\u001b[38;5;124m\"\u001b[39m\u001b[38;5;124mtraceback\u001b[39m\u001b[38;5;124m\"\u001b[39m]\u001b[38;5;132;01m}\u001b[39;00m\u001b[38;5;124m'\u001b[39m)\n\u001b[0;32m--> 870\u001b[0m     \u001b[38;5;28;01mraise\u001b[39;00m ex\u001b[38;5;241m.\u001b[39mgenSparclException(res, verbose\u001b[38;5;241m=\u001b[39mverbose)\n\u001b[1;32m    872\u001b[0m \u001b[38;5;28;01mif\u001b[39;00m \u001b[38;5;28mformat\u001b[39m \u001b[38;5;241m==\u001b[39m \u001b[38;5;124m\"\u001b[39m\u001b[38;5;124mjson\u001b[39m\u001b[38;5;124m\"\u001b[39m:\n\u001b[1;32m    873\u001b[0m     results \u001b[38;5;241m=\u001b[39m res\u001b[38;5;241m.\u001b[39mjson()\n",
      "\u001b[0;31mAccessNotAllowed\u001b[0m: [DSDENIED] uname='test_user_2@noirlab.edu' is declined access to datasets=['SDSS-DR17-test']; drs_requested=['DESI-EDR', 'SDSS-DR17-test'] my_auth=['BOSS-DR16', 'DESI-EDR', 'SDSS-DR16']"
     ]
    }
   ],
   "source": [
    "# uuid_list does not include IDs from private dataset, private dataset specified.\n",
    "# This cell should produce an \"Access Not Allowed\" error.\n",
    "unauth_ret2 = client.retrieve(uuid_list=unauth_found.ids,\n",
    "                              include=out,\n",
    "                              dataset_list=['SDSS-DR17-test','DESI-EDR'],\n",
    "                              limit=20000)\n",
    "count_records(unauth_ret2)"
   ]
  },
  {
   "cell_type": "code",
   "execution_count": 46,
   "id": "d93129fa-64c8-47a6-8702-3519e8f315cf",
   "metadata": {},
   "outputs": [
    {
     "name": "stdout",
     "output_type": "stream",
     "text": [
      "# of SDSS-DR16 records = 2\n",
      "# of BOSS-DR16 records = 9\n",
      "# of DESI-EDR records = 3\n",
      "# of SDSS-DR17-test records = 0\n"
     ]
    },
    {
     "name": "stderr",
     "output_type": "stream",
     "text": [
      "/var/folders/6j/v2lh3ssj13g6fs_lhk8nlps40000gp/T/ipykernel_72333/1687955117.py:4: UserWarning: Some UUIDs were not found. 1 out of the 15 requested uuids have no records available in the SPARCL database associated with DataSets {'BOSS-DR16', 'DESI-EDR', 'SDSS-DR16'}.Use \"client.missing()\" to get a list of the 1 unavailable uuids.\n",
      "  unauth_ret3 = client.retrieve(uuid_list=auth_found.ids,\n"
     ]
    }
   ],
   "source": [
    "# uuid_list includes IDs from private dataset, no dataset(s) specified.\n",
    "# This cell should only retrieve records from user-authorized datasets\n",
    "# and output a UserWarning: Some UUIDs were not found.\n",
    "unauth_ret3 = client.retrieve(uuid_list=auth_found.ids,\n",
    "                              include=out,\n",
    "                              limit=20000)\n",
    "count_records(unauth_ret3)"
   ]
  },
  {
   "cell_type": "code",
   "execution_count": 47,
   "id": "1ed30ef4-93fb-49d0-867c-7beeb24eda08",
   "metadata": {},
   "outputs": [
    {
     "ename": "AccessNotAllowed",
     "evalue": "[DSDENIED] uname='test_user_2@noirlab.edu' is declined access to datasets=['SDSS-DR17-test']; drs_requested=['DESI-EDR', 'SDSS-DR17-test'] my_auth=['BOSS-DR16', 'DESI-EDR', 'SDSS-DR16']",
     "output_type": "error",
     "traceback": [
      "\u001b[0;31m---------------------------------------------------------------------------\u001b[0m",
      "\u001b[0;31mAccessNotAllowed\u001b[0m                          Traceback (most recent call last)",
      "Cell \u001b[0;32mIn[47], line 3\u001b[0m\n\u001b[1;32m      1\u001b[0m \u001b[38;5;66;03m# uuid_list includes IDs from private dataset, private dataset specified.\u001b[39;00m\n\u001b[1;32m      2\u001b[0m \u001b[38;5;66;03m# This cell should produce an \"Access Not Allowed\" error.\u001b[39;00m\n\u001b[0;32m----> 3\u001b[0m unauth_ret4 \u001b[38;5;241m=\u001b[39m \u001b[43mclient\u001b[49m\u001b[38;5;241;43m.\u001b[39;49m\u001b[43mretrieve\u001b[49m\u001b[43m(\u001b[49m\u001b[43muuid_list\u001b[49m\u001b[38;5;241;43m=\u001b[39;49m\u001b[43mauth_found\u001b[49m\u001b[38;5;241;43m.\u001b[39;49m\u001b[43mids\u001b[49m\u001b[43m,\u001b[49m\n\u001b[1;32m      4\u001b[0m \u001b[43m                              \u001b[49m\u001b[43minclude\u001b[49m\u001b[38;5;241;43m=\u001b[39;49m\u001b[43mout\u001b[49m\u001b[43m,\u001b[49m\n\u001b[1;32m      5\u001b[0m \u001b[43m                              \u001b[49m\u001b[43mdataset_list\u001b[49m\u001b[38;5;241;43m=\u001b[39;49m\u001b[43m[\u001b[49m\u001b[38;5;124;43m'\u001b[39;49m\u001b[38;5;124;43mSDSS-DR17-test\u001b[39;49m\u001b[38;5;124;43m'\u001b[39;49m\u001b[43m,\u001b[49m\u001b[38;5;124;43m'\u001b[39;49m\u001b[38;5;124;43mDESI-EDR\u001b[39;49m\u001b[38;5;124;43m'\u001b[39;49m\u001b[43m]\u001b[49m\u001b[43m,\u001b[49m\n\u001b[1;32m      6\u001b[0m \u001b[43m                              \u001b[49m\u001b[43mlimit\u001b[49m\u001b[38;5;241;43m=\u001b[39;49m\u001b[38;5;241;43m20000\u001b[39;49m\u001b[43m)\u001b[49m\n\u001b[1;32m      7\u001b[0m count_records(unauth_ret4)\n",
      "File \u001b[0;32m~/anaconda3/lib/python3.8/site-packages/sparcl/client.py:870\u001b[0m, in \u001b[0;36mSparclClient.retrieve\u001b[0;34m(self, uuid_list, include, dataset_list, limit, verbose)\u001b[0m\n\u001b[1;32m    868\u001b[0m     \u001b[38;5;28;01mif\u001b[39;00m verbose \u001b[38;5;129;01mand\u001b[39;00m (\u001b[38;5;124m\"\u001b[39m\u001b[38;5;124mtraceback\u001b[39m\u001b[38;5;124m\"\u001b[39m \u001b[38;5;129;01min\u001b[39;00m res\u001b[38;5;241m.\u001b[39mjson()):\n\u001b[1;32m    869\u001b[0m         \u001b[38;5;28mprint\u001b[39m(\u001b[38;5;124mf\u001b[39m\u001b[38;5;124m'\u001b[39m\u001b[38;5;124mDBG: Server traceback=\u001b[39m\u001b[38;5;130;01m\\n\u001b[39;00m\u001b[38;5;132;01m{\u001b[39;00mres\u001b[38;5;241m.\u001b[39mjson()[\u001b[38;5;124m\"\u001b[39m\u001b[38;5;124mtraceback\u001b[39m\u001b[38;5;124m\"\u001b[39m]\u001b[38;5;132;01m}\u001b[39;00m\u001b[38;5;124m'\u001b[39m)\n\u001b[0;32m--> 870\u001b[0m     \u001b[38;5;28;01mraise\u001b[39;00m ex\u001b[38;5;241m.\u001b[39mgenSparclException(res, verbose\u001b[38;5;241m=\u001b[39mverbose)\n\u001b[1;32m    872\u001b[0m \u001b[38;5;28;01mif\u001b[39;00m \u001b[38;5;28mformat\u001b[39m \u001b[38;5;241m==\u001b[39m \u001b[38;5;124m\"\u001b[39m\u001b[38;5;124mjson\u001b[39m\u001b[38;5;124m\"\u001b[39m:\n\u001b[1;32m    873\u001b[0m     results \u001b[38;5;241m=\u001b[39m res\u001b[38;5;241m.\u001b[39mjson()\n",
      "\u001b[0;31mAccessNotAllowed\u001b[0m: [DSDENIED] uname='test_user_2@noirlab.edu' is declined access to datasets=['SDSS-DR17-test']; drs_requested=['DESI-EDR', 'SDSS-DR17-test'] my_auth=['BOSS-DR16', 'DESI-EDR', 'SDSS-DR16']"
     ]
    }
   ],
   "source": [
    "# uuid_list includes IDs from private dataset, private dataset specified.\n",
    "# This cell should produce an \"Access Not Allowed\" error.\n",
    "unauth_ret4 = client.retrieve(uuid_list=auth_found.ids,\n",
    "                              include=out,\n",
    "                              dataset_list=['SDSS-DR17-test','DESI-EDR'],\n",
    "                              limit=20000)\n",
    "count_records(unauth_ret4)"
   ]
  },
  {
   "cell_type": "code",
   "execution_count": 48,
   "id": "d59271ae-df04-461d-84ca-cef8925c0542",
   "metadata": {},
   "outputs": [
    {
     "name": "stdout",
     "output_type": "stream",
     "text": [
      "Logged-out successfully.  Previously logged-in with email test_user_2@noirlab.edu.\n"
     ]
    }
   ],
   "source": [
    "client.logout()"
   ]
  },
  {
   "cell_type": "markdown",
   "id": "cb730685-302b-49b3-8b03-1132e8c6004a",
   "metadata": {},
   "source": [
    "<a class=\"anchor\" id=\"3c\"></a>\n",
    "### (3c) A user that has an SSO account, but is not registered in our Admin"
   ]
  },
  {
   "cell_type": "code",
   "execution_count": 49,
   "id": "1a0240cd-0efd-4e44-a443-c6035911e0fc",
   "metadata": {},
   "outputs": [
    {
     "name": "stdout",
     "output_type": "stream",
     "text": [
      "Logged in successfully with email='test_user_3@noirlab.edu'\n"
     ]
    }
   ],
   "source": [
    "client.login(non_user, usrpw)"
   ]
  },
  {
   "cell_type": "code",
   "execution_count": 50,
   "id": "9769c916-492a-4560-a767-1d337b572985",
   "metadata": {},
   "outputs": [
    {
     "name": "stdout",
     "output_type": "stream",
     "text": [
      "# of SDSS-DR16 records = 2\n",
      "# of BOSS-DR16 records = 9\n",
      "# of DESI-EDR records = 3\n",
      "# of SDSS-DR17-test records = 0\n"
     ]
    }
   ],
   "source": [
    "# uuid_list does not include IDs from private dataset, no dataset(s) specified.\n",
    "non_ret = client.retrieve(uuid_list=non_found.ids,\n",
    "                          include=out,\n",
    "                          limit=20000)\n",
    "count_records(non_ret)"
   ]
  },
  {
   "cell_type": "code",
   "execution_count": 51,
   "id": "5ecbdf62-bb75-46f2-bd98-57ae4bed9a52",
   "metadata": {},
   "outputs": [
    {
     "ename": "AccessNotAllowed",
     "evalue": "[DSDENIED] uname='ANONYMOUS' is declined access to datasets=['SDSS-DR17-test']; drs_requested=['DESI-EDR', 'SDSS-DR17-test'] my_auth=['BOSS-DR16', 'DESI-EDR', 'SDSS-DR16']",
     "output_type": "error",
     "traceback": [
      "\u001b[0;31m---------------------------------------------------------------------------\u001b[0m",
      "\u001b[0;31mAccessNotAllowed\u001b[0m                          Traceback (most recent call last)",
      "Cell \u001b[0;32mIn[51], line 3\u001b[0m\n\u001b[1;32m      1\u001b[0m \u001b[38;5;66;03m# uuid_list does not include IDs from private dataset, private dataset specified.\u001b[39;00m\n\u001b[1;32m      2\u001b[0m \u001b[38;5;66;03m# This cell should produce an \"Access Not Allowed\" error.\u001b[39;00m\n\u001b[0;32m----> 3\u001b[0m non_ret2 \u001b[38;5;241m=\u001b[39m \u001b[43mclient\u001b[49m\u001b[38;5;241;43m.\u001b[39;49m\u001b[43mretrieve\u001b[49m\u001b[43m(\u001b[49m\u001b[43muuid_list\u001b[49m\u001b[38;5;241;43m=\u001b[39;49m\u001b[43mnon_found\u001b[49m\u001b[38;5;241;43m.\u001b[39;49m\u001b[43mids\u001b[49m\u001b[43m,\u001b[49m\n\u001b[1;32m      4\u001b[0m \u001b[43m                           \u001b[49m\u001b[43minclude\u001b[49m\u001b[38;5;241;43m=\u001b[39;49m\u001b[43mout\u001b[49m\u001b[43m,\u001b[49m\n\u001b[1;32m      5\u001b[0m \u001b[43m                           \u001b[49m\u001b[43mdataset_list\u001b[49m\u001b[38;5;241;43m=\u001b[39;49m\u001b[43m[\u001b[49m\u001b[38;5;124;43m'\u001b[39;49m\u001b[38;5;124;43mSDSS-DR17-test\u001b[39;49m\u001b[38;5;124;43m'\u001b[39;49m\u001b[43m,\u001b[49m\u001b[43m \u001b[49m\u001b[38;5;124;43m'\u001b[39;49m\u001b[38;5;124;43mDESI-EDR\u001b[39;49m\u001b[38;5;124;43m'\u001b[39;49m\u001b[43m]\u001b[49m\u001b[43m,\u001b[49m\n\u001b[1;32m      6\u001b[0m \u001b[43m                           \u001b[49m\u001b[43mlimit\u001b[49m\u001b[38;5;241;43m=\u001b[39;49m\u001b[38;5;241;43m20000\u001b[39;49m\u001b[43m)\u001b[49m\n\u001b[1;32m      7\u001b[0m count_records(non_ret2)\n",
      "File \u001b[0;32m~/anaconda3/lib/python3.8/site-packages/sparcl/client.py:870\u001b[0m, in \u001b[0;36mSparclClient.retrieve\u001b[0;34m(self, uuid_list, include, dataset_list, limit, verbose)\u001b[0m\n\u001b[1;32m    868\u001b[0m     \u001b[38;5;28;01mif\u001b[39;00m verbose \u001b[38;5;129;01mand\u001b[39;00m (\u001b[38;5;124m\"\u001b[39m\u001b[38;5;124mtraceback\u001b[39m\u001b[38;5;124m\"\u001b[39m \u001b[38;5;129;01min\u001b[39;00m res\u001b[38;5;241m.\u001b[39mjson()):\n\u001b[1;32m    869\u001b[0m         \u001b[38;5;28mprint\u001b[39m(\u001b[38;5;124mf\u001b[39m\u001b[38;5;124m'\u001b[39m\u001b[38;5;124mDBG: Server traceback=\u001b[39m\u001b[38;5;130;01m\\n\u001b[39;00m\u001b[38;5;132;01m{\u001b[39;00mres\u001b[38;5;241m.\u001b[39mjson()[\u001b[38;5;124m\"\u001b[39m\u001b[38;5;124mtraceback\u001b[39m\u001b[38;5;124m\"\u001b[39m]\u001b[38;5;132;01m}\u001b[39;00m\u001b[38;5;124m'\u001b[39m)\n\u001b[0;32m--> 870\u001b[0m     \u001b[38;5;28;01mraise\u001b[39;00m ex\u001b[38;5;241m.\u001b[39mgenSparclException(res, verbose\u001b[38;5;241m=\u001b[39mverbose)\n\u001b[1;32m    872\u001b[0m \u001b[38;5;28;01mif\u001b[39;00m \u001b[38;5;28mformat\u001b[39m \u001b[38;5;241m==\u001b[39m \u001b[38;5;124m\"\u001b[39m\u001b[38;5;124mjson\u001b[39m\u001b[38;5;124m\"\u001b[39m:\n\u001b[1;32m    873\u001b[0m     results \u001b[38;5;241m=\u001b[39m res\u001b[38;5;241m.\u001b[39mjson()\n",
      "\u001b[0;31mAccessNotAllowed\u001b[0m: [DSDENIED] uname='ANONYMOUS' is declined access to datasets=['SDSS-DR17-test']; drs_requested=['DESI-EDR', 'SDSS-DR17-test'] my_auth=['BOSS-DR16', 'DESI-EDR', 'SDSS-DR16']"
     ]
    }
   ],
   "source": [
    "# uuid_list does not include IDs from private dataset, private dataset specified.\n",
    "# This cell should produce an \"Access Not Allowed\" error.\n",
    "non_ret2 = client.retrieve(uuid_list=non_found.ids,\n",
    "                           include=out,\n",
    "                           dataset_list=['SDSS-DR17-test', 'DESI-EDR'],\n",
    "                           limit=20000)\n",
    "count_records(non_ret2)"
   ]
  },
  {
   "cell_type": "code",
   "execution_count": 52,
   "id": "3c3c93ed-e18d-4f02-bd98-f0c23518032c",
   "metadata": {},
   "outputs": [
    {
     "name": "stdout",
     "output_type": "stream",
     "text": [
      "# of SDSS-DR16 records = 2\n",
      "# of BOSS-DR16 records = 9\n",
      "# of DESI-EDR records = 3\n",
      "# of SDSS-DR17-test records = 0\n"
     ]
    },
    {
     "name": "stderr",
     "output_type": "stream",
     "text": [
      "/var/folders/6j/v2lh3ssj13g6fs_lhk8nlps40000gp/T/ipykernel_72333/2556312795.py:4: UserWarning: Some UUIDs were not found. 1 out of the 15 requested uuids have no records available in the SPARCL database associated with DataSets {'BOSS-DR16', 'DESI-EDR', 'SDSS-DR16'}.Use \"client.missing()\" to get a list of the 1 unavailable uuids.\n",
      "  non_ret3 = client.retrieve(uuid_list=auth_found.ids,\n"
     ]
    }
   ],
   "source": [
    "# uuid_list includes IDs from private dataset, no dataset(s) specified.\n",
    "# This cell should only retrieve records from user-authorized datasets\n",
    "# and output a UserWarning: Some UUIDs were not found.\n",
    "non_ret3 = client.retrieve(uuid_list=auth_found.ids,\n",
    "                           include=out,\n",
    "                           limit=20000)\n",
    "count_records(non_ret3)"
   ]
  },
  {
   "cell_type": "code",
   "execution_count": 53,
   "id": "e9a2cbe5-d16e-41bd-b80a-0f3e39687100",
   "metadata": {},
   "outputs": [
    {
     "ename": "AccessNotAllowed",
     "evalue": "[DSDENIED] uname='ANONYMOUS' is declined access to datasets=['SDSS-DR17-test']; drs_requested=['DESI-EDR', 'SDSS-DR17-test'] my_auth=['BOSS-DR16', 'DESI-EDR', 'SDSS-DR16']",
     "output_type": "error",
     "traceback": [
      "\u001b[0;31m---------------------------------------------------------------------------\u001b[0m",
      "\u001b[0;31mAccessNotAllowed\u001b[0m                          Traceback (most recent call last)",
      "Cell \u001b[0;32mIn[53], line 3\u001b[0m\n\u001b[1;32m      1\u001b[0m \u001b[38;5;66;03m# uuid_list includes IDs from private dataset, private dataset specified.\u001b[39;00m\n\u001b[1;32m      2\u001b[0m \u001b[38;5;66;03m# This cell should produce an \"Access Not Allowed\" error.\u001b[39;00m\n\u001b[0;32m----> 3\u001b[0m non_ret4 \u001b[38;5;241m=\u001b[39m \u001b[43mclient\u001b[49m\u001b[38;5;241;43m.\u001b[39;49m\u001b[43mretrieve\u001b[49m\u001b[43m(\u001b[49m\u001b[43muuid_list\u001b[49m\u001b[38;5;241;43m=\u001b[39;49m\u001b[43mauth_found\u001b[49m\u001b[38;5;241;43m.\u001b[39;49m\u001b[43mids\u001b[49m\u001b[43m,\u001b[49m\n\u001b[1;32m      4\u001b[0m \u001b[43m                           \u001b[49m\u001b[43minclude\u001b[49m\u001b[38;5;241;43m=\u001b[39;49m\u001b[43mout\u001b[49m\u001b[43m,\u001b[49m\n\u001b[1;32m      5\u001b[0m \u001b[43m                           \u001b[49m\u001b[43mdataset_list\u001b[49m\u001b[38;5;241;43m=\u001b[39;49m\u001b[43m[\u001b[49m\u001b[38;5;124;43m'\u001b[39;49m\u001b[38;5;124;43mSDSS-DR17-test\u001b[39;49m\u001b[38;5;124;43m'\u001b[39;49m\u001b[43m,\u001b[49m\u001b[43m \u001b[49m\u001b[38;5;124;43m'\u001b[39;49m\u001b[38;5;124;43mDESI-EDR\u001b[39;49m\u001b[38;5;124;43m'\u001b[39;49m\u001b[43m]\u001b[49m\u001b[43m,\u001b[49m\n\u001b[1;32m      6\u001b[0m \u001b[43m                           \u001b[49m\u001b[43mlimit\u001b[49m\u001b[38;5;241;43m=\u001b[39;49m\u001b[38;5;241;43m20000\u001b[39;49m\u001b[43m)\u001b[49m\n\u001b[1;32m      7\u001b[0m count_records(non_ret4)\n",
      "File \u001b[0;32m~/anaconda3/lib/python3.8/site-packages/sparcl/client.py:870\u001b[0m, in \u001b[0;36mSparclClient.retrieve\u001b[0;34m(self, uuid_list, include, dataset_list, limit, verbose)\u001b[0m\n\u001b[1;32m    868\u001b[0m     \u001b[38;5;28;01mif\u001b[39;00m verbose \u001b[38;5;129;01mand\u001b[39;00m (\u001b[38;5;124m\"\u001b[39m\u001b[38;5;124mtraceback\u001b[39m\u001b[38;5;124m\"\u001b[39m \u001b[38;5;129;01min\u001b[39;00m res\u001b[38;5;241m.\u001b[39mjson()):\n\u001b[1;32m    869\u001b[0m         \u001b[38;5;28mprint\u001b[39m(\u001b[38;5;124mf\u001b[39m\u001b[38;5;124m'\u001b[39m\u001b[38;5;124mDBG: Server traceback=\u001b[39m\u001b[38;5;130;01m\\n\u001b[39;00m\u001b[38;5;132;01m{\u001b[39;00mres\u001b[38;5;241m.\u001b[39mjson()[\u001b[38;5;124m\"\u001b[39m\u001b[38;5;124mtraceback\u001b[39m\u001b[38;5;124m\"\u001b[39m]\u001b[38;5;132;01m}\u001b[39;00m\u001b[38;5;124m'\u001b[39m)\n\u001b[0;32m--> 870\u001b[0m     \u001b[38;5;28;01mraise\u001b[39;00m ex\u001b[38;5;241m.\u001b[39mgenSparclException(res, verbose\u001b[38;5;241m=\u001b[39mverbose)\n\u001b[1;32m    872\u001b[0m \u001b[38;5;28;01mif\u001b[39;00m \u001b[38;5;28mformat\u001b[39m \u001b[38;5;241m==\u001b[39m \u001b[38;5;124m\"\u001b[39m\u001b[38;5;124mjson\u001b[39m\u001b[38;5;124m\"\u001b[39m:\n\u001b[1;32m    873\u001b[0m     results \u001b[38;5;241m=\u001b[39m res\u001b[38;5;241m.\u001b[39mjson()\n",
      "\u001b[0;31mAccessNotAllowed\u001b[0m: [DSDENIED] uname='ANONYMOUS' is declined access to datasets=['SDSS-DR17-test']; drs_requested=['DESI-EDR', 'SDSS-DR17-test'] my_auth=['BOSS-DR16', 'DESI-EDR', 'SDSS-DR16']"
     ]
    }
   ],
   "source": [
    "# uuid_list includes IDs from private dataset, private dataset specified.\n",
    "# This cell should produce an \"Access Not Allowed\" error.\n",
    "non_ret4 = client.retrieve(uuid_list=auth_found.ids,\n",
    "                           include=out,\n",
    "                           dataset_list=['SDSS-DR17-test', 'DESI-EDR'],\n",
    "                           limit=20000)\n",
    "count_records(non_ret4)"
   ]
  },
  {
   "cell_type": "code",
   "execution_count": 54,
   "id": "6beb9dc2-fdcf-4cf2-81b4-5615bae319e2",
   "metadata": {},
   "outputs": [
    {
     "name": "stdout",
     "output_type": "stream",
     "text": [
      "Logged-out successfully.  Previously logged-in with email test_user_3@noirlab.edu.\n"
     ]
    }
   ],
   "source": [
    "client.logout()"
   ]
  },
  {
   "cell_type": "markdown",
   "id": "866cbda0-d768-437d-b120-9e2ea39eeebf",
   "metadata": {},
   "source": [
    "<a class=\"anchor\" id=\"3d\"></a>\n",
    "### (3d) An anonymous user"
   ]
  },
  {
   "cell_type": "code",
   "execution_count": 55,
   "id": "5be46193-94df-4e09-8324-970f1b65b4b6",
   "metadata": {},
   "outputs": [
    {
     "name": "stdout",
     "output_type": "stream",
     "text": [
      "# of SDSS-DR16 records = 2\n",
      "# of BOSS-DR16 records = 9\n",
      "# of DESI-EDR records = 3\n",
      "# of SDSS-DR17-test records = 0\n"
     ]
    }
   ],
   "source": [
    "# uuid_list does not include IDs from private dataset, no dataset(s) specified.\n",
    "anon_ret = client.retrieve(uuid_list=anon_found.ids,\n",
    "                           include=out,\n",
    "                           limit=20000)\n",
    "count_records(anon_ret)"
   ]
  },
  {
   "cell_type": "code",
   "execution_count": 56,
   "id": "7006ba03-8362-4791-aa92-9daebdd4fe82",
   "metadata": {},
   "outputs": [
    {
     "ename": "AccessNotAllowed",
     "evalue": "[DSDENIED] uname='ANONYMOUS' is declined access to datasets=['SDSS-DR17-test']; drs_requested=['DESI-EDR', 'SDSS-DR17-test'] my_auth=['BOSS-DR16', 'DESI-EDR', 'SDSS-DR16']",
     "output_type": "error",
     "traceback": [
      "\u001b[0;31m---------------------------------------------------------------------------\u001b[0m",
      "\u001b[0;31mAccessNotAllowed\u001b[0m                          Traceback (most recent call last)",
      "Cell \u001b[0;32mIn[56], line 3\u001b[0m\n\u001b[1;32m      1\u001b[0m \u001b[38;5;66;03m# uuid_list does not include IDs from private dataset, private dataset specified.\u001b[39;00m\n\u001b[1;32m      2\u001b[0m \u001b[38;5;66;03m# This cell should produce an \"Access Not Allowed\" error.\u001b[39;00m\n\u001b[0;32m----> 3\u001b[0m anon_ret2 \u001b[38;5;241m=\u001b[39m \u001b[43mclient\u001b[49m\u001b[38;5;241;43m.\u001b[39;49m\u001b[43mretrieve\u001b[49m\u001b[43m(\u001b[49m\u001b[43muuid_list\u001b[49m\u001b[38;5;241;43m=\u001b[39;49m\u001b[43manon_found\u001b[49m\u001b[38;5;241;43m.\u001b[39;49m\u001b[43mids\u001b[49m\u001b[43m,\u001b[49m\n\u001b[1;32m      4\u001b[0m \u001b[43m                            \u001b[49m\u001b[43minclude\u001b[49m\u001b[38;5;241;43m=\u001b[39;49m\u001b[43mout\u001b[49m\u001b[43m,\u001b[49m\n\u001b[1;32m      5\u001b[0m \u001b[43m                            \u001b[49m\u001b[43mdataset_list\u001b[49m\u001b[38;5;241;43m=\u001b[39;49m\u001b[43m[\u001b[49m\u001b[38;5;124;43m'\u001b[39;49m\u001b[38;5;124;43mSDSS-DR17-test\u001b[39;49m\u001b[38;5;124;43m'\u001b[39;49m\u001b[43m,\u001b[49m\u001b[43m \u001b[49m\u001b[38;5;124;43m'\u001b[39;49m\u001b[38;5;124;43mDESI-EDR\u001b[39;49m\u001b[38;5;124;43m'\u001b[39;49m\u001b[43m]\u001b[49m\u001b[43m,\u001b[49m\n\u001b[1;32m      6\u001b[0m \u001b[43m                            \u001b[49m\u001b[43mlimit\u001b[49m\u001b[38;5;241;43m=\u001b[39;49m\u001b[38;5;241;43m20000\u001b[39;49m\u001b[43m)\u001b[49m\n\u001b[1;32m      7\u001b[0m count_records(anon_ret2)\n",
      "File \u001b[0;32m~/anaconda3/lib/python3.8/site-packages/sparcl/client.py:870\u001b[0m, in \u001b[0;36mSparclClient.retrieve\u001b[0;34m(self, uuid_list, include, dataset_list, limit, verbose)\u001b[0m\n\u001b[1;32m    868\u001b[0m     \u001b[38;5;28;01mif\u001b[39;00m verbose \u001b[38;5;129;01mand\u001b[39;00m (\u001b[38;5;124m\"\u001b[39m\u001b[38;5;124mtraceback\u001b[39m\u001b[38;5;124m\"\u001b[39m \u001b[38;5;129;01min\u001b[39;00m res\u001b[38;5;241m.\u001b[39mjson()):\n\u001b[1;32m    869\u001b[0m         \u001b[38;5;28mprint\u001b[39m(\u001b[38;5;124mf\u001b[39m\u001b[38;5;124m'\u001b[39m\u001b[38;5;124mDBG: Server traceback=\u001b[39m\u001b[38;5;130;01m\\n\u001b[39;00m\u001b[38;5;132;01m{\u001b[39;00mres\u001b[38;5;241m.\u001b[39mjson()[\u001b[38;5;124m\"\u001b[39m\u001b[38;5;124mtraceback\u001b[39m\u001b[38;5;124m\"\u001b[39m]\u001b[38;5;132;01m}\u001b[39;00m\u001b[38;5;124m'\u001b[39m)\n\u001b[0;32m--> 870\u001b[0m     \u001b[38;5;28;01mraise\u001b[39;00m ex\u001b[38;5;241m.\u001b[39mgenSparclException(res, verbose\u001b[38;5;241m=\u001b[39mverbose)\n\u001b[1;32m    872\u001b[0m \u001b[38;5;28;01mif\u001b[39;00m \u001b[38;5;28mformat\u001b[39m \u001b[38;5;241m==\u001b[39m \u001b[38;5;124m\"\u001b[39m\u001b[38;5;124mjson\u001b[39m\u001b[38;5;124m\"\u001b[39m:\n\u001b[1;32m    873\u001b[0m     results \u001b[38;5;241m=\u001b[39m res\u001b[38;5;241m.\u001b[39mjson()\n",
      "\u001b[0;31mAccessNotAllowed\u001b[0m: [DSDENIED] uname='ANONYMOUS' is declined access to datasets=['SDSS-DR17-test']; drs_requested=['DESI-EDR', 'SDSS-DR17-test'] my_auth=['BOSS-DR16', 'DESI-EDR', 'SDSS-DR16']"
     ]
    }
   ],
   "source": [
    "# uuid_list does not include IDs from private dataset, private dataset specified.\n",
    "# This cell should produce an \"Access Not Allowed\" error.\n",
    "anon_ret2 = client.retrieve(uuid_list=anon_found.ids,\n",
    "                            include=out,\n",
    "                            dataset_list=['SDSS-DR17-test', 'DESI-EDR'],\n",
    "                            limit=20000)\n",
    "count_records(anon_ret2)"
   ]
  },
  {
   "cell_type": "code",
   "execution_count": 57,
   "id": "c2517eb8-be55-45d5-b960-0ed417dcee19",
   "metadata": {},
   "outputs": [
    {
     "name": "stdout",
     "output_type": "stream",
     "text": [
      "# of SDSS-DR16 records = 2\n",
      "# of BOSS-DR16 records = 9\n",
      "# of DESI-EDR records = 3\n",
      "# of SDSS-DR17-test records = 0\n"
     ]
    },
    {
     "name": "stderr",
     "output_type": "stream",
     "text": [
      "/var/folders/6j/v2lh3ssj13g6fs_lhk8nlps40000gp/T/ipykernel_72333/134315787.py:4: UserWarning: Some UUIDs were not found. 1 out of the 15 requested uuids have no records available in the SPARCL database associated with DataSets {'BOSS-DR16', 'DESI-EDR', 'SDSS-DR16'}.Use \"client.missing()\" to get a list of the 1 unavailable uuids.\n",
      "  anon_ret3 = client.retrieve(uuid_list=auth_found.ids,\n"
     ]
    }
   ],
   "source": [
    "# uuid_list includes IDs from private dataset, no dataset(s) specified.\n",
    "# This cell should only retrieve records from user-authorized datasets\n",
    "# and output a UserWarning: Some UUIDs were not found.\n",
    "anon_ret3 = client.retrieve(uuid_list=auth_found.ids,\n",
    "                            include=out,\n",
    "                            limit=20000)\n",
    "count_records(anon_ret3)"
   ]
  },
  {
   "cell_type": "code",
   "execution_count": 58,
   "id": "e2cf4b8c-a7b6-423c-94b3-51680d32b453",
   "metadata": {},
   "outputs": [
    {
     "ename": "AccessNotAllowed",
     "evalue": "[DSDENIED] uname='ANONYMOUS' is declined access to datasets=['SDSS-DR17-test']; drs_requested=['DESI-EDR', 'SDSS-DR17-test'] my_auth=['BOSS-DR16', 'DESI-EDR', 'SDSS-DR16']",
     "output_type": "error",
     "traceback": [
      "\u001b[0;31m---------------------------------------------------------------------------\u001b[0m",
      "\u001b[0;31mAccessNotAllowed\u001b[0m                          Traceback (most recent call last)",
      "Cell \u001b[0;32mIn[58], line 3\u001b[0m\n\u001b[1;32m      1\u001b[0m \u001b[38;5;66;03m# uuid_list includes IDs from private dataset, private dataset specified.\u001b[39;00m\n\u001b[1;32m      2\u001b[0m \u001b[38;5;66;03m# This cell should produce an \"Access Not Allowed\" error.\u001b[39;00m\n\u001b[0;32m----> 3\u001b[0m anon_ret4 \u001b[38;5;241m=\u001b[39m \u001b[43mclient\u001b[49m\u001b[38;5;241;43m.\u001b[39;49m\u001b[43mretrieve\u001b[49m\u001b[43m(\u001b[49m\u001b[43muuid_list\u001b[49m\u001b[38;5;241;43m=\u001b[39;49m\u001b[43mauth_found\u001b[49m\u001b[38;5;241;43m.\u001b[39;49m\u001b[43mids\u001b[49m\u001b[43m,\u001b[49m\n\u001b[1;32m      4\u001b[0m \u001b[43m                            \u001b[49m\u001b[43minclude\u001b[49m\u001b[38;5;241;43m=\u001b[39;49m\u001b[43mout\u001b[49m\u001b[43m,\u001b[49m\n\u001b[1;32m      5\u001b[0m \u001b[43m                            \u001b[49m\u001b[43mdataset_list\u001b[49m\u001b[38;5;241;43m=\u001b[39;49m\u001b[43m[\u001b[49m\u001b[38;5;124;43m'\u001b[39;49m\u001b[38;5;124;43mSDSS-DR17-test\u001b[39;49m\u001b[38;5;124;43m'\u001b[39;49m\u001b[43m,\u001b[49m\u001b[43m \u001b[49m\u001b[38;5;124;43m'\u001b[39;49m\u001b[38;5;124;43mDESI-EDR\u001b[39;49m\u001b[38;5;124;43m'\u001b[39;49m\u001b[43m]\u001b[49m\u001b[43m,\u001b[49m\n\u001b[1;32m      6\u001b[0m \u001b[43m                            \u001b[49m\u001b[43mlimit\u001b[49m\u001b[38;5;241;43m=\u001b[39;49m\u001b[38;5;241;43m20000\u001b[39;49m\u001b[43m)\u001b[49m\n\u001b[1;32m      7\u001b[0m count_records(anon_ret4)\n",
      "File \u001b[0;32m~/anaconda3/lib/python3.8/site-packages/sparcl/client.py:870\u001b[0m, in \u001b[0;36mSparclClient.retrieve\u001b[0;34m(self, uuid_list, include, dataset_list, limit, verbose)\u001b[0m\n\u001b[1;32m    868\u001b[0m     \u001b[38;5;28;01mif\u001b[39;00m verbose \u001b[38;5;129;01mand\u001b[39;00m (\u001b[38;5;124m\"\u001b[39m\u001b[38;5;124mtraceback\u001b[39m\u001b[38;5;124m\"\u001b[39m \u001b[38;5;129;01min\u001b[39;00m res\u001b[38;5;241m.\u001b[39mjson()):\n\u001b[1;32m    869\u001b[0m         \u001b[38;5;28mprint\u001b[39m(\u001b[38;5;124mf\u001b[39m\u001b[38;5;124m'\u001b[39m\u001b[38;5;124mDBG: Server traceback=\u001b[39m\u001b[38;5;130;01m\\n\u001b[39;00m\u001b[38;5;132;01m{\u001b[39;00mres\u001b[38;5;241m.\u001b[39mjson()[\u001b[38;5;124m\"\u001b[39m\u001b[38;5;124mtraceback\u001b[39m\u001b[38;5;124m\"\u001b[39m]\u001b[38;5;132;01m}\u001b[39;00m\u001b[38;5;124m'\u001b[39m)\n\u001b[0;32m--> 870\u001b[0m     \u001b[38;5;28;01mraise\u001b[39;00m ex\u001b[38;5;241m.\u001b[39mgenSparclException(res, verbose\u001b[38;5;241m=\u001b[39mverbose)\n\u001b[1;32m    872\u001b[0m \u001b[38;5;28;01mif\u001b[39;00m \u001b[38;5;28mformat\u001b[39m \u001b[38;5;241m==\u001b[39m \u001b[38;5;124m\"\u001b[39m\u001b[38;5;124mjson\u001b[39m\u001b[38;5;124m\"\u001b[39m:\n\u001b[1;32m    873\u001b[0m     results \u001b[38;5;241m=\u001b[39m res\u001b[38;5;241m.\u001b[39mjson()\n",
      "\u001b[0;31mAccessNotAllowed\u001b[0m: [DSDENIED] uname='ANONYMOUS' is declined access to datasets=['SDSS-DR17-test']; drs_requested=['DESI-EDR', 'SDSS-DR17-test'] my_auth=['BOSS-DR16', 'DESI-EDR', 'SDSS-DR16']"
     ]
    }
   ],
   "source": [
    "# uuid_list includes IDs from private dataset, private dataset specified.\n",
    "# This cell should produce an \"Access Not Allowed\" error.\n",
    "anon_ret4 = client.retrieve(uuid_list=auth_found.ids,\n",
    "                            include=out,\n",
    "                            dataset_list=['SDSS-DR17-test', 'DESI-EDR'],\n",
    "                            limit=20000)\n",
    "count_records(anon_ret4)"
   ]
  },
  {
   "cell_type": "code",
   "execution_count": null,
   "id": "133f39d1-9620-47a2-a8b6-f25227b9043a",
   "metadata": {},
   "outputs": [],
   "source": []
  }
 ],
 "metadata": {
  "kernelspec": {
   "display_name": "Python 3 (ipykernel)",
   "language": "python",
   "name": "python3"
  },
  "language_info": {
   "codemirror_mode": {
    "name": "ipython",
    "version": 3
   },
   "file_extension": ".py",
   "mimetype": "text/x-python",
   "name": "python",
   "nbconvert_exporter": "python",
   "pygments_lexer": "ipython3",
   "version": "3.8.3"
  }
 },
 "nbformat": 4,
 "nbformat_minor": 5
}
