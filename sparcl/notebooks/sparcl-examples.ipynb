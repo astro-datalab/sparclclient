{
 "cells": [
  {
   "cell_type": "markdown",
   "metadata": {
    "tags": []
   },
   "source": [
    "# SPARCLCLIENT Example Usage"
   ]
  },
  {
   "cell_type": "code",
   "execution_count": null,
   "metadata": {
    "tags": []
   },
   "outputs": [],
   "source": [
    "__author__ = 'Steve Pothier <steve.pothier@noirlab.edu>'\n",
    "__version__ = '20240224' # yyyymmdd; \n",
    "__keywords__ = ['HowTo', 'astronomy', 'tutorial', 'client', 'sparcl', 'NOIRlab']"
   ]
  },
  {
   "cell_type": "markdown",
   "metadata": {
    "tags": []
   },
   "source": [
    "## Table of contents\n",
    "* [Goals & Summary](#goals)\n",
    "* [Imports and setup](#imports)\n",
    "* [Install SPARCLCLIENT](#install)\n",
    "* [Prepare to use sparcl](#prepare)\n",
    "* [Get general info from SPARCL](#info)\n",
    "* [Get Metadata and Spectra](#get)"
   ]
  },
  {
   "cell_type": "markdown",
   "metadata": {
    "tags": []
   },
   "source": [
    "<a class=\"anchor\" id=\"goals\"></a>\n",
    "## Goals & Summary \n",
    "Demonstrate the use of the `sparclclient` package to get metadata and spectra data from the [NOIRLab SPARCL Server](https://astrosparcl.datalab.noirlab.edu/). Show how to get non-public data if you have authorized credentials.\n",
    "- Discovery: Search for matching metadata and return metadata records.\n",
    "- Retrieve spectra"
   ]
  },
  {
   "cell_type": "markdown",
   "metadata": {
    "tags": []
   },
   "source": [
    "<a class=\"anchor\" id=\"imports\"></a>\n",
    "## Imports and Setup"
   ]
  },
  {
   "cell_type": "code",
   "execution_count": null,
   "metadata": {},
   "outputs": [],
   "source": [
    "from pprint import pformat as pf\n",
    "from pprint import pp\n",
    "import os.path\n",
    "from importlib import reload\n",
    "from collections import defaultdict\n",
    "from datetime import datetime\n",
    "import warnings\n",
    "from getpass import getpass\n",
    "\n",
    "import matplotlib.pyplot as plt\n",
    "import numpy as np\n",
    "import pandas as pd\n",
    "\n",
    "class StopExecution(Exception):\n",
    "    def _render_traceback_(self):\n",
    "        pass\n",
    "\n",
    "# %matplotlib inline\n",
    "# requires installing ipympl\n",
    "%matplotlib widget\n",
    "plt.rcParams['font.size'] = 14"
   ]
  },
  {
   "cell_type": "markdown",
   "metadata": {
    "tags": []
   },
   "source": [
    "<a class=\"anchor\" id=\"install\"></a>\n",
    "## Install most recent version of the SPARCLCLIENT\n",
    "*NOTE: After installing the most recent version, please restart your kernel.*"
   ]
  },
  {
   "cell_type": "code",
   "execution_count": null,
   "metadata": {},
   "outputs": [],
   "source": [
    "# !pip install --upgrade sparclclient         # Latest released version\n",
    "# !pip install --pre --upgrade sparclclient   # Lastest pre-released version\n",
    "\n",
    "# Uncomment next line to load SPARCLCLIENT from local current version of software.\n",
    "!pip install --pre --upgrade ../.."
   ]
  },
  {
   "cell_type": "code",
   "execution_count": null,
   "metadata": {},
   "outputs": [],
   "source": [
    "import sparcl.client\n",
    "print(f'Run started: {str(datetime.now())}')"
   ]
  },
  {
   "cell_type": "markdown",
   "metadata": {
    "editable": true,
    "slideshow": {
     "slide_type": ""
    },
    "tags": []
   },
   "source": [
    "<a class=\"anchor\" id=\"prepare\"></a>\n",
    "# Configure SPARCLCLIENT"
   ]
  },
  {
   "cell_type": "code",
   "execution_count": null,
   "metadata": {
    "scrolled": true
   },
   "outputs": [],
   "source": [
    "# How much output to we want to show?\n",
    "show_help = False   # HELP for client functions\n",
    "show_curl = False   # Show the underlying SPARCL Server API call\n",
    "\n",
    "server = 'https://astrosparcl.datalab.noirlab.edu'  # Public Server\n",
    "server = 'https://sparc1.datalab.noirlab.edu'       # internal TEST Server\n",
    "server = 'http://localhost:8050'                    # internal DEV Server\n",
    "\n",
    "priv_dr = 'SDSS-DR17'\n",
    "\n",
    "# Authenticated Users that are never authorized for anything important.\n",
    "# These are authenticated on both Public and Test SSO servers.\n",
    "auth_user   = 'test_user_1@noirlab.edu'\n",
    "unauth_user = 'test_user_2@noirlab.edu'\n",
    "non_user    = 'test_user_3@noirlab.edu'\n",
    "usrpw = getpass()"
   ]
  },
  {
   "cell_type": "code",
   "execution_count": null,
   "metadata": {
    "scrolled": true
   },
   "outputs": [],
   "source": [
    "if show_help:\n",
    "    help(sparcl.client.SparclClient)\n",
    "client = sparcl.client.SparclClient(url=server, show_curl=show_curl)\n",
    "print(f'{client=}')"
   ]
  },
  {
   "cell_type": "markdown",
   "metadata": {},
   "source": [
    "<a class=\"anchor\" id=\"info\"></a>\n",
    "# General Info from SPARCL"
   ]
  },
  {
   "cell_type": "markdown",
   "metadata": {},
   "source": [
    "<a class=\"anchor\" id=\"datasets\"></a>\n",
    "## Data sets available\n",
    "List all currently available data sets from the server/url associated with client"
   ]
  },
  {
   "cell_type": "code",
   "execution_count": null,
   "metadata": {},
   "outputs": [],
   "source": [
    "client.all_datasets"
   ]
  },
  {
   "cell_type": "markdown",
   "metadata": {},
   "source": [
    "<a class=\"anchor\" id=\"defaultfieldnames\"></a>\n",
    "## Default field names\n",
    "Gets fields tagged as 'default' that are common to all data sets in the `dataset_list` passed to the function. If `dataset_list` is None (the default), the function returns the intersection of 'default' fields across all datasets currently available in the SPARC database. The following example of this function produces the same output as it would with no `dataset_list` argument because we currently only have SDSS-DR16 and BOSS-DR16 records in the SPARC database."
   ]
  },
  {
   "cell_type": "code",
   "execution_count": null,
   "metadata": {
    "scrolled": true
   },
   "outputs": [],
   "source": [
    "if show_help:\n",
    "    client.get_default_fields?"
   ]
  },
  {
   "cell_type": "code",
   "execution_count": null,
   "metadata": {},
   "outputs": [],
   "source": [
    "client.get_default_fields(dataset_list=['SDSS-DR16', 'BOSS-DR16'])"
   ]
  },
  {
   "cell_type": "markdown",
   "metadata": {},
   "source": [
    "<a class=\"anchor\" id=\"allfieldnames\"></a>\n",
    "## All field names\n",
    "Gets fields tagged as 'all' that are common to all data sets in the `dataset_list` passed to the function. If `dataset_list` is None (the default), the function returns the intersection of 'all' fields across all datasets currently available in the SPARC database.  The following example of this function produces the same output as it would with no `dataset_list` argument because we currently only have SDSS-DR16 and BOSS-DR16 records in the SPARC database."
   ]
  },
  {
   "cell_type": "code",
   "execution_count": null,
   "metadata": {},
   "outputs": [],
   "source": [
    "client.get_all_fields?"
   ]
  },
  {
   "cell_type": "code",
   "execution_count": null,
   "metadata": {},
   "outputs": [],
   "source": [
    "print(sorted(client.get_all_fields(dataset_list=['SDSS-DR16', 'BOSS-DR16'])))"
   ]
  },
  {
   "cell_type": "markdown",
   "metadata": {},
   "source": [
    "## Version of Server API used by this client\n",
    "The SPARCL Client you use must match the version of the SPARCL Server you use. The server is specified with the client.SparclClient `url` parameter.  If Server and Client are incompatible, when you excecute SparclClient() you will instructed to upgrade your client."
   ]
  },
  {
   "cell_type": "code",
   "execution_count": null,
   "metadata": {},
   "outputs": [],
   "source": [
    "client.version"
   ]
  },
  {
   "cell_type": "markdown",
   "metadata": {},
   "source": [
    "<a class=\"anchor\" id=\"get\"></a>\n",
    "# Get Metadata and Spectra"
   ]
  },
  {
   "cell_type": "markdown",
   "metadata": {},
   "source": [
    "<a class=\"anchor\" id=\"find\"></a>\n",
    "## Get Metadata: `client.find`"
   ]
  },
  {
   "cell_type": "markdown",
   "metadata": {},
   "source": [
    "The first way you can discover your data is by using SPARCL's `client.find()` method, which allows you to find records in the SPARCL database based on certain parameters passed to the function. Only Core fields may be in the `outfields` and `constraints` parameters. The descriptions for all fields, including Core fields, is located [here](https://astrosparcl.datalab.noirlab.edu/sparc/sfc/). The SPARCL Core fields constraint types are:\n",
    "\n",
    "\n",
    "| Field name       | Constraint type | Example |\n",
    "|:----------------|:---------------|:-------|\n",
    "| id               | List of values (but not<br>intended for data discovery) | ['00001658-460c-4da1-987d-e493d8c9b89b',<br>'000017b6-56a2-4f87-8828-3a3409ba1083']\n",
    "| specid           | List of values | [6988698046080241664, 6971782884823945216]\n",
    "| targetid         | List of values | [1237679502171374316, 1237678619584692841]\n",
    "| data_release     | List of allowed values<br>from [SPARCL Categoricals](https://astrosparcl.datalab.noirlab.edu/sparc/cats/) | ['BOSS-DR16', 'SDSS-DR16']\n",
    "| datasetgroup     | List of allowed values<br>from [SPARCL Categoricals](https://astrosparcl.datalab.noirlab.edu/sparc/cats/) | ['SDSS_BOSS']\n",
    "| ra               | Range of values (may not<br>\"wrap\" around RA=0) | [44.53, 47.96]\n",
    "| dec              | Range of values | [2.03, 7.76]\n",
    "| redshift         | Range of values | [0.5, 0.9]\n",
    "| redshift_err     | Range of values | [0.000225, 0.000516]\n",
    "| redshift_warning | List of values  | [0, 3, 5]\n",
    "| spectype         | List of allowed values<br>from [SPARCL Categoricals](https://astrosparcl.datalab.noirlab.edu/sparc/cats/) | ['GALAXY', 'STAR']\n",
    "| instrument       | List of allowed values<br>from [SPARCL Categoricals](https://astrosparcl.datalab.noirlab.edu/sparc/cats/) | ['SDSS', 'BOSS']\n",
    "| telescope        | List of allowed values<br>from [SPARCL Categoricals](https://astrosparcl.datalab.noirlab.edu/sparc/cats/) | ['sloan25m']\n",
    "| site             | List of allowed values<br>from [SPARCL Categoricals](https://astrosparcl.datalab.noirlab.edu/sparc/cats/) |  ['apo']\n",
    "| specprimary      | List of values (but typically<br>would only include 1 if<br>being used for data<br>discovery constraints) | [1]\n",
    "| wavemin          | Range of values | [3607, 3608]\n",
    "| wavemax          | Range of values | [10363, 10364]\n",
    "| dateobs_center   | Range of values | ['2013-03-14T10:16:17Z',<br>'2014-05-24T12:10:00Z']\n",
    "| exptime          | Range of values | [3603.46, 3810.12]\n",
    "| updated          | Range of values | ['2022-08-20T21:37:50.636363Z',<br>'2022-09-20T20:00:00.000000Z']\n"
   ]
  },
  {
   "cell_type": "code",
   "execution_count": null,
   "metadata": {
    "editable": true,
    "scrolled": true,
    "slideshow": {
     "slide_type": ""
    },
    "tags": []
   },
   "outputs": [],
   "source": [
    "if show_help:\n",
    "    client.find?"
   ]
  },
  {
   "cell_type": "markdown",
   "metadata": {},
   "source": [
    "#### Define fields and constraints for metadata FIND\n",
    "Define the fields we want returned (`outfields`) and the constraints (`constraints`)"
   ]
  },
  {
   "cell_type": "code",
   "execution_count": null,
   "metadata": {},
   "outputs": [],
   "source": [
    "out = ['sparcl_id','specid', 'ra', 'dec', 'redshift', 'spectype', 'data_release', 'redshift_err']\n",
    "cons = {'spectype': ['GALAXY'],\n",
    "        'redshift': [0.5, 0.9],\n",
    "        'data_release': ['BOSS-DR16', 'SDSS-DR16']}"
   ]
  },
  {
   "cell_type": "markdown",
   "metadata": {},
   "source": [
    "#### Execute FIND\n",
    "Execute the `client.find()` method with our parameters.\n",
    "The `limit` argument here is being used for demonstration purposes only, and simply returns only the first 20 results here."
   ]
  },
  {
   "cell_type": "code",
   "execution_count": null,
   "metadata": {
    "scrolled": true
   },
   "outputs": [],
   "source": [
    "found = client.find(outfields=out, constraints=cons, limit=20)"
   ]
  },
  {
   "cell_type": "code",
   "execution_count": null,
   "metadata": {
    "scrolled": true
   },
   "outputs": [],
   "source": []
  },
  {
   "cell_type": "code",
   "execution_count": null,
   "metadata": {},
   "outputs": [],
   "source": [
    "pd.DataFrame.from_records(found.records)"
   ]
  },
  {
   "cell_type": "markdown",
   "metadata": {},
   "source": [
    "<a class=\"anchor\" id=\"retrieve\"></a>\n",
    "## Get Spectra: `client.retrieve`"
   ]
  },
  {
   "cell_type": "markdown",
   "metadata": {},
   "source": [
    "In order to retrieve spectra records from SPARCL, pass the following to the `client.retrieve()` function:\n",
    "```\n",
    "uuid_list : List of IDs.\n",
    "dataset_list : List of data sets to search for the IDs in (default: None).\n",
    "include : List of field names to include in each record (default: 'DEFAULT').\n",
    "```\n",
    "\n",
    "**NOTE: A reasonable amount of records to request retrieval of is about 10,000. Exceeding this value may cause the retrieval to timeout or fail.**"
   ]
  },
  {
   "cell_type": "code",
   "execution_count": null,
   "metadata": {
    "scrolled": true
   },
   "outputs": [],
   "source": [
    "if show_help:\n",
    "    client.retrieve?"
   ]
  },
  {
   "cell_type": "markdown",
   "metadata": {},
   "source": [
    "#### Use IDs from FIND to RETRIEVE records\n",
    "Use the IDs from the output of using `client.find()` to retrieve records from SPARCL. \n",
    "\n",
    "Note that `ids` in `found_I.ids` is a property name of the Found class. It is a list of records from all records, not a field name of a record."
   ]
  },
  {
   "cell_type": "code",
   "execution_count": null,
   "metadata": {},
   "outputs": [],
   "source": [
    "# Define the fields to include in the retrieve function\n",
    "inc = ['specid', 'data_release', 'redshift', 'flux', 'wavelength', 'model', 'ivar', 'mask', 'spectype']"
   ]
  },
  {
   "cell_type": "code",
   "execution_count": null,
   "metadata": {},
   "outputs": [],
   "source": []
  },
  {
   "cell_type": "code",
   "execution_count": null,
   "metadata": {},
   "outputs": [],
   "source": [
    "%%time\n",
    "results = client.retrieve(uuid_list=found.ids,\n",
    "                          include=inc,\n",
    "                          dataset_list=['SDSS-DR16','BOSS-DR16'])\n",
    "results.info"
   ]
  },
  {
   "cell_type": "code",
   "execution_count": null,
   "metadata": {},
   "outputs": [],
   "source": [
    "results.records[0]"
   ]
  },
  {
   "cell_type": "markdown",
   "metadata": {},
   "source": [
    "## Plot spectra"
   ]
  },
  {
   "cell_type": "code",
   "execution_count": null,
   "metadata": {},
   "outputs": [],
   "source": [
    "recs = results.records\n",
    "idx = 0\n",
    "fig=plt.figure(1, figsize=(8,4), dpi= 100, facecolor='w', edgecolor='k')\n",
    "fline, = plt.plot(recs[idx].flux, label=f'flux')\n",
    "mline, = plt.plot(recs[idx].model, label=f'model')\n",
    "plt.legend(handles=[fline,mline])"
   ]
  },
  {
   "cell_type": "markdown",
   "metadata": {
    "toc-hr-collapsed": true
   },
   "source": [
    "## Plot FLUX for all records"
   ]
  },
  {
   "cell_type": "code",
   "execution_count": null,
   "metadata": {},
   "outputs": [],
   "source": [
    "print('Ignoring unsupported feature: align_records')"
   ]
  },
  {
   "cell_type": "code",
   "execution_count": null,
   "metadata": {},
   "outputs": [],
   "source": [
    "#import sparcl.gather_2d\n",
    "#ar_dict, grid = sparcl.gather_2d.align_records(results.records)\n",
    "#modeldf = pd.DataFrame(data=ar_dict['flux'],columns=grid)\n",
    "#modeldf.transpose().plot(xlabel='Wavelength', ylabel='Flux', legend=False)"
   ]
  },
  {
   "cell_type": "markdown",
   "metadata": {},
   "source": [
    "# Authorization\n",
    "Your access to data is affected by how you login (or don't).  Both `client.find` and `client.retrieve` allow you to request data (possibly implictly) from specific Datasets. Its possible for your combination of LOGIN and FIND (or RETIEVE) to work now, but fail later without you changing anything. For instance, if you don't login and ask for data from ALL Datasets at a time when all Datasets are public, your FIND will succeed. But if NOIRLab adds a new Dataset that is private, your same find will fail. To avoid the failure, you would have to explicitly request only the public Datasets, or to login as a user that is authorized to access the private Dataset.\n",
    "\n",
    "So summarize, there are three cases in which your FIND or RETRIEVE will be authorized:\n",
    "1. All Datasets are Public (does not matter what you login status is)\n",
    "2. You have explicitly requested only Public Datasets (does not matter what you login status is)\n",
    "3. You are logged in and are authorized to access all the Private Datasets you have (explicitly or implicitly) requested.\n",
    "\n",
    "You might be authorized to access one Dataset, but not another.  So, you must be careful in case #3 above to explictly request the correct Private Dataset(s)."
   ]
  },
  {
   "cell_type": "markdown",
   "metadata": {},
   "source": [
    "## Logging in and logging out"
   ]
  },
  {
   "cell_type": "code",
   "execution_count": null,
   "metadata": {},
   "outputs": [],
   "source": [
    "if show_help:\n",
    "    client.login?\n",
    "    client.logout?"
   ]
  },
  {
   "cell_type": "code",
   "execution_count": null,
   "metadata": {},
   "outputs": [],
   "source": [
    "client.login(auth_user, usrpw)"
   ]
  },
  {
   "cell_type": "code",
   "execution_count": null,
   "metadata": {
    "scrolled": true
   },
   "outputs": [],
   "source": [
    "client.authorized"
   ]
  },
  {
   "cell_type": "code",
   "execution_count": null,
   "metadata": {},
   "outputs": [],
   "source": [
    "client.logout()   # can also be done with client.login(None)"
   ]
  },
  {
   "cell_type": "code",
   "execution_count": null,
   "metadata": {},
   "outputs": [],
   "source": [
    "client.authorized"
   ]
  },
  {
   "cell_type": "markdown",
   "metadata": {},
   "source": [
    "## FIND"
   ]
  },
  {
   "cell_type": "markdown",
   "metadata": {},
   "source": [
    "### Pass FIND with Public DRs as Anonymous"
   ]
  },
  {
   "cell_type": "code",
   "execution_count": null,
   "metadata": {},
   "outputs": [],
   "source": [
    "client.logout()"
   ]
  },
  {
   "cell_type": "code",
   "execution_count": null,
   "metadata": {},
   "outputs": [],
   "source": [
    "out = ['sparcl_id','specid', 'ra', 'dec', 'redshift', 'spectype', 'data_release', 'redshift_err']\n",
    "cons = {'spectype': ['GALAXY'],\n",
    "        'redshift': [0.5, 0.9],\n",
    "        'data_release': ['BOSS-DR16', 'SDSS-DR16']}\n",
    "found = client.find(outfields=out, constraints=cons, limit=2)\n",
    "pp(found.info)\n",
    "print(found.records[0])\n",
    "print(f'\\nSUCCESS: {found.count=} records from FIND')"
   ]
  },
  {
   "cell_type": "markdown",
   "metadata": {},
   "source": [
    "### Fail FIND with prviate DR as Anonymous"
   ]
  },
  {
   "cell_type": "code",
   "execution_count": null,
   "metadata": {},
   "outputs": [],
   "source": [
    "client.authorized"
   ]
  },
  {
   "cell_type": "code",
   "execution_count": null,
   "metadata": {},
   "outputs": [],
   "source": [
    "out = ['sparcl_id','specid', 'ra', 'dec', 'redshift', 'spectype', 'data_release', 'redshift_err']\n",
    "cons = {'spectype': ['GALAXY'],\n",
    "        'redshift': [0.5, 0.9],\n",
    "        'data_release': ['BOSS-DR16',priv_dr]}\n",
    "try:\n",
    "    found = client.find(outfields=out, constraints=cons, limit=2)\n",
    "    print('FOUND info:')\n",
    "    pp(found.info)\n",
    "    print(f'\\nFOUND records. {found.records[0]=}')\n",
    "    gotrecord = True\n",
    "except Exception as err:\n",
    "    gotrecord = False\n",
    "    print(f'SUCCESS: Could not execute find: {err}')\n",
    "\n",
    "if gotrecord:\n",
    "    raise Exception('Wrongly got record from PRIVATE DR {priv_dr}')"
   ]
  },
  {
   "cell_type": "markdown",
   "metadata": {},
   "source": [
    "### Fail FIND with prviate DR as Unauthorized"
   ]
  },
  {
   "cell_type": "code",
   "execution_count": null,
   "metadata": {},
   "outputs": [],
   "source": [
    "client.login(unauth_user, usrpw)"
   ]
  },
  {
   "cell_type": "code",
   "execution_count": null,
   "metadata": {},
   "outputs": [],
   "source": [
    "try:\n",
    "    found = client.find(outfields=out, constraints=cons, limit=2)\n",
    "    print('FOUND info:')\n",
    "    pp(found.info)\n",
    "    print(f'\\nFOUND records. {found.records[0]=}')\n",
    "    gotrecord = True\n",
    "except Exception as err:\n",
    "    gotrecord = False\n",
    "    print(f'SUCCESS: Could not execute find: {err}')\n",
    "\n",
    "if gotrecord:\n",
    "    raise Exception('Wrongly got record from PRIVATE DR {priv_dr}')"
   ]
  },
  {
   "cell_type": "markdown",
   "metadata": {},
   "source": [
    "### Pass FIND with prviate DR as Authorized"
   ]
  },
  {
   "cell_type": "code",
   "execution_count": null,
   "metadata": {},
   "outputs": [],
   "source": [
    "client.login(auth_user, usrpw)"
   ]
  },
  {
   "cell_type": "code",
   "execution_count": null,
   "metadata": {},
   "outputs": [],
   "source": [
    "client.authorized"
   ]
  },
  {
   "cell_type": "code",
   "execution_count": null,
   "metadata": {},
   "outputs": [],
   "source": [
    "found = client.find(outfields=out, constraints=cons, limit=2)\n",
    "print('FOUND info:')\n",
    "pp(found.info)"
   ]
  },
  {
   "cell_type": "markdown",
   "metadata": {},
   "source": [
    "### Fail FIND with Unknown user\n",
    "User is authenticated with SSO, but is unknown to SPARCL"
   ]
  },
  {
   "cell_type": "code",
   "execution_count": null,
   "metadata": {},
   "outputs": [],
   "source": [
    "client.login(non_user, usrpw)"
   ]
  },
  {
   "cell_type": "code",
   "execution_count": null,
   "metadata": {},
   "outputs": [],
   "source": [
    "try:\n",
    "    found = client.find(outfields=out, constraints=cons, limit=2)\n",
    "    print('FOUND info:')\n",
    "    pp(found.info)\n",
    "    print(f'\\nFOUND records. {found.records[0]=}')\n",
    "    gotrecord = True\n",
    "except Exception as err:\n",
    "    gotrecord = False\n",
    "    print(f'SUCCESS: Could not execute find: {err}')\n",
    "\n",
    "if gotrecord:\n",
    "    raise Exception('Wrongly got record from PRIVATE DR {priv_dr}')"
   ]
  },
  {
   "cell_type": "markdown",
   "metadata": {},
   "source": [
    "## RETRIEVE"
   ]
  },
  {
   "cell_type": "markdown",
   "metadata": {},
   "source": [
    "### Pass RETRIEVE with public DRs as Anonymous"
   ]
  },
  {
   "cell_type": "code",
   "execution_count": null,
   "metadata": {},
   "outputs": [],
   "source": [
    "client.authorized"
   ]
  },
  {
   "cell_type": "code",
   "execution_count": null,
   "metadata": {},
   "outputs": [],
   "source": [
    "inc = ['specid', 'data_release', 'redshift', 'flux', 'spectype']\n",
    "got = client.retrieve(uuid_list=found.ids,\n",
    "                          include=inc,\n",
    "                          dataset_list=['SDSS-DR16','BOSS-DR16'])\n",
    "print(f'{got.records[0].spectype=} {len(got.records[0].flux)=}')"
   ]
  },
  {
   "cell_type": "markdown",
   "metadata": {},
   "source": [
    "### Fail RETRIEVE with private DR as Anonymous"
   ]
  },
  {
   "cell_type": "code",
   "execution_count": null,
   "metadata": {},
   "outputs": [],
   "source": [
    "try:\n",
    "    got = client.retrieve(uuid_list=found.ids,\n",
    "                          include=inc,\n",
    "                          dataset_list=['SDSS-DR16',priv_dr,'BOSS-DR16'])\n",
    "    gotrecord = True\n",
    "except Exception as err:\n",
    "    gotrecord = False\n",
    "    print(f'Correctly could not retrieve: {err}')\n",
    "\n",
    "if gotrecord:\n",
    "    raise Exception('Wrongly got record from PRIVATE DR {priv_dr}')"
   ]
  },
  {
   "cell_type": "markdown",
   "metadata": {},
   "source": [
    "### Pass RETRIEVE with private DRs as Authorized"
   ]
  },
  {
   "cell_type": "code",
   "execution_count": null,
   "metadata": {},
   "outputs": [],
   "source": [
    "client.login(auth_user, usrpw)"
   ]
  },
  {
   "cell_type": "code",
   "execution_count": null,
   "metadata": {},
   "outputs": [],
   "source": [
    "client.authorized"
   ]
  },
  {
   "cell_type": "code",
   "execution_count": null,
   "metadata": {},
   "outputs": [],
   "source": [
    "got = client.retrieve(uuid_list=found.ids,\n",
    "                          include=inc,\n",
    "                          dataset_list=['SDSS-DR16',priv_dr,'BOSS-DR16'])\n",
    "print(f'{got.count=}')"
   ]
  },
  {
   "cell_type": "markdown",
   "metadata": {},
   "source": [
    "# All Done"
   ]
  },
  {
   "cell_type": "code",
   "execution_count": null,
   "metadata": {},
   "outputs": [],
   "source": [
    "print(f'Run finished: {str(datetime.now())}')"
   ]
  }
 ],
 "metadata": {
  "kernelspec": {
   "display_name": "Python 3 (ipykernel)",
   "language": "python",
   "name": "python3"
  },
  "language_info": {
   "codemirror_mode": {
    "name": "ipython",
    "version": 3
   },
   "file_extension": ".py",
   "mimetype": "text/x-python",
   "name": "python",
   "nbconvert_exporter": "python",
   "pygments_lexer": "ipython3",
   "version": "3.10.12"
  },
  "toc": {
   "base_numbering": 1
  },
  "toc-showmarkdowntxt": false
 },
 "nbformat": 4,
 "nbformat_minor": 4
}
