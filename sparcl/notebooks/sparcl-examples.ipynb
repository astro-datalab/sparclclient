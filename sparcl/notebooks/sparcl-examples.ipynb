{
 "cells": [
  {
   "cell_type": "markdown",
   "metadata": {
    "tags": []
   },
   "source": [
    "# SPARCLCLIENT Example Usage"
   ]
  },
  {
   "cell_type": "code",
   "execution_count": 1,
   "metadata": {
    "tags": []
   },
   "outputs": [],
   "source": [
    "__author__ = 'Steve Pothier <steve.pothier@noirlab.edu>'\n",
    "__version__ = '20240306' # yyyymmdd; \n",
    "__keywords__ = ['HowTo', 'astronomy', 'tutorial', 'client', 'sparcl', 'NOIRlab']"
   ]
  },
  {
   "cell_type": "markdown",
   "metadata": {
    "tags": []
   },
   "source": [
    "## Table of contents\n",
    "* [Goals & Summary](#goals)\n",
    "* [Imports and setup](#imports)\n",
    "* [Install SPARCLCLIENT](#install)\n",
    "* [Prepare to use sparcl](#prepare)\n",
    "* [Get general info from SPARCL](#info)\n",
    "* [Get Metadata and Spectra](#get)"
   ]
  },
  {
   "cell_type": "markdown",
   "metadata": {
    "tags": []
   },
   "source": [
    "<a class=\"anchor\" id=\"goals\"></a>\n",
    "## Goals & Summary \n",
    "Demonstrate the use of the `sparclclient` package to get metadata and spectra data from the [NOIRLab SPARCL Server](https://astrosparcl.datalab.noirlab.edu/). Show how to get non-public data if you have authorized credentials.\n",
    "- Discovery: Search for matching metadata and return metadata records.\n",
    "- Retrieve spectra"
   ]
  },
  {
   "cell_type": "markdown",
   "metadata": {
    "tags": []
   },
   "source": [
    "<a class=\"anchor\" id=\"imports\"></a>\n",
    "## Imports and Setup"
   ]
  },
  {
   "cell_type": "code",
   "execution_count": 2,
   "metadata": {
    "tags": []
   },
   "outputs": [],
   "source": [
    "from pprint import pformat as pf\n",
    "from pprint import pp\n",
    "import os.path\n",
    "from importlib import reload\n",
    "from collections import defaultdict\n",
    "from datetime import datetime\n",
    "import warnings\n",
    "from getpass import getpass\n",
    "\n",
    "import matplotlib.pyplot as plt\n",
    "import numpy as np\n",
    "import pandas as pd\n",
    "\n",
    "class StopExecution(Exception):\n",
    "    def _render_traceback_(self):\n",
    "        pass\n",
    "\n",
    "# %matplotlib inline\n",
    "# requires installing ipympl\n",
    "%matplotlib widget\n",
    "plt.rcParams['font.size'] = 14"
   ]
  },
  {
   "cell_type": "markdown",
   "metadata": {
    "tags": []
   },
   "source": [
    "<a class=\"anchor\" id=\"install\"></a>\n",
    "## Install most recent version of the SPARCLCLIENT\n",
    "*NOTE: After installing the most recent version, please restart your kernel.*"
   ]
  },
  {
   "cell_type": "code",
   "execution_count": 2,
   "metadata": {
    "tags": []
   },
   "outputs": [
    {
     "name": "stdout",
     "output_type": "stream",
     "text": [
      "Requirement already satisfied: sparclclient in /Users/alice.jacques/anaconda3/lib/python3.8/site-packages (1.2.2b5)\n",
      "Collecting sparclclient\n",
      "  Downloading sparclclient-1.2.2b8-py2.py3-none-any.whl.metadata (566 bytes)\n",
      "Downloading sparclclient-1.2.2b8-py2.py3-none-any.whl (111 kB)\n",
      "\u001b[2K   \u001b[90m━━━━━━━━━━━━━━━━━━━━━━━━━━━━━━━━━━━━━━━━\u001b[0m \u001b[32m111.7/111.7 kB\u001b[0m \u001b[31m2.1 MB/s\u001b[0m eta \u001b[36m0:00:00\u001b[0ma \u001b[36m0:00:01\u001b[0m\n",
      "\u001b[?25h\u001b[33mWARNING: Error parsing requirements for requests: [Errno 2] No such file or directory: '/Users/alice.jacques/anaconda3/lib/python3.8/site-packages/requests-2.24.0.dist-info/METADATA'\u001b[0m\u001b[33m\n",
      "\u001b[0m\u001b[33mDEPRECATION: pyodbc 4.0.0-unsupported has a non-standard version number. pip 24.0 will enforce this behaviour change. A possible replacement is to upgrade to a newer version of pyodbc or contact the author to suggest that they release a version with a conforming version number. Discussion can be found at https://github.com/pypa/pip/issues/12063\u001b[0m\u001b[33m\n",
      "\u001b[0mInstalling collected packages: sparclclient\n",
      "  Attempting uninstall: sparclclient\n",
      "    Found existing installation: sparclclient 1.2.2b5\n",
      "    Uninstalling sparclclient-1.2.2b5:\n",
      "      Successfully uninstalled sparclclient-1.2.2b5\n",
      "Successfully installed sparclclient-1.2.2b8\n",
      "\n",
      "\u001b[1m[\u001b[0m\u001b[34;49mnotice\u001b[0m\u001b[1;39;49m]\u001b[0m\u001b[39;49m A new release of pip is available: \u001b[0m\u001b[31;49m23.3.1\u001b[0m\u001b[39;49m -> \u001b[0m\u001b[32;49m24.0\u001b[0m\n",
      "\u001b[1m[\u001b[0m\u001b[34;49mnotice\u001b[0m\u001b[1;39;49m]\u001b[0m\u001b[39;49m To update, run: \u001b[0m\u001b[32;49mpip install --upgrade pip\u001b[0m\n"
     ]
    }
   ],
   "source": [
    "# !pip install --upgrade sparclclient         # Latest released version\n",
    "!pip install --pre --upgrade sparclclient   # Lastest pre-released version\n",
    "\n",
    "# Uncomment next line to load SPARCLCLIENT from local current version of software.\n",
    "#!pip install --pre --upgrade ../.."
   ]
  },
  {
   "cell_type": "code",
   "execution_count": 3,
   "metadata": {
    "tags": []
   },
   "outputs": [
    {
     "name": "stdout",
     "output_type": "stream",
     "text": [
      "Run started: 2024-03-06 11:50:13.175789\n"
     ]
    }
   ],
   "source": [
    "import sparcl.client\n",
    "print(f'Run started: {str(datetime.now())}')"
   ]
  },
  {
   "cell_type": "markdown",
   "metadata": {
    "editable": true,
    "slideshow": {
     "slide_type": ""
    },
    "tags": []
   },
   "source": [
    "<a class=\"anchor\" id=\"prepare\"></a>\n",
    "# Configure SPARCLCLIENT"
   ]
  },
  {
   "cell_type": "code",
   "execution_count": 4,
   "metadata": {
    "scrolled": true,
    "tags": []
   },
   "outputs": [
    {
     "name": "stdin",
     "output_type": "stream",
     "text": [
      " ········\n"
     ]
    }
   ],
   "source": [
    "# How much output to we want to show?\n",
    "show_help = False   # HELP for client functions\n",
    "show_curl = True   # Show the underlying SPARCL Server API call\n",
    "\n",
    "server = 'https://astrosparcl.datalab.noirlab.edu'  # Public Server\n",
    "server = 'https://sparc1.datalab.noirlab.edu'       # internal TEST Server\n",
    "#server = 'http://localhost:8050'                    # internal DEV Server\n",
    "\n",
    "priv_dr = 'SDSS-DR17-test'\n",
    "\n",
    "# Authenticated Users that are never authorized for anything important.\n",
    "# These are authenticated on both Public and Test SSO servers.\n",
    "auth_user   = 'test_user_1@noirlab.edu'\n",
    "unauth_user = 'test_user_2@noirlab.edu'\n",
    "non_user    = 'test_user_3@noirlab.edu'\n",
    "usrpw = getpass()"
   ]
  },
  {
   "cell_type": "code",
   "execution_count": 5,
   "metadata": {
    "scrolled": true,
    "tags": []
   },
   "outputs": [
    {
     "name": "stdout",
     "output_type": "stream",
     "text": [
      "client=(sparclclient:1.2.2b8, api:11.0, https://sparc1.datalab.noirlab.edu/sparc, client_hash=, verbose=False, connect_timeout=1.1, read_timeout=5400.0)\n"
     ]
    }
   ],
   "source": [
    "if show_help:\n",
    "    help(sparcl.client.SparclClient)\n",
    "client = sparcl.client.SparclClient(url=server, show_curl=show_curl)\n",
    "print(f'{client=}')"
   ]
  },
  {
   "cell_type": "markdown",
   "metadata": {},
   "source": [
    "<a class=\"anchor\" id=\"info\"></a>\n",
    "# General Info from SPARCL"
   ]
  },
  {
   "cell_type": "markdown",
   "metadata": {},
   "source": [
    "<a class=\"anchor\" id=\"datasets\"></a>\n",
    "## Data sets available\n",
    "List all currently available data sets from the server/url associated with client"
   ]
  },
  {
   "cell_type": "code",
   "execution_count": 6,
   "metadata": {
    "tags": []
   },
   "outputs": [
    {
     "data": {
      "text/plain": [
       "{'BOSS-DR16', 'DESI-EDR', 'SDSS-DR16', 'SDSS-DR17-test'}"
      ]
     },
     "execution_count": 6,
     "metadata": {},
     "output_type": "execute_result"
    }
   ],
   "source": [
    "client.all_datasets"
   ]
  },
  {
   "cell_type": "markdown",
   "metadata": {},
   "source": [
    "<a class=\"anchor\" id=\"defaultfieldnames\"></a>\n",
    "## Default field names\n",
    "Gets fields tagged as 'default' that are common to all data sets in the `dataset_list` passed to the function. If `dataset_list` is None (the default), the function returns the intersection of 'default' fields across all datasets currently available in the SPARC database. The following example of this function produces the same output as it would with no `dataset_list` argument because we currently only have SDSS-DR16 and BOSS-DR16 records in the SPARC database."
   ]
  },
  {
   "cell_type": "code",
   "execution_count": 7,
   "metadata": {
    "scrolled": true,
    "tags": []
   },
   "outputs": [],
   "source": [
    "if show_help:\n",
    "    client.get_default_fields?"
   ]
  },
  {
   "cell_type": "code",
   "execution_count": 8,
   "metadata": {
    "tags": []
   },
   "outputs": [
    {
     "data": {
      "text/plain": [
       "['dec', 'flux', 'ra', 'sparcl_id', 'specid', 'wavelength']"
      ]
     },
     "execution_count": 8,
     "metadata": {},
     "output_type": "execute_result"
    }
   ],
   "source": [
    "client.get_default_fields(dataset_list=['SDSS-DR16', 'BOSS-DR16'])"
   ]
  },
  {
   "cell_type": "markdown",
   "metadata": {},
   "source": [
    "<a class=\"anchor\" id=\"allfieldnames\"></a>\n",
    "## All field names\n",
    "Gets fields tagged as 'all' that are common to all data sets in the `dataset_list` passed to the function. If `dataset_list` is None (the default), the function returns the intersection of 'all' fields across all datasets currently available in the SPARC database.  The following example of this function produces the same output as it would with no `dataset_list` argument because we currently only have SDSS-DR16 and BOSS-DR16 records in the SPARC database."
   ]
  },
  {
   "cell_type": "code",
   "execution_count": 9,
   "metadata": {
    "tags": []
   },
   "outputs": [
    {
     "data": {
      "text/plain": [
       "\u001b[0;31mSignature:\u001b[0m \u001b[0mclient\u001b[0m\u001b[0;34m.\u001b[0m\u001b[0mget_all_fields\u001b[0m\u001b[0;34m(\u001b[0m\u001b[0;34m*\u001b[0m\u001b[0;34m,\u001b[0m \u001b[0mdataset_list\u001b[0m\u001b[0;34m=\u001b[0m\u001b[0;32mNone\u001b[0m\u001b[0;34m)\u001b[0m\u001b[0;34m\u001b[0m\u001b[0;34m\u001b[0m\u001b[0m\n",
       "\u001b[0;31mDocstring:\u001b[0m\n",
       "Get fields tagged as 'all' that are in DATASET_LIST.\n",
       "These are the fields used for the ALL value of the include parameter\n",
       "of client.retrieve().\n",
       "\n",
       "Args:\n",
       "    dataset_list (:obj:`list`, optional): List of data sets from\n",
       "        which to get all fields. Defaults to None, which\n",
       "        will return the intersection of all fields in all\n",
       "        data sets hosted on the SPARCL database.\n",
       "\n",
       "Returns:\n",
       "    List of fields tagged as 'all' from DATASET_LIST.\n",
       "\n",
       "Example:\n",
       "    >>> client = SparclClient()\n",
       "    >>> client.get_all_fields()\n",
       "    ['data_release', 'datasetgroup', 'dateobs', 'dateobs_center', 'dec', 'exptime', 'flux', 'instrument', 'ivar', 'mask', 'model', 'ra', 'redshift', 'redshift_err', 'redshift_warning', 'site', 'sparcl_id', 'specid', 'specprimary', 'spectype', 'survey', 'targetid', 'telescope', 'wave_sigma', 'wavelength', 'wavemax', 'wavemin']\n",
       "\u001b[0;31mFile:\u001b[0m      ~/anaconda3/lib/python3.8/site-packages/sparcl/client.py\n",
       "\u001b[0;31mType:\u001b[0m      method"
      ]
     },
     "metadata": {},
     "output_type": "display_data"
    }
   ],
   "source": [
    "client.get_all_fields?"
   ]
  },
  {
   "cell_type": "code",
   "execution_count": 10,
   "metadata": {
    "tags": []
   },
   "outputs": [
    {
     "name": "stdout",
     "output_type": "stream",
     "text": [
      "['ancillary_target1', 'ancillary_target2', 'anyandmask', 'anyormask', 'bluefiber', 'boss_specobj_id', 'boss_target1', 'boss_target2', 'calibflux', 'calibflux_ivar', 'chi68p', 'chunk', 'class_noqso', 'class_person', 'comments_person', 'cx', 'cy', 'cz', 'data_release', 'datasetgroup', 'dateobs', 'dateobs_center', 'dec', 'deredsn2', 'designid', 'dof', 'eboss_target0', 'eboss_target1', 'eboss_target2', 'eboss_target_id', 'elodie_bv', 'elodie_dof', 'elodie_feh', 'elodie_filename', 'elodie_logg', 'elodie_object', 'elodie_rchi2', 'elodie_sptype', 'elodie_teff', 'elodie_z', 'elodie_z_err', 'elodie_z_modelerr', 'exptime', 'fiberid', 'firstrelease', 'flux', 'fluxobjid', 'fracnsighi', 'fracnsiglo', 'fracnsigma', 'instrument', 'ivar', 'lambda_eff', 'legacy_target1', 'legacy_target2', 'marvels_target1', 'marvels_target2', 'mask', 'mjd', 'model', 'npoly', 'nspecobs', 'nturnoff', 'objid', 'plate', 'plateid', 'platequality', 'platerun', 'platesn2', 'primtarget', 'programname', 'ra', 'rchi2', 'rchi2diff', 'rchi2diff_noqso', 'redshift', 'redshift_err', 'redshift_warning', 'run1d', 'run2d', 'sectarget', 'segue1_target1', 'segue1_target2', 'segue2_target1', 'segue2_target2', 'site', 'sky', 'sn_median', 'sn_median_all', 'snturnoff', 'sourcetype', 'sparcl_id', 'spec1_g', 'spec1_i', 'spec1_r', 'spec2_g', 'spec2_i', 'spec2_r', 'specboss', 'special_target1', 'special_target2', 'specid', 'speclegacy', 'specprimary', 'specsdss', 'specsegue', 'specsegue1', 'specsegue2', 'spectroflux', 'spectroflux_ivar', 'spectrographid', 'spectroskyflux', 'spectrosynflux', 'spectrosynflux_ivar', 'spectype', 'subclass', 'subclass_noqso', 'survey', 'targetid', 'targetobjid', 'targettype', 'tcolumn', 'telescope', 'tfile', 'theta', 'thing_id', 'thing_id_targeting', 'tile', 'vdisp', 'vdisp_err', 'vdispchi2', 'vdispdof', 'vdispnpix', 'vdispz', 'vdispz_err', 'wave_sigma', 'wavelength', 'wavemax', 'wavemin', 'wcoverage', 'xfocal', 'yfocal', 'z_conf_person', 'z_err_noqso', 'z_noqso', 'z_person', 'zoffset', 'zwarning_noqso']\n"
     ]
    }
   ],
   "source": [
    "print(sorted(client.get_all_fields(dataset_list=['SDSS-DR16', 'BOSS-DR16'])))"
   ]
  },
  {
   "cell_type": "markdown",
   "metadata": {},
   "source": [
    "## Version of Server API used by this client\n",
    "The SPARCL Client you use must match the version of the SPARCL Server you use. The server is specified with the client.SparclClient `url` parameter.  If Server and Client are incompatible, when you excecute SparclClient() you will instructed to upgrade your client."
   ]
  },
  {
   "cell_type": "code",
   "execution_count": 11,
   "metadata": {
    "tags": []
   },
   "outputs": [
    {
     "data": {
      "text/plain": [
       "11.0"
      ]
     },
     "execution_count": 11,
     "metadata": {},
     "output_type": "execute_result"
    }
   ],
   "source": [
    "client.version"
   ]
  },
  {
   "cell_type": "markdown",
   "metadata": {},
   "source": [
    "<a class=\"anchor\" id=\"get\"></a>\n",
    "# Get Metadata and Spectra"
   ]
  },
  {
   "cell_type": "markdown",
   "metadata": {},
   "source": [
    "<a class=\"anchor\" id=\"find\"></a>\n",
    "## Get Metadata: `client.find`"
   ]
  },
  {
   "cell_type": "markdown",
   "metadata": {},
   "source": [
    "The first way you can discover your data is by using SPARCL's `client.find()` method, which allows you to find records in the SPARCL database based on certain parameters passed to the function. Only Core fields may be in the `outfields` and `constraints` parameters. The descriptions for all fields, including Core fields, is located [here](https://astrosparcl.datalab.noirlab.edu/sparc/sfc/). The SPARCL Core fields constraint types are:\n",
    "\n",
    "\n",
    "| Field name       | Constraint type | Example |\n",
    "|:----------------|:---------------|:-------|\n",
    "| id               | List of values (but not<br>intended for data discovery) | ['00001658-460c-4da1-987d-e493d8c9b89b',<br>'000017b6-56a2-4f87-8828-3a3409ba1083']\n",
    "| specid           | List of values | [6988698046080241664, 6971782884823945216]\n",
    "| targetid         | List of values | [1237679502171374316, 1237678619584692841]\n",
    "| data_release     | List of allowed values<br>from [SPARCL Categoricals](https://astrosparcl.datalab.noirlab.edu/sparc/cats/) | ['BOSS-DR16', 'SDSS-DR16']\n",
    "| datasetgroup     | List of allowed values<br>from [SPARCL Categoricals](https://astrosparcl.datalab.noirlab.edu/sparc/cats/) | ['SDSS_BOSS']\n",
    "| ra               | Range of values (may not<br>\"wrap\" around RA=0) | [44.53, 47.96]\n",
    "| dec              | Range of values | [2.03, 7.76]\n",
    "| redshift         | Range of values | [0.5, 0.9]\n",
    "| redshift_err     | Range of values | [0.000225, 0.000516]\n",
    "| redshift_warning | List of values  | [0, 3, 5]\n",
    "| spectype         | List of allowed values<br>from [SPARCL Categoricals](https://astrosparcl.datalab.noirlab.edu/sparc/cats/) | ['GALAXY', 'STAR']\n",
    "| instrument       | List of allowed values<br>from [SPARCL Categoricals](https://astrosparcl.datalab.noirlab.edu/sparc/cats/) | ['SDSS', 'BOSS']\n",
    "| telescope        | List of allowed values<br>from [SPARCL Categoricals](https://astrosparcl.datalab.noirlab.edu/sparc/cats/) | ['sloan25m']\n",
    "| site             | List of allowed values<br>from [SPARCL Categoricals](https://astrosparcl.datalab.noirlab.edu/sparc/cats/) |  ['apo']\n",
    "| specprimary      | List of values (but typically<br>would only include 1 if<br>being used for data<br>discovery constraints) | [1]\n",
    "| wavemin          | Range of values | [3607, 3608]\n",
    "| wavemax          | Range of values | [10363, 10364]\n",
    "| dateobs_center   | Range of values | ['2013-03-14T10:16:17Z',<br>'2014-05-24T12:10:00Z']\n",
    "| exptime          | Range of values | [3603.46, 3810.12]\n",
    "| updated          | Range of values | ['2022-08-20T21:37:50.636363Z',<br>'2022-09-20T20:00:00.000000Z']\n"
   ]
  },
  {
   "cell_type": "code",
   "execution_count": 12,
   "metadata": {
    "editable": true,
    "scrolled": true,
    "slideshow": {
     "slide_type": ""
    },
    "tags": []
   },
   "outputs": [],
   "source": [
    "if show_help:\n",
    "    client.find?"
   ]
  },
  {
   "cell_type": "markdown",
   "metadata": {},
   "source": [
    "#### Define fields and constraints for metadata FIND\n",
    "Define the fields we want returned (`outfields`) and the constraints (`constraints`)"
   ]
  },
  {
   "cell_type": "code",
   "execution_count": 13,
   "metadata": {
    "tags": []
   },
   "outputs": [],
   "source": [
    "out = ['sparcl_id','specid', 'ra', 'dec', 'redshift', 'spectype', 'data_release', 'redshift_err']\n",
    "cons = {'spectype': ['GALAXY'],\n",
    "        'redshift': [0.5, 0.9],\n",
    "        'data_release': ['BOSS-DR16', 'SDSS-DR16']}"
   ]
  },
  {
   "cell_type": "markdown",
   "metadata": {},
   "source": [
    "#### Execute FIND\n",
    "Execute the `client.find()` method with our parameters.\n",
    "The `limit` argument here is being used for demonstration purposes only, and simply returns only the first 20 results here."
   ]
  },
  {
   "cell_type": "code",
   "execution_count": 14,
   "metadata": {
    "scrolled": true,
    "tags": []
   },
   "outputs": [
    {
     "name": "stdout",
     "output_type": "stream",
     "text": [
      "curl -X 'POST' -H 'Content-Type: application/json' -d '{\"outfields\": [\"sparcl_id\", \"specid\", \"ra\", \"dec\", \"redshift\", \"spectype\", \"data_release\", \"redshift_err\"], \"search\": [[\"spectype\", \"GALAXY\"], [\"redshift\", 0.5, 0.9], [\"data_release\", \"BOSS-DR16\", \"SDSS-DR16\"]]}' 'https://sparc1.datalab.noirlab.edu/sparc/find/?limit=20' | python3 -m json.tool\n"
     ]
    }
   ],
   "source": [
    "found = client.find(outfields=out, constraints=cons, limit=20)"
   ]
  },
  {
   "cell_type": "code",
   "execution_count": null,
   "metadata": {
    "scrolled": true
   },
   "outputs": [],
   "source": []
  },
  {
   "cell_type": "code",
   "execution_count": 15,
   "metadata": {
    "tags": []
   },
   "outputs": [
    {
     "data": {
      "text/html": [
       "<div>\n",
       "<style scoped>\n",
       "    .dataframe tbody tr th:only-of-type {\n",
       "        vertical-align: middle;\n",
       "    }\n",
       "\n",
       "    .dataframe tbody tr th {\n",
       "        vertical-align: top;\n",
       "    }\n",
       "\n",
       "    .dataframe thead th {\n",
       "        text-align: right;\n",
       "    }\n",
       "</style>\n",
       "<table border=\"1\" class=\"dataframe\">\n",
       "  <thead>\n",
       "    <tr style=\"text-align: right;\">\n",
       "      <th></th>\n",
       "      <th>spectype</th>\n",
       "      <th>sparcl_id</th>\n",
       "      <th>ra</th>\n",
       "      <th>specid</th>\n",
       "      <th>redshift</th>\n",
       "      <th>redshift_err</th>\n",
       "      <th>dec</th>\n",
       "      <th>data_release</th>\n",
       "      <th>_dr</th>\n",
       "    </tr>\n",
       "  </thead>\n",
       "  <tbody>\n",
       "    <tr>\n",
       "      <th>0</th>\n",
       "      <td>GALAXY</td>\n",
       "      <td>00b0904d-992f-11ee-b7f9-525400aad0aa</td>\n",
       "      <td>141.63075</td>\n",
       "      <td>-5672178860774109184</td>\n",
       "      <td>0.699621</td>\n",
       "      <td>0.000212</td>\n",
       "      <td>27.981984</td>\n",
       "      <td>BOSS-DR16</td>\n",
       "      <td>BOSS-DR16</td>\n",
       "    </tr>\n",
       "    <tr>\n",
       "      <th>1</th>\n",
       "      <td>GALAXY</td>\n",
       "      <td>010eb4d0-992f-11ee-89de-525400aad0aa</td>\n",
       "      <td>141.73278</td>\n",
       "      <td>-5672178036140388352</td>\n",
       "      <td>0.735681</td>\n",
       "      <td>0.000296</td>\n",
       "      <td>27.886212</td>\n",
       "      <td>BOSS-DR16</td>\n",
       "      <td>BOSS-DR16</td>\n",
       "    </tr>\n",
       "    <tr>\n",
       "      <th>2</th>\n",
       "      <td>GALAXY</td>\n",
       "      <td>020ed77c-992f-11ee-aefb-525400aad0aa</td>\n",
       "      <td>141.71671</td>\n",
       "      <td>-5672175287361318912</td>\n",
       "      <td>0.577450</td>\n",
       "      <td>0.000168</td>\n",
       "      <td>28.225833</td>\n",
       "      <td>BOSS-DR16</td>\n",
       "      <td>BOSS-DR16</td>\n",
       "    </tr>\n",
       "    <tr>\n",
       "      <th>3</th>\n",
       "      <td>GALAXY</td>\n",
       "      <td>0262c5c1-992f-11ee-a797-525400aad0aa</td>\n",
       "      <td>141.77643</td>\n",
       "      <td>-5672174462727598080</td>\n",
       "      <td>0.613647</td>\n",
       "      <td>0.000221</td>\n",
       "      <td>28.349531</td>\n",
       "      <td>BOSS-DR16</td>\n",
       "      <td>BOSS-DR16</td>\n",
       "    </tr>\n",
       "    <tr>\n",
       "      <th>4</th>\n",
       "      <td>GALAXY</td>\n",
       "      <td>0290508b-992f-11ee-94e5-525400aad0aa</td>\n",
       "      <td>141.69172</td>\n",
       "      <td>-5672173912971784192</td>\n",
       "      <td>0.611291</td>\n",
       "      <td>0.000215</td>\n",
       "      <td>28.440417</td>\n",
       "      <td>BOSS-DR16</td>\n",
       "      <td>BOSS-DR16</td>\n",
       "    </tr>\n",
       "    <tr>\n",
       "      <th>5</th>\n",
       "      <td>GALAXY</td>\n",
       "      <td>02c0f331-992f-11ee-ac38-525400aad0aa</td>\n",
       "      <td>141.40642</td>\n",
       "      <td>-5672173363215970304</td>\n",
       "      <td>0.742280</td>\n",
       "      <td>0.000316</td>\n",
       "      <td>27.313360</td>\n",
       "      <td>BOSS-DR16</td>\n",
       "      <td>BOSS-DR16</td>\n",
       "    </tr>\n",
       "    <tr>\n",
       "      <th>6</th>\n",
       "      <td>GALAXY</td>\n",
       "      <td>02d858b6-992f-11ee-be88-525400aad0aa</td>\n",
       "      <td>141.43253</td>\n",
       "      <td>-5672173088338063360</td>\n",
       "      <td>0.714333</td>\n",
       "      <td>0.000307</td>\n",
       "      <td>27.297940</td>\n",
       "      <td>BOSS-DR16</td>\n",
       "      <td>BOSS-DR16</td>\n",
       "    </tr>\n",
       "    <tr>\n",
       "      <th>7</th>\n",
       "      <td>GALAXY</td>\n",
       "      <td>02eef149-992f-11ee-a3b5-525400aad0aa</td>\n",
       "      <td>141.45293</td>\n",
       "      <td>-5672172813460156416</td>\n",
       "      <td>0.763182</td>\n",
       "      <td>0.000293</td>\n",
       "      <td>27.502474</td>\n",
       "      <td>BOSS-DR16</td>\n",
       "      <td>BOSS-DR16</td>\n",
       "    </tr>\n",
       "    <tr>\n",
       "      <th>8</th>\n",
       "      <td>GALAXY</td>\n",
       "      <td>0315e895-992f-11ee-96ce-525400aad0aa</td>\n",
       "      <td>141.54144</td>\n",
       "      <td>-5672172263704342528</td>\n",
       "      <td>0.747819</td>\n",
       "      <td>0.000286</td>\n",
       "      <td>27.511042</td>\n",
       "      <td>BOSS-DR16</td>\n",
       "      <td>BOSS-DR16</td>\n",
       "    </tr>\n",
       "    <tr>\n",
       "      <th>9</th>\n",
       "      <td>GALAXY</td>\n",
       "      <td>033fb515-992f-11ee-9c1d-525400aad0aa</td>\n",
       "      <td>141.44884</td>\n",
       "      <td>-5672171713948528640</td>\n",
       "      <td>0.567928</td>\n",
       "      <td>0.000241</td>\n",
       "      <td>27.600306</td>\n",
       "      <td>BOSS-DR16</td>\n",
       "      <td>BOSS-DR16</td>\n",
       "    </tr>\n",
       "    <tr>\n",
       "      <th>10</th>\n",
       "      <td>GALAXY</td>\n",
       "      <td>03a05265-992f-11ee-9683-525400aad0aa</td>\n",
       "      <td>141.49531</td>\n",
       "      <td>-5672170614436900864</td>\n",
       "      <td>0.724495</td>\n",
       "      <td>0.000278</td>\n",
       "      <td>27.739271</td>\n",
       "      <td>BOSS-DR16</td>\n",
       "      <td>BOSS-DR16</td>\n",
       "    </tr>\n",
       "    <tr>\n",
       "      <th>11</th>\n",
       "      <td>GALAXY</td>\n",
       "      <td>03c80eda-992f-11ee-b4f2-525400aad0aa</td>\n",
       "      <td>141.42144</td>\n",
       "      <td>-5672170064681086976</td>\n",
       "      <td>0.727417</td>\n",
       "      <td>0.000175</td>\n",
       "      <td>27.705200</td>\n",
       "      <td>BOSS-DR16</td>\n",
       "      <td>BOSS-DR16</td>\n",
       "    </tr>\n",
       "    <tr>\n",
       "      <th>12</th>\n",
       "      <td>GALAXY</td>\n",
       "      <td>03fad572-992f-11ee-a30a-525400aad0aa</td>\n",
       "      <td>141.62676</td>\n",
       "      <td>-5672169514925273088</td>\n",
       "      <td>0.723495</td>\n",
       "      <td>0.000260</td>\n",
       "      <td>27.756787</td>\n",
       "      <td>BOSS-DR16</td>\n",
       "      <td>BOSS-DR16</td>\n",
       "    </tr>\n",
       "    <tr>\n",
       "      <th>13</th>\n",
       "      <td>GALAXY</td>\n",
       "      <td>04184b57-992f-11ee-bffa-525400aad0aa</td>\n",
       "      <td>141.50548</td>\n",
       "      <td>-5672169240047366144</td>\n",
       "      <td>0.565133</td>\n",
       "      <td>0.000027</td>\n",
       "      <td>27.570483</td>\n",
       "      <td>BOSS-DR16</td>\n",
       "      <td>BOSS-DR16</td>\n",
       "    </tr>\n",
       "    <tr>\n",
       "      <th>14</th>\n",
       "      <td>GALAXY</td>\n",
       "      <td>0431fcb5-992f-11ee-b884-525400aad0aa</td>\n",
       "      <td>141.57763</td>\n",
       "      <td>-5672168965169459200</td>\n",
       "      <td>0.725325</td>\n",
       "      <td>0.000210</td>\n",
       "      <td>27.812046</td>\n",
       "      <td>BOSS-DR16</td>\n",
       "      <td>BOSS-DR16</td>\n",
       "    </tr>\n",
       "    <tr>\n",
       "      <th>15</th>\n",
       "      <td>GALAXY</td>\n",
       "      <td>046666c6-992f-11ee-99ce-525400aad0aa</td>\n",
       "      <td>141.62108</td>\n",
       "      <td>-5672168415413645312</td>\n",
       "      <td>0.742185</td>\n",
       "      <td>0.000264</td>\n",
       "      <td>27.538922</td>\n",
       "      <td>BOSS-DR16</td>\n",
       "      <td>BOSS-DR16</td>\n",
       "    </tr>\n",
       "    <tr>\n",
       "      <th>16</th>\n",
       "      <td>GALAXY</td>\n",
       "      <td>057916a9-992f-11ee-a9ba-525400aad0aa</td>\n",
       "      <td>141.50010</td>\n",
       "      <td>-5672165666634575872</td>\n",
       "      <td>0.574673</td>\n",
       "      <td>0.000289</td>\n",
       "      <td>27.976450</td>\n",
       "      <td>BOSS-DR16</td>\n",
       "      <td>BOSS-DR16</td>\n",
       "    </tr>\n",
       "    <tr>\n",
       "      <th>17</th>\n",
       "      <td>GALAXY</td>\n",
       "      <td>05f59fc1-992f-11ee-8447-525400aad0aa</td>\n",
       "      <td>141.40741</td>\n",
       "      <td>-5672164017367134208</td>\n",
       "      <td>0.659942</td>\n",
       "      <td>0.000239</td>\n",
       "      <td>28.367604</td>\n",
       "      <td>BOSS-DR16</td>\n",
       "      <td>BOSS-DR16</td>\n",
       "    </tr>\n",
       "    <tr>\n",
       "      <th>18</th>\n",
       "      <td>GALAXY</td>\n",
       "      <td>062d0b5b-992f-11ee-aa37-525400aad0aa</td>\n",
       "      <td>141.30648</td>\n",
       "      <td>-5672163467611320320</td>\n",
       "      <td>0.660208</td>\n",
       "      <td>0.000931</td>\n",
       "      <td>28.392667</td>\n",
       "      <td>BOSS-DR16</td>\n",
       "      <td>BOSS-DR16</td>\n",
       "    </tr>\n",
       "    <tr>\n",
       "      <th>19</th>\n",
       "      <td>GALAXY</td>\n",
       "      <td>0666a4e2-992f-11ee-969f-525400aad0aa</td>\n",
       "      <td>141.50529</td>\n",
       "      <td>-5672162917855506432</td>\n",
       "      <td>0.754030</td>\n",
       "      <td>0.000354</td>\n",
       "      <td>28.428319</td>\n",
       "      <td>BOSS-DR16</td>\n",
       "      <td>BOSS-DR16</td>\n",
       "    </tr>\n",
       "  </tbody>\n",
       "</table>\n",
       "</div>"
      ],
      "text/plain": [
       "   spectype                             sparcl_id         ra  \\\n",
       "0    GALAXY  00b0904d-992f-11ee-b7f9-525400aad0aa  141.63075   \n",
       "1    GALAXY  010eb4d0-992f-11ee-89de-525400aad0aa  141.73278   \n",
       "2    GALAXY  020ed77c-992f-11ee-aefb-525400aad0aa  141.71671   \n",
       "3    GALAXY  0262c5c1-992f-11ee-a797-525400aad0aa  141.77643   \n",
       "4    GALAXY  0290508b-992f-11ee-94e5-525400aad0aa  141.69172   \n",
       "5    GALAXY  02c0f331-992f-11ee-ac38-525400aad0aa  141.40642   \n",
       "6    GALAXY  02d858b6-992f-11ee-be88-525400aad0aa  141.43253   \n",
       "7    GALAXY  02eef149-992f-11ee-a3b5-525400aad0aa  141.45293   \n",
       "8    GALAXY  0315e895-992f-11ee-96ce-525400aad0aa  141.54144   \n",
       "9    GALAXY  033fb515-992f-11ee-9c1d-525400aad0aa  141.44884   \n",
       "10   GALAXY  03a05265-992f-11ee-9683-525400aad0aa  141.49531   \n",
       "11   GALAXY  03c80eda-992f-11ee-b4f2-525400aad0aa  141.42144   \n",
       "12   GALAXY  03fad572-992f-11ee-a30a-525400aad0aa  141.62676   \n",
       "13   GALAXY  04184b57-992f-11ee-bffa-525400aad0aa  141.50548   \n",
       "14   GALAXY  0431fcb5-992f-11ee-b884-525400aad0aa  141.57763   \n",
       "15   GALAXY  046666c6-992f-11ee-99ce-525400aad0aa  141.62108   \n",
       "16   GALAXY  057916a9-992f-11ee-a9ba-525400aad0aa  141.50010   \n",
       "17   GALAXY  05f59fc1-992f-11ee-8447-525400aad0aa  141.40741   \n",
       "18   GALAXY  062d0b5b-992f-11ee-aa37-525400aad0aa  141.30648   \n",
       "19   GALAXY  0666a4e2-992f-11ee-969f-525400aad0aa  141.50529   \n",
       "\n",
       "                 specid  redshift  redshift_err        dec data_release  \\\n",
       "0  -5672178860774109184  0.699621      0.000212  27.981984    BOSS-DR16   \n",
       "1  -5672178036140388352  0.735681      0.000296  27.886212    BOSS-DR16   \n",
       "2  -5672175287361318912  0.577450      0.000168  28.225833    BOSS-DR16   \n",
       "3  -5672174462727598080  0.613647      0.000221  28.349531    BOSS-DR16   \n",
       "4  -5672173912971784192  0.611291      0.000215  28.440417    BOSS-DR16   \n",
       "5  -5672173363215970304  0.742280      0.000316  27.313360    BOSS-DR16   \n",
       "6  -5672173088338063360  0.714333      0.000307  27.297940    BOSS-DR16   \n",
       "7  -5672172813460156416  0.763182      0.000293  27.502474    BOSS-DR16   \n",
       "8  -5672172263704342528  0.747819      0.000286  27.511042    BOSS-DR16   \n",
       "9  -5672171713948528640  0.567928      0.000241  27.600306    BOSS-DR16   \n",
       "10 -5672170614436900864  0.724495      0.000278  27.739271    BOSS-DR16   \n",
       "11 -5672170064681086976  0.727417      0.000175  27.705200    BOSS-DR16   \n",
       "12 -5672169514925273088  0.723495      0.000260  27.756787    BOSS-DR16   \n",
       "13 -5672169240047366144  0.565133      0.000027  27.570483    BOSS-DR16   \n",
       "14 -5672168965169459200  0.725325      0.000210  27.812046    BOSS-DR16   \n",
       "15 -5672168415413645312  0.742185      0.000264  27.538922    BOSS-DR16   \n",
       "16 -5672165666634575872  0.574673      0.000289  27.976450    BOSS-DR16   \n",
       "17 -5672164017367134208  0.659942      0.000239  28.367604    BOSS-DR16   \n",
       "18 -5672163467611320320  0.660208      0.000931  28.392667    BOSS-DR16   \n",
       "19 -5672162917855506432  0.754030      0.000354  28.428319    BOSS-DR16   \n",
       "\n",
       "          _dr  \n",
       "0   BOSS-DR16  \n",
       "1   BOSS-DR16  \n",
       "2   BOSS-DR16  \n",
       "3   BOSS-DR16  \n",
       "4   BOSS-DR16  \n",
       "5   BOSS-DR16  \n",
       "6   BOSS-DR16  \n",
       "7   BOSS-DR16  \n",
       "8   BOSS-DR16  \n",
       "9   BOSS-DR16  \n",
       "10  BOSS-DR16  \n",
       "11  BOSS-DR16  \n",
       "12  BOSS-DR16  \n",
       "13  BOSS-DR16  \n",
       "14  BOSS-DR16  \n",
       "15  BOSS-DR16  \n",
       "16  BOSS-DR16  \n",
       "17  BOSS-DR16  \n",
       "18  BOSS-DR16  \n",
       "19  BOSS-DR16  "
      ]
     },
     "execution_count": 15,
     "metadata": {},
     "output_type": "execute_result"
    }
   ],
   "source": [
    "pd.DataFrame.from_records(found.records)"
   ]
  },
  {
   "cell_type": "markdown",
   "metadata": {},
   "source": [
    "<a class=\"anchor\" id=\"retrieve\"></a>\n",
    "## Get Spectra: `client.retrieve`"
   ]
  },
  {
   "cell_type": "markdown",
   "metadata": {},
   "source": [
    "In order to retrieve spectra records from SPARCL, pass the following to the `client.retrieve()` function:\n",
    "```\n",
    "uuid_list : List of IDs.\n",
    "dataset_list : List of data sets to search for the IDs in (default: None).\n",
    "include : List of field names to include in each record (default: 'DEFAULT').\n",
    "```\n",
    "\n",
    "**NOTE: A reasonable amount of records to request retrieval of is about 10,000. Exceeding this value may cause the retrieval to timeout or fail.**"
   ]
  },
  {
   "cell_type": "code",
   "execution_count": 16,
   "metadata": {
    "scrolled": true,
    "tags": []
   },
   "outputs": [],
   "source": [
    "if show_help:\n",
    "    client.retrieve?"
   ]
  },
  {
   "cell_type": "markdown",
   "metadata": {},
   "source": [
    "#### Use IDs from FIND to RETRIEVE records\n",
    "Use the IDs from the output of using `client.find()` to retrieve records from SPARCL. \n",
    "\n",
    "Note that `ids` in `found_I.ids` is a property name of the Found class. It is a list of records from all records, not a field name of a record."
   ]
  },
  {
   "cell_type": "code",
   "execution_count": 17,
   "metadata": {
    "tags": []
   },
   "outputs": [],
   "source": [
    "# Define the fields to include in the retrieve function\n",
    "inc = ['specid', 'data_release', 'redshift', 'flux', 'wavelength', 'model', 'ivar', 'mask', 'spectype']"
   ]
  },
  {
   "cell_type": "code",
   "execution_count": 18,
   "metadata": {
    "tags": []
   },
   "outputs": [
    {
     "name": "stdout",
     "output_type": "stream",
     "text": [
      "curl -X 'POST' -H 'Content-Type: application/json' -d '[\"00b0904d-992f-11ee-b7f9-525400aad0aa\", \"010eb4d0-992f-11ee-89de-525400aad0aa\", \"020ed77c-992f-11ee-aefb-525400aad0aa\", \"0262c5c1-992f-11ee-a797-525400aad0aa\", \"0290508b-992f-11ee-94e5-525400aad0aa\", \"02c0f331-992f-11ee-ac38-525400aad0aa\", \"02d858b6-992f-11ee-be88-525400aad0aa\", \"02eef149-992f-11ee-a3b5-525400aad0aa\", \"0315e895-992f-11ee-96ce-525400aad0aa\", \"033fb515-992f-11ee-9c1d-525400aad0aa\", \"03a05265-992f-11ee-9683-525400aad0aa\", \"03c80eda-992f-11ee-b4f2-525400aad0aa\", \"03fad572-992f-11ee-a30a-525400aad0aa\", \"04184b57-992f-11ee-bffa-525400aad0aa\", \"0431fcb5-992f-11ee-b884-525400aad0aa\", \"046666c6-992f-11ee-99ce-525400aad0aa\", \"057916a9-992f-11ee-a9ba-525400aad0aa\", \"05f59fc1-992f-11ee-8447-525400aad0aa\", \"062d0b5b-992f-11ee-aa37-525400aad0aa\", \"0666a4e2-992f-11ee-969f-525400aad0aa\"]' 'https://sparc1.datalab.noirlab.edu/sparc/spectras/?include=flux%2Cmask%2Cmodel%2Cwavelength%2Cdata_release%2Credshift%2Civar%2Cspectype%2Cspecid&format=pkl&dataset_list=SDSS-DR16%2CBOSS-DR16' | python3 -m json.tool\n",
      "CPU times: user 109 ms, sys: 63.9 ms, total: 173 ms\n",
      "Wall time: 2.25 s\n"
     ]
    },
    {
     "data": {
      "text/plain": [
       "{'status': {'success': True,\n",
       "  'info': [\"Successfully found 20 records in dr_list=['SDSS-DR16', 'BOSS-DR16']\"],\n",
       "  'warnings': []}}"
      ]
     },
     "execution_count": 18,
     "metadata": {},
     "output_type": "execute_result"
    }
   ],
   "source": [
    "%%time\n",
    "results = client.retrieve(uuid_list=found.ids,\n",
    "                          include=inc,\n",
    "                          dataset_list=['SDSS-DR16','BOSS-DR16'])\n",
    "results.info"
   ]
  },
  {
   "cell_type": "code",
   "execution_count": 19,
   "metadata": {
    "tags": []
   },
   "outputs": [
    {
     "data": {
      "text/plain": [
       "{'redshift': 0.6996206641197205,\n",
       " 'spectype': 'GALAXY',\n",
       " 'data_release': 'BOSS-DR16',\n",
       " 'specid': -5672178860774109184,\n",
       " 'model': array([-0.0319225 , -0.03274626, -0.03301667, ...,  0.9404546 ,\n",
       "         0.93845838,  0.93815029]),\n",
       " 'mask': array([88080384, 88080384, 88080384, ..., 83886080, 83886080, 83886080]),\n",
       " 'ivar': array([0., 0., 0., ..., 0., 0., 0.]),\n",
       " 'flux': array([-10.93883896, -10.93841362, -10.93798828, ...,   0.68531734,\n",
       "          0.68533301,   0.68534863]),\n",
       " 'wavelength': array([ 3585.91507517,  3586.7408577 ,  3587.56683039, ...,\n",
       "        10370.50726326, 10372.89543574, 10375.28415818]),\n",
       " '_dr': 'BOSS-DR16'}"
      ]
     },
     "execution_count": 19,
     "metadata": {},
     "output_type": "execute_result"
    }
   ],
   "source": [
    "results.records[0]"
   ]
  },
  {
   "cell_type": "markdown",
   "metadata": {},
   "source": [
    "## Plot spectra"
   ]
  },
  {
   "cell_type": "code",
   "execution_count": 20,
   "metadata": {
    "tags": []
   },
   "outputs": [
    {
     "data": {
      "text/plain": [
       "<matplotlib.legend.Legend at 0x7fc998221e50>"
      ]
     },
     "execution_count": 20,
     "metadata": {},
     "output_type": "execute_result"
    },
    {
     "data": {
      "application/vnd.jupyter.widget-view+json": {
       "model_id": "5891aa489f2c4c638d8867117bee47b3",
       "version_major": 2,
       "version_minor": 0
      },
      "image/png": "[encoded data removed]",
      "text/html": [
       "\n",
       "            <div style=\"display: inline-block;\">\n",
       "                <div class=\"jupyter-widgets widget-label\" style=\"text-align: center;\">\n",
       "                    Figure\n",
       "                </div>\n",
       "                <img src='data:image/png;base64,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' width=800.0/>\n",
       "            </div>\n",
       "        "
      ],
      "text/plain": [
       "Canvas(toolbar=Toolbar(toolitems=[('Home', 'Reset original view', 'home', 'home'), ('Back', 'Back to previous …"
      ]
     },
     "metadata": {},
     "output_type": "display_data"
    }
   ],
   "source": [
    "recs = results.records\n",
    "idx = 0\n",
    "fig=plt.figure(1, figsize=(8,4), dpi= 100, facecolor='w', edgecolor='k')\n",
    "fline, = plt.plot(recs[idx].flux, label=f'flux')\n",
    "mline, = plt.plot(recs[idx].model, label=f'model')\n",
    "plt.legend(handles=[fline,mline])"
   ]
  },
  {
   "cell_type": "markdown",
   "metadata": {
    "toc-hr-collapsed": true
   },
   "source": [
    "## Plot FLUX for all records"
   ]
  },
  {
   "cell_type": "code",
   "execution_count": 22,
   "metadata": {
    "tags": []
   },
   "outputs": [
    {
     "name": "stdout",
     "output_type": "stream",
     "text": [
      "Ignoring unsupported feature: align_records\n"
     ]
    }
   ],
   "source": [
    "print('Ignoring unsupported feature: align_records')"
   ]
  },
  {
   "cell_type": "code",
   "execution_count": 23,
   "metadata": {
    "tags": []
   },
   "outputs": [],
   "source": [
    "#import sparcl.gather_2d\n",
    "#ar_dict, grid = sparcl.gather_2d.align_records(results.records)\n",
    "#modeldf = pd.DataFrame(data=ar_dict['flux'],columns=grid)\n",
    "#modeldf.transpose().plot(xlabel='Wavelength', ylabel='Flux', legend=False)"
   ]
  },
  {
   "cell_type": "markdown",
   "metadata": {},
   "source": [
    "# Authorization\n",
    "Your access to data is affected by how you login (or don't).  Both `client.find` and `client.retrieve` allow you to request data (possibly implictly) from specific Datasets. Its possible for your combination of LOGIN and FIND (or RETIEVE) to work now, but fail later without you changing anything. For instance, if you don't login and ask for data from ALL Datasets at a time when all Datasets are public, your FIND will succeed. But if NOIRLab adds a new Dataset that is private, your same find will fail. To avoid the failure, you would have to explicitly request only the public Datasets, or to login as a user that is authorized to access the private Dataset.\n",
    "\n",
    "So summarize, there are three cases in which your FIND or RETRIEVE will be authorized:\n",
    "1. All Datasets are Public (does not matter what you login status is)\n",
    "2. You have explicitly requested only Public Datasets (does not matter what you login status is)\n",
    "3. You are logged in and are authorized to access all the Private Datasets you have (explicitly or implicitly) requested.\n",
    "\n",
    "You might be authorized to access one Dataset, but not another.  So, you must be careful in case #3 above to explictly request the correct Private Dataset(s)."
   ]
  },
  {
   "cell_type": "markdown",
   "metadata": {},
   "source": [
    "## Logging in and logging out"
   ]
  },
  {
   "cell_type": "code",
   "execution_count": 24,
   "metadata": {
    "tags": []
   },
   "outputs": [],
   "source": [
    "if show_help:\n",
    "    client.login?\n",
    "    client.logout?"
   ]
  },
  {
   "cell_type": "code",
   "execution_count": 25,
   "metadata": {
    "tags": []
   },
   "outputs": [
    {
     "name": "stdout",
     "output_type": "stream",
     "text": [
      "Logged in successfully with email='test_user_1@noirlab.edu'\n"
     ]
    }
   ],
   "source": [
    "client.login(auth_user, usrpw)"
   ]
  },
  {
   "cell_type": "code",
   "execution_count": 26,
   "metadata": {
    "scrolled": true,
    "tags": []
   },
   "outputs": [
    {
     "data": {
      "text/plain": [
       "{'Loggedin_As': 'test_user_1@noirlab.edu',\n",
       " 'Authorized_Datasets': {'BOSS-DR16',\n",
       "  'DESI-EDR',\n",
       "  'SDSS-DR16',\n",
       "  'SDSS-DR17-test'}}"
      ]
     },
     "execution_count": 26,
     "metadata": {},
     "output_type": "execute_result"
    }
   ],
   "source": [
    "client.authorized"
   ]
  },
  {
   "cell_type": "code",
   "execution_count": 27,
   "metadata": {
    "tags": []
   },
   "outputs": [
    {
     "name": "stdout",
     "output_type": "stream",
     "text": [
      "Logged-out successfully.  Previously logged-in with email test_user_1@noirlab.edu.\n"
     ]
    }
   ],
   "source": [
    "client.logout()   # can also be done with client.login(None)"
   ]
  },
  {
   "cell_type": "code",
   "execution_count": 28,
   "metadata": {
    "tags": []
   },
   "outputs": [
    {
     "data": {
      "text/plain": [
       "{'Loggedin_As': 'Anonymous',\n",
       " 'Authorized_Datasets': {'BOSS-DR16', 'DESI-EDR', 'SDSS-DR16'}}"
      ]
     },
     "execution_count": 28,
     "metadata": {},
     "output_type": "execute_result"
    }
   ],
   "source": [
    "client.authorized"
   ]
  },
  {
   "cell_type": "markdown",
   "metadata": {},
   "source": [
    "## FIND"
   ]
  },
  {
   "cell_type": "markdown",
   "metadata": {},
   "source": [
    "### Pass FIND with Public DRs as Anonymous"
   ]
  },
  {
   "cell_type": "code",
   "execution_count": 29,
   "metadata": {
    "tags": []
   },
   "outputs": [
    {
     "name": "stdout",
     "output_type": "stream",
     "text": [
      "Logged-out successfully.  Previously logged-in with email None.\n"
     ]
    }
   ],
   "source": [
    "client.logout()"
   ]
  },
  {
   "cell_type": "code",
   "execution_count": 30,
   "metadata": {
    "tags": []
   },
   "outputs": [
    {
     "name": "stdout",
     "output_type": "stream",
     "text": [
      "curl -X 'POST' -H 'Content-Type: application/json' -d '{\"outfields\": [\"sparcl_id\", \"specid\", \"ra\", \"dec\", \"redshift\", \"spectype\", \"data_release\", \"redshift_err\"], \"search\": [[\"spectype\", \"GALAXY\"], [\"redshift\", 0.5, 0.9], [\"data_release\", \"BOSS-DR16\", \"SDSS-DR16\"]]}' 'https://sparc1.datalab.noirlab.edu/sparc/find/?limit=2' | python3 -m json.tool\n",
      "{'META': {'endpoint': 'sparc/find'},\n",
      " 'PARAMETERS': {'limit': 2,\n",
      "                'include': 'dec,ra,sparcl_id,specid',\n",
      "                'offset': 0,\n",
      "                'user': None,\n",
      "                'format': 'json',\n",
      "                'drs': ['BOSS-DR16', 'SDSS-DR16'],\n",
      "                'private_drs': ['SDSS-DR17-test'],\n",
      "                'username': 'Anonymous',\n",
      "                'json_payload': {'outfields': ['sparcl_id',\n",
      "                                               'specid',\n",
      "                                               'ra',\n",
      "                                               'dec',\n",
      "                                               'redshift',\n",
      "                                               'spectype',\n",
      "                                               'data_release',\n",
      "                                               'redshift_err'],\n",
      "                                 'search': [['spectype', 'GALAXY'],\n",
      "                                            ['redshift', 0.5, 0.9],\n",
      "                                            ['data_release',\n",
      "                                             'BOSS-DR16',\n",
      "                                             'SDSS-DR16']]}},\n",
      " 'HEADER': {'spectype': 'category',\n",
      "            'sparcl_id': 'str',\n",
      "            'ra': 'np.float64',\n",
      "            'specid': 'np.int64',\n",
      "            'redshift': 'np.float64',\n",
      "            'redshift_err': 'np.float64',\n",
      "            'dec': 'np.float64',\n",
      "            'data_release': 'category'},\n",
      " 'WARNINGS': ['OFFSET parameter needs SORT but it was not provided. Using '\n",
      "              \"default 'sparcl_id' for sorting\"]}\n",
      "{'spectype': 'GALAXY', 'sparcl_id': '00b0904d-992f-11ee-b7f9-525400aad0aa', 'ra': 141.63075000000003, 'specid': -5672178860774109184, 'redshift': 0.6996206641197205, 'redshift_err': 0.00021235186432022601, 'dec': 27.981984, 'data_release': 'BOSS-DR16', '_dr': 'BOSS-DR16'}\n",
      "\n",
      "SUCCESS: found.count=2 records from FIND\n"
     ]
    }
   ],
   "source": [
    "out = ['sparcl_id','specid', 'ra', 'dec', 'redshift', 'spectype', 'data_release', 'redshift_err']\n",
    "cons = {'spectype': ['GALAXY'],\n",
    "        'redshift': [0.5, 0.9],\n",
    "        'data_release': ['BOSS-DR16', 'SDSS-DR16']}\n",
    "found = client.find(outfields=out, constraints=cons, limit=2)\n",
    "pp(found.info)\n",
    "print(found.records[0])\n",
    "print(f'\\nSUCCESS: {found.count=} records from FIND')"
   ]
  },
  {
   "cell_type": "markdown",
   "metadata": {},
   "source": [
    "### Fail FIND with private DR as Anonymous"
   ]
  },
  {
   "cell_type": "code",
   "execution_count": 31,
   "metadata": {
    "tags": []
   },
   "outputs": [
    {
     "name": "stdout",
     "output_type": "stream",
     "text": [
      "Logged-out successfully.  Previously logged-in with email None.\n"
     ]
    }
   ],
   "source": [
    "client.logout()"
   ]
  },
  {
   "cell_type": "code",
   "execution_count": 32,
   "metadata": {
    "tags": []
   },
   "outputs": [
    {
     "data": {
      "text/plain": [
       "{'Loggedin_As': 'Anonymous',\n",
       " 'Authorized_Datasets': {'BOSS-DR16', 'DESI-EDR', 'SDSS-DR16'}}"
      ]
     },
     "execution_count": 32,
     "metadata": {},
     "output_type": "execute_result"
    }
   ],
   "source": [
    "client.authorized"
   ]
  },
  {
   "cell_type": "code",
   "execution_count": 33,
   "metadata": {
    "tags": []
   },
   "outputs": [
    {
     "name": "stdout",
     "output_type": "stream",
     "text": [
      "curl -X 'POST' -H 'Content-Type: application/json' -d '{\"outfields\": [\"sparcl_id\", \"specid\", \"ra\", \"dec\", \"redshift\", \"spectype\", \"data_release\", \"redshift_err\"], \"search\": [[\"spectype\", \"GALAXY\"], [\"redshift\", 0.5, 0.9], [\"data_release\", \"BOSS-DR16\", \"SDSS-DR17-test\"]]}' 'https://sparc1.datalab.noirlab.edu/sparc/find/?limit=2' | python3 -m json.tool\n",
      "SUCCESS: Could not execute find: [UNKNOWN] uname='ANONYMOUS' is declined access to datasets:   SDSS-DR17-test.  drs_requested={'SDSS-DR17-test', 'BOSS-DR16'} my_auth={'SDSS-DR16', 'DESI-EDR', 'BOSS-DR16'} [NODRACCESS] None\n"
     ]
    }
   ],
   "source": [
    "out = ['sparcl_id','specid', 'ra', 'dec', 'redshift', 'spectype', 'data_release', 'redshift_err']\n",
    "cons = {'spectype': ['GALAXY'],\n",
    "        'redshift': [0.5, 0.9],\n",
    "        'data_release': ['BOSS-DR16',priv_dr]}\n",
    "try:\n",
    "    found = client.find(outfields=out, constraints=cons, limit=2)\n",
    "    print('FOUND info:')\n",
    "    pp(found.info)\n",
    "    print(f'\\nFOUND records. {found.records[0]=}')\n",
    "    gotrecord = True\n",
    "except Exception as err:\n",
    "    gotrecord = False\n",
    "    print(f'SUCCESS: Could not execute find: {err}')\n",
    "\n",
    "if gotrecord:\n",
    "    raise Exception('Wrongly got record from PRIVATE DR {priv_dr}')"
   ]
  },
  {
   "cell_type": "markdown",
   "metadata": {},
   "source": [
    "### Pass FIND with default DR list as Anonymous"
   ]
  },
  {
   "cell_type": "code",
   "execution_count": 34,
   "metadata": {
    "tags": []
   },
   "outputs": [
    {
     "name": "stdout",
     "output_type": "stream",
     "text": [
      "curl -X 'POST' -H 'Content-Type: application/json' -d '{\"outfields\": [\"sparcl_id\", \"specid\", \"ra\", \"dec\", \"redshift\", \"spectype\", \"data_release\", \"redshift_err\"], \"search\": [[\"spectype\", \"GALAXY\"], [\"redshift\", 0.5, 0.9]]}' 'https://sparc1.datalab.noirlab.edu/sparc/find/?limit=2' | python3 -m json.tool\n",
      "FOUND info:\n",
      "{'META': {'endpoint': 'sparc/find'},\n",
      " 'PARAMETERS': {'limit': 2,\n",
      "                'include': 'dec,ra,sparcl_id,specid',\n",
      "                'offset': 0,\n",
      "                'user': None,\n",
      "                'format': 'json',\n",
      "                'drs': ['BOSS-DR16', 'DESI-EDR', 'SDSS-DR16'],\n",
      "                'private_drs': ['SDSS-DR17-test'],\n",
      "                'username': 'Anonymous',\n",
      "                'json_payload': {'outfields': ['sparcl_id',\n",
      "                                               'specid',\n",
      "                                               'ra',\n",
      "                                               'dec',\n",
      "                                               'redshift',\n",
      "                                               'spectype',\n",
      "                                               'data_release',\n",
      "                                               'redshift_err'],\n",
      "                                 'search': [['spectype', 'GALAXY'],\n",
      "                                            ['redshift', 0.5, 0.9]]}},\n",
      " 'HEADER': {'spectype': 'category',\n",
      "            'sparcl_id': 'str',\n",
      "            'ra': 'np.float64',\n",
      "            'specid': 'np.int64',\n",
      "            'redshift': 'np.float64',\n",
      "            'redshift_err': 'np.float64',\n",
      "            'dec': 'np.float64',\n",
      "            'data_release': 'category'},\n",
      " 'WARNINGS': ['OFFSET parameter needs SORT but it was not provided. Using '\n",
      "              \"default 'sparcl_id' for sorting\"]}\n",
      "\n",
      "FOUND records. found.records[0]={'spectype': 'GALAXY', 'sparcl_id': '00769ec9-9931-11ee-97de-525400aad0aa', 'ra': 209.5682103155303, 'specid': 39627920993423532, 'redshift': 0.8685901183006199, 'redshift_err': 3.14371006304597e-05, 'dec': 5.466527188533397, 'data_release': 'DESI-EDR', '_dr': 'DESI-EDR'}\n"
     ]
    }
   ],
   "source": [
    "# Default Dataset list\n",
    "out = ['sparcl_id','specid', 'ra', 'dec', 'redshift', 'spectype', 'data_release', 'redshift_err']\n",
    "cons = {'spectype': ['GALAXY'],\n",
    "        'redshift': [0.5, 0.9],\n",
    "        #'data_release': ['BOSS-DR16',priv_dr]}\n",
    "        }\n",
    "try:\n",
    "    found = client.find(outfields=out, constraints=cons, limit=2)\n",
    "    print('FOUND info:')\n",
    "    pp(found.info)\n",
    "    print(f'\\nFOUND records. {found.records[0]=}')\n",
    "    gotrecord = True\n",
    "except Exception as err:\n",
    "    gotrecord = False\n",
    "    print(f'\\nSUCCESS: Could not execute find: {err}')\n",
    "\n",
    "if not gotrecord:\n",
    "    raise Exception(f'\\nFailed to get record from default DR list as Anonymous.')"
   ]
  },
  {
   "cell_type": "markdown",
   "metadata": {},
   "source": [
    "### Fail FIND with prviate DR as Unauthorized"
   ]
  },
  {
   "cell_type": "code",
   "execution_count": 35,
   "metadata": {
    "tags": []
   },
   "outputs": [
    {
     "name": "stdout",
     "output_type": "stream",
     "text": [
      "Logged in successfully with email='test_user_2@noirlab.edu'\n"
     ]
    }
   ],
   "source": [
    "client.login(unauth_user, usrpw)"
   ]
  },
  {
   "cell_type": "code",
   "execution_count": 36,
   "metadata": {
    "tags": []
   },
   "outputs": [
    {
     "name": "stdout",
     "output_type": "stream",
     "text": [
      "curl -X 'POST' -H 'Content-Type: application/json' -d '{\"outfields\": [\"sparcl_id\", \"specid\", \"ra\", \"dec\", \"redshift\", \"spectype\", \"data_release\", \"redshift_err\"], \"search\": [[\"spectype\", \"GALAXY\"], [\"redshift\", 0.5, 0.9], [\"data_release\", \"BOSS-DR16\", \"SDSS-DR17-test\"]]}' 'https://sparc1.datalab.noirlab.edu/sparc/find/?limit=2' | python3 -m json.tool\n",
      "SUCCESS: Could not execute find: [UNKNOWN] uname='test_user_2@noirlab.edu' is declined access to datasets:   SDSS-DR17-test.  drs_requested={'SDSS-DR17-test', 'BOSS-DR16'} my_auth={'SDSS-DR16', 'DESI-EDR', 'BOSS-DR16'} [NODRACCESS] None\n"
     ]
    }
   ],
   "source": [
    "out = ['sparcl_id','specid', 'ra', 'dec', 'redshift', 'spectype', 'data_release', 'redshift_err']\n",
    "cons = {'spectype': ['GALAXY'],\n",
    "        'redshift': [0.5, 0.9],\n",
    "        'data_release': ['BOSS-DR16',priv_dr]\n",
    "        }\n",
    "try:\n",
    "    found = client.find(outfields=out, constraints=cons, limit=2)\n",
    "    print('FOUND info:')\n",
    "    pp(found.info)\n",
    "    print(f'\\nFOUND records. {found.records[0]=}')\n",
    "    gotrecord = True\n",
    "except Exception as err:\n",
    "    gotrecord = False\n",
    "    print(f'SUCCESS: Could not execute find: {err}')\n",
    "\n",
    "if gotrecord:\n",
    "    raise Exception('Wrongly got record from PRIVATE DR {priv_dr}')"
   ]
  },
  {
   "cell_type": "markdown",
   "metadata": {},
   "source": [
    "### Pass FIND with prviate DR as Authorized"
   ]
  },
  {
   "cell_type": "code",
   "execution_count": 37,
   "metadata": {
    "tags": []
   },
   "outputs": [
    {
     "name": "stdout",
     "output_type": "stream",
     "text": [
      "Logged in successfully with email='test_user_1@noirlab.edu'\n"
     ]
    }
   ],
   "source": [
    "client.login(auth_user, usrpw)"
   ]
  },
  {
   "cell_type": "code",
   "execution_count": 38,
   "metadata": {
    "tags": []
   },
   "outputs": [
    {
     "data": {
      "text/plain": [
       "{'Loggedin_As': 'test_user_1@noirlab.edu',\n",
       " 'Authorized_Datasets': {'BOSS-DR16',\n",
       "  'DESI-EDR',\n",
       "  'SDSS-DR16',\n",
       "  'SDSS-DR17-test'}}"
      ]
     },
     "execution_count": 38,
     "metadata": {},
     "output_type": "execute_result"
    }
   ],
   "source": [
    "client.authorized"
   ]
  },
  {
   "cell_type": "code",
   "execution_count": 39,
   "metadata": {
    "tags": []
   },
   "outputs": [
    {
     "name": "stdout",
     "output_type": "stream",
     "text": [
      "curl -X 'POST' -H 'Content-Type: application/json' -d '{\"outfields\": [\"sparcl_id\", \"specid\", \"ra\", \"dec\", \"redshift\", \"spectype\", \"data_release\", \"redshift_err\"], \"search\": [[\"spectype\", \"GALAXY\"], [\"redshift\", 0.5, 0.9]]}' 'https://sparc1.datalab.noirlab.edu/sparc/find/?limit=2' | python3 -m json.tool\n",
      "FOUND info:\n",
      "{'META': {'endpoint': 'sparc/find'},\n",
      " 'PARAMETERS': {'limit': 2,\n",
      "                'include': 'dec,ra,sparcl_id,specid',\n",
      "                'offset': 0,\n",
      "                'format': 'json',\n",
      "                'drs': ['BOSS-DR16', 'DESI-EDR', 'SDSS-DR16'],\n",
      "                'private_drs': ['SDSS-DR17-test'],\n",
      "                'username': 'test_user_1@noirlab.edu',\n",
      "                'json_payload': {'outfields': ['sparcl_id',\n",
      "                                               'specid',\n",
      "                                               'ra',\n",
      "                                               'dec',\n",
      "                                               'redshift',\n",
      "                                               'spectype',\n",
      "                                               'data_release',\n",
      "                                               'redshift_err'],\n",
      "                                 'search': [['spectype', 'GALAXY'],\n",
      "                                            ['redshift', 0.5, 0.9]]}},\n",
      " 'HEADER': {'spectype': 'category',\n",
      "            'sparcl_id': 'str',\n",
      "            'ra': 'np.float64',\n",
      "            'specid': 'np.int64',\n",
      "            'redshift': 'np.float64',\n",
      "            'redshift_err': 'np.float64',\n",
      "            'dec': 'np.float64',\n",
      "            'data_release': 'category'},\n",
      " 'WARNINGS': ['OFFSET parameter needs SORT but it was not provided. Using '\n",
      "              \"default 'sparcl_id' for sorting\"]}\n"
     ]
    }
   ],
   "source": [
    "out = ['sparcl_id','specid', 'ra', 'dec', 'redshift', 'spectype', 'data_release', 'redshift_err']\n",
    "cons = {'spectype': ['GALAXY'],\n",
    "        'redshift': [0.5, 0.9],\n",
    "        #'data_release': ['BOSS-DR16',priv_dr]}\n",
    "        }\n",
    "found = client.find(outfields=out, constraints=cons, limit=2)\n",
    "print('FOUND info:')\n",
    "pp(found.info)"
   ]
  },
  {
   "cell_type": "markdown",
   "metadata": {},
   "source": [
    "### Fail FIND with Unknown user\n",
    "User is authenticated with SSO, but is unknown to SPARCL"
   ]
  },
  {
   "cell_type": "code",
   "execution_count": 40,
   "metadata": {
    "tags": []
   },
   "outputs": [
    {
     "name": "stdout",
     "output_type": "stream",
     "text": [
      "Logged in successfully with email='test_user_3@noirlab.edu'\n"
     ]
    }
   ],
   "source": [
    "client.login(non_user, usrpw)"
   ]
  },
  {
   "cell_type": "code",
   "execution_count": 41,
   "metadata": {
    "tags": []
   },
   "outputs": [
    {
     "data": {
      "text/plain": [
       "{'Loggedin_As': 'Anonymous',\n",
       " 'Authorized_Datasets': {'BOSS-DR16', 'DESI-EDR', 'SDSS-DR16'}}"
      ]
     },
     "execution_count": 41,
     "metadata": {},
     "output_type": "execute_result"
    }
   ],
   "source": [
    "client.authorized"
   ]
  },
  {
   "cell_type": "code",
   "execution_count": 42,
   "metadata": {
    "tags": []
   },
   "outputs": [
    {
     "name": "stdout",
     "output_type": "stream",
     "text": [
      "curl -X 'POST' -H 'Content-Type: application/json' -d '{\"outfields\": [\"sparcl_id\", \"specid\", \"ra\", \"dec\", \"redshift\", \"spectype\", \"data_release\", \"redshift_err\"], \"search\": [[\"spectype\", \"GALAXY\"], [\"redshift\", 0.5, 0.9], [\"data_release\", \"BOSS-DR16\", \"SDSS-DR17-test\"]]}' 'https://sparc1.datalab.noirlab.edu/sparc/find/?limit=2' | python3 -m json.tool\n",
      "SUCCESS: Could not execute find: [UNKNOWN] uname='ANONYMOUS' is declined access to datasets:   SDSS-DR17-test.  drs_requested={'SDSS-DR17-test', 'BOSS-DR16'} my_auth={'SDSS-DR16', 'DESI-EDR', 'BOSS-DR16'} [NODRACCESS] None\n"
     ]
    }
   ],
   "source": [
    "out = ['sparcl_id','specid', 'ra', 'dec', 'redshift', 'spectype', 'data_release', 'redshift_err']\n",
    "cons = {'spectype': ['GALAXY'],\n",
    "        'redshift': [0.5, 0.9],\n",
    "        'data_release': ['BOSS-DR16',priv_dr]\n",
    "        }\n",
    "try:\n",
    "    found = client.find(outfields=out, constraints=cons, limit=2)\n",
    "    print('FOUND info:')\n",
    "    pp(found.info)\n",
    "    print(f'\\nFOUND records. {found.records[0]=}')\n",
    "    gotrecord = True\n",
    "except Exception as err:\n",
    "    gotrecord = False\n",
    "    print(f'SUCCESS: Could not execute find: {err}')\n",
    "\n",
    "if gotrecord:\n",
    "    raise Exception(f'Wrongly got {found.count} records from {priv_dr=}')"
   ]
  },
  {
   "cell_type": "markdown",
   "metadata": {},
   "source": [
    "## RETRIEVE"
   ]
  },
  {
   "cell_type": "markdown",
   "metadata": {},
   "source": [
    "### Pass RETRIEVE with public DRs as Anonymous"
   ]
  },
  {
   "cell_type": "code",
   "execution_count": 43,
   "metadata": {
    "tags": []
   },
   "outputs": [
    {
     "data": {
      "text/plain": [
       "{'Loggedin_As': 'Anonymous',\n",
       " 'Authorized_Datasets': {'BOSS-DR16', 'DESI-EDR', 'SDSS-DR16'}}"
      ]
     },
     "execution_count": 43,
     "metadata": {},
     "output_type": "execute_result"
    }
   ],
   "source": [
    "client.authorized"
   ]
  },
  {
   "cell_type": "code",
   "execution_count": 44,
   "metadata": {
    "tags": []
   },
   "outputs": [
    {
     "name": "stdout",
     "output_type": "stream",
     "text": [
      "curl -X 'POST' -H 'Content-Type: application/json' -d '{\"outfields\": [\"sparcl_id\"], \"search\": [[\"data_release\", \"SDSS-DR16\", \"BOSS-DR16\"]]}' 'https://sparc1.datalab.noirlab.edu/sparc/find/?limit=2' | python3 -m json.tool\n",
      "curl -X 'POST' -H 'Content-Type: application/json' -d '[\"001b11a6-992f-11ee-993c-525400aad0aa\", \"00339b14-992f-11ee-b1b9-525400aad0aa\"]' 'https://sparc1.datalab.noirlab.edu/sparc/spectras/?include=flux%2Cdata_release%2Credshift%2Cspectype%2Cspecid&format=pkl&dataset_list=SDSS-DR16%2CBOSS-DR16' | python3 -m json.tool\n",
      "Pass: got.records[0].spectype='QSO' len(got.records[0].flux)=4615\n"
     ]
    }
   ],
   "source": [
    "inc = ['specid', 'data_release', 'redshift', 'flux', 'spectype']\n",
    "drs = ['SDSS-DR16','BOSS-DR16']\n",
    "found = client.find(outfields=['sparcl_id'], constraints=dict(data_release=drs),limit=2)\n",
    "\n",
    "try:\n",
    "    got = client.retrieve(uuid_list=found.ids,\n",
    "                          include=inc,\n",
    "                          dataset_list=drs)\n",
    "    gotrecord = True\n",
    "except Exception as err:\n",
    "    gotrecord = False\n",
    "\n",
    "if gotrecord:\n",
    "   print(f'Pass: {got.records[0].spectype=} {len(got.records[0].flux)=}')\n",
    "else:\n",
    "    print(f'Failed: {err=}')"
   ]
  },
  {
   "cell_type": "markdown",
   "metadata": {},
   "source": [
    "### Fail RETRIEVE with private DR as Anonymous"
   ]
  },
  {
   "cell_type": "code",
   "execution_count": 45,
   "metadata": {
    "tags": []
   },
   "outputs": [
    {
     "name": "stdout",
     "output_type": "stream",
     "text": [
      "Logged-out successfully.  Previously logged-in with email test_user_3@noirlab.edu.\n",
      "curl -X 'POST' -H 'Content-Type: application/json' -d '[\"001b11a6-992f-11ee-993c-525400aad0aa\", \"00339b14-992f-11ee-b1b9-525400aad0aa\"]' 'https://sparc1.datalab.noirlab.edu/sparc/spectras/?include=flux%2Cdata_release%2Credshift%2Cspectype%2Cspecid&format=pkl&dataset_list=SDSS-DR16%2CSDSS-DR17-test%2CBOSS-DR16' | python3 -m json.tool\n",
      "Correctly could not retrieve: [UNKNOWN] uname='ANONYMOUS' is declined access to datasets:   SDSS-DR17-test.  drs_requested=['SDSS-DR16', 'SDSS-DR17-test', 'BOSS-DR16'] my_auth={'SDSS-DR16', 'DESI-EDR', 'BOSS-DR16'} [NODRACCESS] None\n"
     ]
    }
   ],
   "source": [
    "client.logout()\n",
    "try:\n",
    "    got = client.retrieve(uuid_list=found.ids,\n",
    "                          include=inc,\n",
    "                          dataset_list=['SDSS-DR16',priv_dr,'BOSS-DR16'])\n",
    "    gotrecord = True\n",
    "except Exception as err:\n",
    "    gotrecord = False\n",
    "    print(f'Correctly could not retrieve: {err}')\n",
    "\n",
    "if gotrecord:\n",
    "    raise Exception('Wrongly got record from PRIVATE DR {priv_dr}')"
   ]
  },
  {
   "cell_type": "markdown",
   "metadata": {},
   "source": [
    "### Pass RETRIEVE with private DRs as Authorized"
   ]
  },
  {
   "cell_type": "code",
   "execution_count": 46,
   "metadata": {
    "tags": []
   },
   "outputs": [
    {
     "name": "stdout",
     "output_type": "stream",
     "text": [
      "Logged in successfully with email='test_user_1@noirlab.edu'\n"
     ]
    }
   ],
   "source": [
    "client.login(auth_user, usrpw)"
   ]
  },
  {
   "cell_type": "code",
   "execution_count": 47,
   "metadata": {
    "tags": []
   },
   "outputs": [
    {
     "data": {
      "text/plain": [
       "{'Loggedin_As': 'test_user_1@noirlab.edu',\n",
       " 'Authorized_Datasets': {'BOSS-DR16',\n",
       "  'DESI-EDR',\n",
       "  'SDSS-DR16',\n",
       "  'SDSS-DR17-test'}}"
      ]
     },
     "execution_count": 47,
     "metadata": {},
     "output_type": "execute_result"
    }
   ],
   "source": [
    "client.authorized"
   ]
  },
  {
   "cell_type": "code",
   "execution_count": 48,
   "metadata": {
    "tags": []
   },
   "outputs": [
    {
     "name": "stdout",
     "output_type": "stream",
     "text": [
      "curl -X 'POST' -H 'Content-Type: application/json' -d '{\"outfields\": [\"sparcl_id\"], \"search\": [[\"data_release\", \"SDSS-DR16\", \"BOSS-DR16\"]]}' 'https://sparc1.datalab.noirlab.edu/sparc/find/?limit=2' | python3 -m json.tool\n",
      "curl -X 'POST' -H 'Content-Type: application/json' -d '[\"001b11a6-992f-11ee-993c-525400aad0aa\", \"00339b14-992f-11ee-b1b9-525400aad0aa\"]' 'https://sparc1.datalab.noirlab.edu/sparc/spectras/?include=flux%2Cdata_release%2Credshift%2Cspectype%2Cspecid&format=pkl&dataset_list=SDSS-DR16%2CSDSS-DR17-test%2CBOSS-DR16' | python3 -m json.tool\n",
      "got.count=2\n",
      "Pass: got.records[0].spectype='QSO' len(got.records[0].flux)=4615\n"
     ]
    }
   ],
   "source": [
    "inc = ['specid', 'data_release', 'redshift', 'flux', 'spectype']\n",
    "drs = ['SDSS-DR16','BOSS-DR16']\n",
    "found = client.find(outfields=['sparcl_id'], constraints=dict(data_release=drs),limit=2)\n",
    "\n",
    "try:\n",
    "    got = client.retrieve(uuid_list=found.ids,\n",
    "                          include=inc,\n",
    "                          dataset_list=['SDSS-DR16',priv_dr,'BOSS-DR16'])\n",
    "    gotrecord = True\n",
    "    print(f'{got.count=}')\n",
    "except Exception as err:\n",
    "    gotrecord = False\n",
    "    msg = err\n",
    "    \n",
    "if gotrecord:\n",
    "   print(f'Pass: {got.records[0].spectype=} {len(got.records[0].flux)=}')\n",
    "else:\n",
    "    print(f'Failed: {msg}')"
   ]
  },
  {
   "cell_type": "markdown",
   "metadata": {},
   "source": [
    "# All Done"
   ]
  },
  {
   "cell_type": "code",
   "execution_count": 49,
   "metadata": {
    "tags": []
   },
   "outputs": [
    {
     "name": "stdout",
     "output_type": "stream",
     "text": [
      "Run finished: 2024-03-06 11:51:48.820342\n"
     ]
    }
   ],
   "source": [
    "print(f'Run finished: {str(datetime.now())}')"
   ]
  },
  {
   "cell_type": "code",
   "execution_count": 50,
   "metadata": {
    "tags": []
   },
   "outputs": [
    {
     "name": "stdout",
     "output_type": "stream",
     "text": [
      "Logged in successfully with email='test_user_1@noirlab.edu'\n",
      "\n",
      "client.authorized={'Loggedin_As': 'test_user_1@noirlab.edu', 'Authorized_Datasets': {'SDSS-DR16', 'BOSS-DR16', 'DESI-EDR', 'SDSS-DR17-test'}}\n",
      "\n",
      "\n",
      "Logged-out successfully.  Previously logged-in with email test_user_1@noirlab.edu.\n",
      "\n",
      "client.authorized={'Loggedin_As': 'Anonymous', 'Authorized_Datasets': {'DESI-EDR', 'SDSS-DR16', 'BOSS-DR16'}}\n"
     ]
    }
   ],
   "source": [
    "# DLS-496\n",
    "client.login(auth_user, usrpw)\n",
    "print(f'\\n{client.authorized=}\\n\\n')\n",
    "client.logout()   # can also be done with client.login(None)\n",
    "print(f'\\n{client.authorized=}')"
   ]
  }
 ],
 "metadata": {
  "kernelspec": {
   "display_name": "Python 3 (ipykernel)",
   "language": "python",
   "name": "python3"
  },
  "language_info": {
   "codemirror_mode": {
    "name": "ipython",
    "version": 3
   },
   "file_extension": ".py",
   "mimetype": "text/x-python",
   "name": "python",
   "nbconvert_exporter": "python",
   "pygments_lexer": "ipython3",
   "version": "3.8.3"
  },
  "toc": {
   "base_numbering": 1
  },
  "toc-showmarkdowntxt": false
 },
 "nbformat": 4,
 "nbformat_minor": 4
}
