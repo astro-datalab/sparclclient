{
 "cells": [
  {
   "cell_type": "markdown",
   "metadata": {
    "tags": []
   },
   "source": [
    "# SPARCLCLIENT"
   ]
  },
  {
   "cell_type": "code",
   "execution_count": 1,
   "metadata": {
    "tags": []
   },
   "outputs": [],
   "source": [
    "__author__ = 'Steve Pothier <steve.pothier@noirlab.edu>'\n",
    "__version__ = '20231103' # yyyymmdd; \n",
    "__keywords__ = ['HowTo', 'astronomy', 'tutorial', 'client', 'sparcl', 'NOIRlab']"
   ]
  },
  {
   "cell_type": "markdown",
   "metadata": {
    "editable": true,
    "slideshow": {
     "slide_type": ""
    },
    "tags": []
   },
   "source": [
    "This notebook demonstrates using the `sparclclient` package to get metadata and spectra data from the ...."
   ]
  },
  {
   "cell_type": "markdown",
   "metadata": {
    "tags": []
   },
   "source": [
    "## Table of contents\n",
    "* [Goals & Summary](#goalssummary)\n",
    "* [Imports and setup](#imports)\n",
    "* [Discover Images](#discover)\n",
    "* [Get HDU](#gethdu)\n",
    "* [Get cutout of object](#cutout)\n",
    "* [Generate photo album](#album)\n",
    "* [Find all Messier objects](#messier)\n",
    "* [Save Messier snapshots](#save_album)"
   ]
  },
  {
   "cell_type": "markdown",
   "metadata": {
    "tags": []
   },
   "source": [
    "<a class=\"anchor\" id=\"goals\"></a>\n",
    "## Goals & Summary \n",
    "Demonstrate the use of the `astroget` package to get metadata and pixel data from the [NOIRLab Astro Data Archive](https://astroarchive.noirlab.edu/). \n",
    "- Discovery: Search for matching metadata and return metadata records.\n",
    "- Find images containing regions of sky (SIA)\n",
    "- Retrieve images\n",
    "  + Full FITS file\n",
    "  + Single HDU of FITS file\n",
    "  + Cutout of rectangular region of one HDU of a FITS file (as a new FITS file)\n"
   ]
  },
  {
   "cell_type": "markdown",
   "metadata": {
    "tags": []
   },
   "source": [
    "<a class=\"anchor\" id=\"imports\"></a>\n",
    "## Imports and Setup"
   ]
  },
  {
   "cell_type": "code",
   "execution_count": 2,
   "metadata": {},
   "outputs": [],
   "source": [
    "from pprint import pformat as pf\n",
    "import os.path\n",
    "from importlib import reload\n",
    "from collections import defaultdict\n",
    "from datetime import datetime\n",
    "import warnings\n",
    "\n",
    "import matplotlib.pyplot as plt\n",
    "from astropy.io import fits\n",
    "from astropy.coordinates import SkyCoord\n",
    "from astropy import units as u\n",
    "from astropy.wcs import WCS\n",
    "import numpy as np\n",
    "import pandas as pd\n",
    "\n",
    "class StopExecution(Exception):\n",
    "    def _render_traceback_(self):\n",
    "        pass\n",
    "\n",
    "# Suppress astropy warnings such as:\n",
    "# WARNING: The following header keyword is invalid or follows an unrecognized ...\n",
    "from astropy.utils.exceptions import AstropyWarning\n",
    "warnings.simplefilter('ignore', category=AstropyWarning)\n",
    "\n",
    "# %matplotlib inline\n",
    "# requires installing ipympl\n",
    "%matplotlib widget\n",
    "plt.rcParams['font.size'] = 14"
   ]
  },
  {
   "cell_type": "markdown",
   "metadata": {
    "tags": []
   },
   "source": [
    "<a class=\"anchor\" id=\"install\"></a>\n",
    "## Install the most recent version of the `sparclclient`:\n",
    "*NOTE: After installing the most recent version, please restart your kernel.*"
   ]
  },
  {
   "cell_type": "code",
   "execution_count": 3,
   "metadata": {},
   "outputs": [
    {
     "name": "stdout",
     "output_type": "stream",
     "text": [
      "Requirement already satisfied: sparclclient==1.2.1.dev2 in /home/pothiers/sandbox/sparclclient/venv/lib/python3.10/site-packages (1.2.1.dev2)\n",
      "Requirement already satisfied: requests==2.31.0 in /home/pothiers/sandbox/sparclclient/venv/lib/python3.10/site-packages (from sparclclient==1.2.1.dev2) (2.31.0)\n",
      "Requirement already satisfied: numpy in /home/pothiers/sandbox/sparclclient/venv/lib/python3.10/site-packages (from sparclclient==1.2.1.dev2) (1.26.1)\n",
      "Requirement already satisfied: spectres in /home/pothiers/sandbox/sparclclient/venv/lib/python3.10/site-packages (from sparclclient==1.2.1.dev2) (2.2.0)\n",
      "Requirement already satisfied: charset-normalizer<4,>=2 in /home/pothiers/sandbox/sparclclient/venv/lib/python3.10/site-packages (from requests==2.31.0->sparclclient==1.2.1.dev2) (3.3.2)\n",
      "Requirement already satisfied: idna<4,>=2.5 in /home/pothiers/sandbox/sparclclient/venv/lib/python3.10/site-packages (from requests==2.31.0->sparclclient==1.2.1.dev2) (3.4)\n",
      "Requirement already satisfied: urllib3<3,>=1.21.1 in /home/pothiers/sandbox/sparclclient/venv/lib/python3.10/site-packages (from requests==2.31.0->sparclclient==1.2.1.dev2) (2.0.7)\n",
      "Requirement already satisfied: certifi>=2017.4.17 in /home/pothiers/sandbox/sparclclient/venv/lib/python3.10/site-packages (from requests==2.31.0->sparclclient==1.2.1.dev2) (2023.7.22)\n"
     ]
    }
   ],
   "source": [
    "! pip install sparclclient==1.2.1.dev2      # A specific version \n",
    "#!pip install -upgrade sparclclient         # Latest released version\n",
    "#!pip install --pre -upgrade sparclclient   # Lastest pre-released version\n",
    "\n",
    "# Uncomment next line to load ASTROGET from local current version of software.\n",
    "#! pip install --pre --upgrade ../.."
   ]
  },
  {
   "cell_type": "code",
   "execution_count": 4,
   "metadata": {},
   "outputs": [
    {
     "name": "stdout",
     "output_type": "stream",
     "text": [
      "Run started: 2023-11-05 19:16:24.677061\n"
     ]
    }
   ],
   "source": [
    "import sparcl.client\n",
    "print(f'Run started: {str(datetime.now())}')"
   ]
  },
  {
   "cell_type": "markdown",
   "metadata": {
    "editable": true,
    "slideshow": {
     "slide_type": ""
    },
    "tags": []
   },
   "source": [
    "<a class=\"anchor\" id=\"prepare\"></a>\n",
    "# Prepare to use SPARCLCLIENT"
   ]
  },
  {
   "cell_type": "code",
   "execution_count": 5,
   "metadata": {},
   "outputs": [
    {
     "name": "stdout",
     "output_type": "stream",
     "text": [
      "Help on class SparclClient in module sparcl.client:\n",
      "\n",
      "class SparclClient(builtins.object)\n",
      " |  SparclClient(*, email=None, password=None, url='https://astrosparcl.datalab.noirlab.edu', verbose=False, show_curl=False, connect_timeout=1.1, read_timeout=5400)\n",
      " |  \n",
      " |  Provides interface to SPARCL Server.\n",
      " |  When using this to report a bug, set verbose to True. Also print\n",
      " |  your instance of this.  The results will include important info\n",
      " |  about the Client and Server that is usefule to Developers.\n",
      " |  \n",
      " |  Args:\n",
      " |      url (:obj:`str`, optional): Base URL of SPARC Server. Defaults\n",
      " |          to 'https://astrosparcl.datalab.noirlab.edu'.\n",
      " |  \n",
      " |      verbose (:obj:`bool`, optional): Default verbosity is set to\n",
      " |          False for all client methods.\n",
      " |  \n",
      " |      connect_timeout (:obj:`float`, optional): Number of seconds to\n",
      " |          wait to establish connection with server. Defaults to\n",
      " |          1.1.\n",
      " |  \n",
      " |      read_timeout (:obj:`float`, optional): Number of seconds to\n",
      " |          wait for server to send a response. Generally time to\n",
      " |          wait for first byte. Defaults to 5400.\n",
      " |  \n",
      " |  Example:\n",
      " |      >>> client = SparclClient()\n",
      " |  \n",
      " |  Raises:\n",
      " |      Exception: Object creation compares the version from the\n",
      " |          Server against the one expected by the Client. Throws an\n",
      " |          error if the Client is a major version or more behind.\n",
      " |  \n",
      " |  Methods defined here:\n",
      " |  \n",
      " |  __init__(self, *, email=None, password=None, url='https://astrosparcl.datalab.noirlab.edu', verbose=False, show_curl=False, connect_timeout=1.1, read_timeout=5400)\n",
      " |      Create client instance.\n",
      " |  \n",
      " |  __repr__(self)\n",
      " |      Return repr(self).\n",
      " |  \n",
      " |  find(self, outfields=None, *, constraints={}, limit=500, sort=None, verbose=None)\n",
      " |      Find records in the SPARC database.\n",
      " |      \n",
      " |      Args:\n",
      " |          outfields (:obj:`list`, optional): List of fields to return.\n",
      " |              Only CORE fields may be passed to this parameter.\n",
      " |              Defaults to None, which will return only the sparcl_id\n",
      " |              and _dr fields.\n",
      " |      \n",
      " |          constraints (:obj:`dict`, optional): Key-Value pairs of\n",
      " |              constraints to place on the record selection. The Key\n",
      " |              part of the Key-Value pair is the field name and the\n",
      " |              Value part of the Key-Value pair is a list of values.\n",
      " |              Defaults to no constraints. This will return all records in the\n",
      " |              database subject to restrictions imposed by the ``limit``\n",
      " |              parameter.\n",
      " |      \n",
      " |          limit (:obj:`int`, optional): Maximum number of records to\n",
      " |              return. Defaults to 500.\n",
      " |      \n",
      " |          sort (:obj:`list`, optional): Comma separated list of fields\n",
      " |              to sort by. Defaults to None. (no sorting)\n",
      " |      \n",
      " |          verbose (:obj:`bool`, optional): Set to True for in-depth return\n",
      " |              statement. Defaults to False.\n",
      " |      \n",
      " |      Returns:\n",
      " |          :class:`~sparcl.Results.Found`: Contains header and records.\n",
      " |      \n",
      " |      Example:\n",
      " |          >>> client = SparclClient()\n",
      " |          >>> outs = ['sparcl_id', 'ra', 'dec']\n",
      " |          >>> cons = {'spectype': ['GALAXY'], 'redshift': [0.5, 0.9]}\n",
      " |          >>> found = client.find(outfields=outs, constraints=cons)\n",
      " |          >>> sorted(list(found.records[0].keys()))\n",
      " |          ['_dr', 'dec', 'ra', 'sparcl_id']\n",
      " |  \n",
      " |  get_all_fields(self, *, dataset_list=None)\n",
      " |      Get fields tagged as 'all' that are in DATASET_LIST.\n",
      " |      These are the fields used for the ALL value of the include parameter\n",
      " |      of client.retrieve().\n",
      " |      \n",
      " |      Args:\n",
      " |          dataset_list (:obj:`list`, optional): List of data sets from\n",
      " |              which to get all fields. Defaults to None, which\n",
      " |              will return the intersection of all fields in all\n",
      " |              data sets hosted on the SPARC database.\n",
      " |      \n",
      " |      Returns:\n",
      " |          List of fields tagged as 'all' from DATASET_LIST.\n",
      " |      \n",
      " |      Example:\n",
      " |          >>> client = SparclClient()\n",
      " |          >>> client.get_all_fields()\n",
      " |          ['data_release', 'datasetgroup', 'dateobs', 'dateobs_center', 'dec', 'exptime', 'flux', 'instrument', 'ivar', 'mask', 'model', 'ra', 'redshift', 'redshift_err', 'redshift_warning', 'site', 'sparcl_id', 'specid', 'specprimary', 'spectype', 'survey', 'targetid', 'telescope', 'wave_sigma', 'wavelength', 'wavemax', 'wavemin']\n",
      " |  \n",
      " |  get_available_fields(self, *, dataset_list=None)\n",
      " |      Get subset of fields that are in all (or selected) DATASET_LIST.\n",
      " |      This may be a bigger list than will be used with the ALL keyword to\n",
      " |      client.retreive().\n",
      " |      \n",
      " |      Args:\n",
      " |          dataset_list (:obj:`list`, optional): List of data sets from\n",
      " |              which to get available fields. Defaults to None, which\n",
      " |              will return the intersection of all available fields in\n",
      " |              all data sets hosted on the SPARC database.\n",
      " |      \n",
      " |      Returns:\n",
      " |          Set of fields available from data sets in DATASET_LIST.\n",
      " |      \n",
      " |      Example:\n",
      " |          >>> client = SparclClient()\n",
      " |          >>> sorted(client.get_available_fields())\n",
      " |          ['data_release', 'datasetgroup', 'dateobs', 'dateobs_center', 'dec', 'dirpath', 'exptime', 'extra_files', 'filename', 'filesize', 'flux', 'instrument', 'ivar', 'mask', 'model', 'ra', 'redshift', 'redshift_err', 'redshift_warning', 'site', 'sparcl_id', 'specid', 'specprimary', 'spectype', 'survey', 'targetid', 'telescope', 'updated', 'wave_sigma', 'wavelength', 'wavemax', 'wavemin']\n",
      " |  \n",
      " |  get_default_fields(self, *, dataset_list=None)\n",
      " |      Get fields tagged as 'default' that are in DATASET_LIST.\n",
      " |      These are the fields used for the DEFAULT value of the include\n",
      " |      parameter of client.retrieve().\n",
      " |      \n",
      " |      Args:\n",
      " |          dataset_list (:obj:`list`, optional): List of data sets from\n",
      " |              which to get the default fields. Defaults to None, which\n",
      " |              will return the intersection of default fields in all\n",
      " |              data sets hosted on the SPARC database.\n",
      " |      \n",
      " |      Returns:\n",
      " |          List of fields tagged as 'default' from DATASET_LIST.\n",
      " |      \n",
      " |      Example:\n",
      " |          >>> client = SparclClient()\n",
      " |          >>> client.get_default_fields()\n",
      " |          ['dec', 'flux', 'ra', 'sparcl_id', 'specid', 'wavelength']\n",
      " |  \n",
      " |  missing(self, uuid_list, *, dataset_list=None, countOnly=False, verbose=False)\n",
      " |      Return the subset of sparcl_ids in the given uuid_list that are\n",
      " |      NOT stored in the SPARC database.\n",
      " |      \n",
      " |      Args:\n",
      " |          uuid_list (:obj:`list`): List of sparcl_ids.\n",
      " |      \n",
      " |          dataset_list (:obj:`list`, optional): List of data sets from\n",
      " |              which to find missing sparcl_ids. Defaults to None, meaning\n",
      " |              all data sets hosted on the SPARC database.\n",
      " |      \n",
      " |          countOnly (:obj:`bool`, optional): Set to True to return only\n",
      " |              a count of the missing sparcl_ids from the uuid_list.\n",
      " |              Defaults to False.\n",
      " |      \n",
      " |          verbose (:obj:`bool`, optional): Set to True for in-depth return\n",
      " |              statement. Defaults to False.\n",
      " |      \n",
      " |      Returns:\n",
      " |          A list of the subset of sparcl_ids in the given uuid_list that\n",
      " |          are NOT stored in the SPARC database.\n",
      " |      \n",
      " |      Example:\n",
      " |          >>> client = SparclClient()\n",
      " |          >>> ids = ['ddbb57ee-8e90-4a0d-823b-0f5d97028076',]\n",
      " |          >>> client.missing(ids)\n",
      " |          ['ddbb57ee-8e90-4a0d-823b-0f5d97028076']\n",
      " |  \n",
      " |  missing_specids(self, specid_list, *, dataset_list=None, countOnly=False, verbose=False)\n",
      " |      Return the subset of specids in the given specid_list that are\n",
      " |      NOT stored in the SPARC database.\n",
      " |      \n",
      " |      Args:\n",
      " |          specid_list (:obj:`list`): List of specids.\n",
      " |      \n",
      " |          dataset_list (:obj:`list`, optional): List of data sets from\n",
      " |              which to find missing specids. Defaults to None, meaning\n",
      " |              all data sets hosted on the SPARC database.\n",
      " |      \n",
      " |          countOnly (:obj:`bool`, optional): Set to True to return only\n",
      " |              a count of the missing specids from the specid_list.\n",
      " |              Defaults to False.\n",
      " |      \n",
      " |          verbose (:obj:`bool`, optional): Set to True for in-depth return\n",
      " |              statement. Defaults to False.\n",
      " |      \n",
      " |      Returns:\n",
      " |          A list of the subset of specids in the given specid_list that\n",
      " |          are NOT stored in the SPARC database.\n",
      " |      \n",
      " |      Example:\n",
      " |          >>> client = SparclClient(url=_PAT)\n",
      " |          >>> specids = ['7972592460248666112', '3663710814482833408']\n",
      " |          >>> client.missing_specids(specids + ['bad_id'])\n",
      " |          ['bad_id']\n",
      " |  \n",
      " |  retrieve(self, uuid_list, *, include='DEFAULT', dataset_list=None, limit=500, verbose=None)\n",
      " |      Retrieve spectra records from the SPARC database by list of\n",
      " |      sparcl_ids.\n",
      " |      \n",
      " |      Args:\n",
      " |          uuid_list (:obj:`list`): List of sparcl_ids.\n",
      " |      \n",
      " |          include (:obj:`list`, optional): List of field names to include\n",
      " |              in each record. Defaults to 'DEFAULT', which will return\n",
      " |              the fields tagged as 'default'.\n",
      " |      \n",
      " |          dataset_list (:obj:`list`, optional): List of data sets from\n",
      " |              which to retrieve spectra data. Defaults to None, meaning all\n",
      " |              data sets hosted on the SPARC database.\n",
      " |      \n",
      " |          limit (:obj:`int`, optional): Maximum number of records to\n",
      " |              return. Defaults to 500. Maximum allowed is 24,000.\n",
      " |      \n",
      " |          verbose (:obj:`bool`, optional): Set to True for in-depth return\n",
      " |              statement. Defaults to False.\n",
      " |      \n",
      " |      Returns:\n",
      " |          :class:`~sparcl.Results.Retrieved`: Contains header and records.\n",
      " |      \n",
      " |      Example:\n",
      " |          >>> client = SparclClient()\n",
      " |          >>> ids = ['00000f0b-07db-4234-892a-6e347db79c89',]\n",
      " |          >>> inc = ['sparcl_id', 'flux', 'wavelength', 'model']\n",
      " |          >>> ret = client.retrieve(uuid_list=ids, include=inc)\n",
      " |          >>> type(ret.records[0].wavelength)\n",
      " |          <class 'numpy.ndarray'>\n",
      " |  \n",
      " |  retrieve_by_specid(self, specid_list, *, svc='spectras', format='pkl', include='DEFAULT', dataset_list=None, limit=500, verbose=False)\n",
      " |      Retrieve spectra records from the SPARC database by list of specids.\n",
      " |      \n",
      " |      Args:\n",
      " |          specid_list (:obj:`list`): List of specids.\n",
      " |      \n",
      " |          include (:obj:`list`, optional): List of field names to include\n",
      " |              in each record. Defaults to 'DEFAULT', which will return\n",
      " |              the fields tagged as 'default'.\n",
      " |      \n",
      " |          dataset_list (:obj:`list`, optional): List of data sets from\n",
      " |              which to retrieve spectra data. Defaults to None, meaning all\n",
      " |              data sets hosted on the SPARC database.\n",
      " |      \n",
      " |          limit (:obj:`int`, optional): Maximum number of records to\n",
      " |              return. Defaults to 500. Maximum allowed is 24,000.\n",
      " |      \n",
      " |          verbose (:obj:`bool`, optional): Set to True for in-depth return\n",
      " |              statement. Defaults to False.\n",
      " |      \n",
      " |      Returns:\n",
      " |          :class:`~sparcl.Results.Retrieved`: Contains header and records.\n",
      " |      \n",
      " |      Example:\n",
      " |          >>> client = SparclClient()\n",
      " |          >>> sids = [5840097619402313728, -8985592895187431424]\n",
      " |          >>> inc = ['specid', 'flux', 'wavelength', 'model']\n",
      " |          >>> ret = client.retrieve_by_specid(specid_list=sids, include=inc)\n",
      " |          >>> len(ret.records[0].wavelength)\n",
      " |          4617\n",
      " |  \n",
      " |  ----------------------------------------------------------------------\n",
      " |  Readonly properties defined here:\n",
      " |  \n",
      " |  all_datasets\n",
      " |  \n",
      " |  version\n",
      " |      Return version of Server Rest API used by this client.\n",
      " |      If the Rest API changes such that the Major version increases,\n",
      " |      a new version of this module will likely need to be used.\n",
      " |      \n",
      " |      Returns:\n",
      " |          API version (:obj:`float`).\n",
      " |      \n",
      " |      Example:\n",
      " |          >>> client = SparclClient()\n",
      " |          >>> client.version\n",
      " |          9.0\n",
      " |  \n",
      " |  ----------------------------------------------------------------------\n",
      " |  Data descriptors defined here:\n",
      " |  \n",
      " |  __dict__\n",
      " |      dictionary for instance variables (if defined)\n",
      " |  \n",
      " |  __weakref__\n",
      " |      list of weak references to the object (if defined)\n",
      " |  \n",
      " |  ----------------------------------------------------------------------\n",
      " |  Data and other attributes defined here:\n",
      " |  \n",
      " |  KNOWN_GOOD_API_VERSION = 11.0\n",
      "\n"
     ]
    },
    {
     "data": {
      "text/plain": [
       "(sparclclient:1.2.1.dev2, api:11.0, https://sparc1.datalab.noirlab.edu/sparc, verbose=False, connect_timeout=1.1, read_timeout=5400.0)"
      ]
     },
     "execution_count": 5,
     "metadata": {},
     "output_type": "execute_result"
    }
   ],
   "source": [
    "server='https://sparc1.datalab.noirlab.edu'  \n",
    "help(sparcl.client.SparclClient)\n",
    "client = sparcl.client.SparclClient(url=server, show_curl=True)\n",
    "client"
   ]
  },
  {
   "cell_type": "markdown",
   "metadata": {},
   "source": [
    "<a class=\"anchor\" id=\"info\"></a>\n",
    "# Info"
   ]
  },
  {
   "cell_type": "markdown",
   "metadata": {},
   "source": [
    "<a class=\"anchor\" id=\"datasets\"></a>\n",
    "## Data sets available in SPARCL\n",
    "List all currently available data sets from the server/url associated with client"
   ]
  },
  {
   "cell_type": "code",
   "execution_count": 6,
   "metadata": {},
   "outputs": [
    {
     "data": {
      "text/plain": [
       "{'BOSS-DR16', 'DESI-EDR', 'SDSS-DR16', 'SDSS-DR17'}"
      ]
     },
     "execution_count": 6,
     "metadata": {},
     "output_type": "execute_result"
    }
   ],
   "source": [
    "client.all_datasets"
   ]
  },
  {
   "cell_type": "markdown",
   "metadata": {},
   "source": [
    "<a class=\"anchor\" id=\"defaultfieldnames\"></a>\n",
    "## Get default field names\n",
    "Gets fields tagged as 'default' that are common to all data sets in the `dataset_list` passed to the function. If `dataset_list` is None (the default), the function returns the intersection of 'default' fields across all datasets currently available in the SPARC database. The following example of this function produces the same output as it would with no `dataset_list` argument because we currently only have SDSS-DR16 and BOSS-DR16 records in the SPARC database."
   ]
  },
  {
   "cell_type": "code",
   "execution_count": 7,
   "metadata": {},
   "outputs": [
    {
     "data": {
      "text/plain": [
       "\u001b[0;31mSignature:\u001b[0m \u001b[0mclient\u001b[0m\u001b[0;34m.\u001b[0m\u001b[0mget_default_fields\u001b[0m\u001b[0;34m(\u001b[0m\u001b[0;34m*\u001b[0m\u001b[0;34m,\u001b[0m \u001b[0mdataset_list\u001b[0m\u001b[0;34m=\u001b[0m\u001b[0;32mNone\u001b[0m\u001b[0;34m)\u001b[0m\u001b[0;34m\u001b[0m\u001b[0;34m\u001b[0m\u001b[0m\n",
       "\u001b[0;31mDocstring:\u001b[0m\n",
       "Get fields tagged as 'default' that are in DATASET_LIST.\n",
       "These are the fields used for the DEFAULT value of the include\n",
       "parameter of client.retrieve().\n",
       "\n",
       "Args:\n",
       "    dataset_list (:obj:`list`, optional): List of data sets from\n",
       "        which to get the default fields. Defaults to None, which\n",
       "        will return the intersection of default fields in all\n",
       "        data sets hosted on the SPARC database.\n",
       "\n",
       "Returns:\n",
       "    List of fields tagged as 'default' from DATASET_LIST.\n",
       "\n",
       "Example:\n",
       "    >>> client = SparclClient()\n",
       "    >>> client.get_default_fields()\n",
       "    ['dec', 'flux', 'ra', 'sparcl_id', 'specid', 'wavelength']\n",
       "\u001b[0;31mFile:\u001b[0m      ~/sandbox/sparclclient/venv/lib/python3.10/site-packages/sparcl/client.py\n",
       "\u001b[0;31mType:\u001b[0m      method"
      ]
     },
     "metadata": {},
     "output_type": "display_data"
    }
   ],
   "source": [
    "client.get_default_fields?"
   ]
  },
  {
   "cell_type": "code",
   "execution_count": 8,
   "metadata": {},
   "outputs": [
    {
     "data": {
      "text/plain": [
       "['dec', 'flux', 'ra', 'sparcl_id', 'specid', 'wavelength']"
      ]
     },
     "execution_count": 8,
     "metadata": {},
     "output_type": "execute_result"
    }
   ],
   "source": [
    "client.get_default_fields(dataset_list=['SDSS-DR16', 'BOSS-DR16'])"
   ]
  },
  {
   "cell_type": "markdown",
   "metadata": {},
   "source": [
    "<a class=\"anchor\" id=\"allfieldnames\"></a>\n",
    "## Get all field names\n",
    "Gets fields tagged as 'all' that are common to all data sets in the `dataset_list` passed to the function. If `dataset_list` is None (the default), the function returns the intersection of 'all' fields across all datasets currently available in the SPARC database.  The following example of this function produces the same output as it would with no `dataset_list` argument because we currently only have SDSS-DR16 and BOSS-DR16 records in the SPARC database."
   ]
  },
  {
   "cell_type": "code",
   "execution_count": 9,
   "metadata": {},
   "outputs": [
    {
     "data": {
      "text/plain": [
       "\u001b[0;31mSignature:\u001b[0m \u001b[0mclient\u001b[0m\u001b[0;34m.\u001b[0m\u001b[0mget_all_fields\u001b[0m\u001b[0;34m(\u001b[0m\u001b[0;34m*\u001b[0m\u001b[0;34m,\u001b[0m \u001b[0mdataset_list\u001b[0m\u001b[0;34m=\u001b[0m\u001b[0;32mNone\u001b[0m\u001b[0;34m)\u001b[0m\u001b[0;34m\u001b[0m\u001b[0;34m\u001b[0m\u001b[0m\n",
       "\u001b[0;31mDocstring:\u001b[0m\n",
       "Get fields tagged as 'all' that are in DATASET_LIST.\n",
       "These are the fields used for the ALL value of the include parameter\n",
       "of client.retrieve().\n",
       "\n",
       "Args:\n",
       "    dataset_list (:obj:`list`, optional): List of data sets from\n",
       "        which to get all fields. Defaults to None, which\n",
       "        will return the intersection of all fields in all\n",
       "        data sets hosted on the SPARC database.\n",
       "\n",
       "Returns:\n",
       "    List of fields tagged as 'all' from DATASET_LIST.\n",
       "\n",
       "Example:\n",
       "    >>> client = SparclClient()\n",
       "    >>> client.get_all_fields()\n",
       "    ['data_release', 'datasetgroup', 'dateobs', 'dateobs_center', 'dec', 'exptime', 'flux', 'instrument', 'ivar', 'mask', 'model', 'ra', 'redshift', 'redshift_err', 'redshift_warning', 'site', 'sparcl_id', 'specid', 'specprimary', 'spectype', 'survey', 'targetid', 'telescope', 'wave_sigma', 'wavelength', 'wavemax', 'wavemin']\n",
       "\u001b[0;31mFile:\u001b[0m      ~/sandbox/sparclclient/venv/lib/python3.10/site-packages/sparcl/client.py\n",
       "\u001b[0;31mType:\u001b[0m      method"
      ]
     },
     "metadata": {},
     "output_type": "display_data"
    }
   ],
   "source": [
    "client.get_all_fields?"
   ]
  },
  {
   "cell_type": "code",
   "execution_count": 10,
   "metadata": {},
   "outputs": [
    {
     "name": "stdout",
     "output_type": "stream",
     "text": [
      "['ancillary_target1', 'ancillary_target2', 'anyandmask', 'anyormask', 'bluefiber', 'boss_specobj_id', 'boss_target1', 'boss_target2', 'calibflux', 'calibflux_ivar', 'chi68p', 'chunk', 'class_noqso', 'class_person', 'comments_person', 'cx', 'cy', 'cz', 'data_release', 'datasetgroup', 'dateobs', 'dateobs_center', 'dec', 'deredsn2', 'designid', 'dof', 'eboss_target0', 'eboss_target1', 'eboss_target2', 'eboss_target_id', 'elodie_bv', 'elodie_dof', 'elodie_feh', 'elodie_filename', 'elodie_logg', 'elodie_object', 'elodie_rchi2', 'elodie_sptype', 'elodie_teff', 'elodie_z', 'elodie_z_err', 'elodie_z_modelerr', 'exptime', 'fiberid', 'firstrelease', 'flux', 'fluxobjid', 'fracnsighi', 'fracnsiglo', 'fracnsigma', 'instrument', 'ivar', 'lambda_eff', 'legacy_target1', 'legacy_target2', 'marvels_target1', 'marvels_target2', 'mask', 'mjd', 'model', 'npoly', 'nspecobs', 'nturnoff', 'objid', 'plate', 'plateid', 'platequality', 'platerun', 'platesn2', 'primtarget', 'programname', 'ra', 'rchi2', 'rchi2diff', 'rchi2diff_noqso', 'redshift', 'redshift_err', 'redshift_warning', 'run1d', 'run2d', 'sectarget', 'segue1_target1', 'segue1_target2', 'segue2_target1', 'segue2_target2', 'site', 'sky', 'sn_median', 'sn_median_all', 'snturnoff', 'sourcetype', 'sparcl_id', 'spec1_g', 'spec1_i', 'spec1_r', 'spec2_g', 'spec2_i', 'spec2_r', 'specboss', 'special_target1', 'special_target2', 'specid', 'speclegacy', 'specprimary', 'specsdss', 'specsegue', 'specsegue1', 'specsegue2', 'spectroflux', 'spectroflux_ivar', 'spectrographid', 'spectroskyflux', 'spectrosynflux', 'spectrosynflux_ivar', 'spectype', 'subclass', 'subclass_noqso', 'survey', 'targetid', 'targetobjid', 'targettype', 'tcolumn', 'telescope', 'tfile', 'theta', 'thing_id', 'thing_id_targeting', 'tile', 'vdisp', 'vdisp_err', 'vdispchi2', 'vdispdof', 'vdispnpix', 'vdispz', 'vdispz_err', 'wave_sigma', 'wavelength', 'wavemax', 'wavemin', 'wcoverage', 'xfocal', 'yfocal', 'z_conf_person', 'z_err_noqso', 'z_noqso', 'z_person', 'zoffset', 'zwarning_noqso']\n"
     ]
    }
   ],
   "source": [
    "print(sorted(client.get_all_fields(dataset_list=['SDSS-DR16', 'BOSS-DR16'])))"
   ]
  },
  {
   "cell_type": "markdown",
   "metadata": {},
   "source": [
    "## Version of Server API used by this client"
   ]
  },
  {
   "cell_type": "code",
   "execution_count": 11,
   "metadata": {},
   "outputs": [
    {
     "data": {
      "text/plain": [
       "11.0"
      ]
     },
     "execution_count": 11,
     "metadata": {},
     "output_type": "execute_result"
    }
   ],
   "source": [
    "client.version"
   ]
  },
  {
   "cell_type": "markdown",
   "metadata": {},
   "source": [
    "<a class=\"anchor\" id=\"get\"></a>\n",
    "# Get Metadata and Spectra"
   ]
  },
  {
   "cell_type": "markdown",
   "metadata": {},
   "source": [
    "<a class=\"anchor\" id=\"find\"></a>\n",
    "## Get Metadata: `client.find`"
   ]
  },
  {
   "cell_type": "markdown",
   "metadata": {},
   "source": [
    "The first way you can discover your data is by using SPARCL's `client.find()` method, which allows you to find records in the SPARCL database based on certain parameters passed to the function. Only Core fields may be in the `outfields` and `constraints` parameters. The descriptions for all fields, including Core fields, is located [here](https://astrosparcl.datalab.noirlab.edu/sparc/sfc/). The SPARCL Core fields constraint types are:\n",
    "\n",
    "\n",
    "| Field name       | Constraint type | Example |\n",
    "|:----------------|:---------------|:-------|\n",
    "| id               | List of values (but not<br>intended for data discovery) | ['00001658-460c-4da1-987d-e493d8c9b89b',<br>'000017b6-56a2-4f87-8828-3a3409ba1083']\n",
    "| specid           | List of values | [6988698046080241664, 6971782884823945216]\n",
    "| targetid         | List of values | [1237679502171374316, 1237678619584692841]\n",
    "| data_release     | List of allowed values<br>from [SPARCL Categoricals](https://astrosparcl.datalab.noirlab.edu/sparc/cats/) | ['BOSS-DR16', 'SDSS-DR16']\n",
    "| datasetgroup     | List of allowed values<br>from [SPARCL Categoricals](https://astrosparcl.datalab.noirlab.edu/sparc/cats/) | ['SDSS_BOSS']\n",
    "| ra               | Range of values (may not<br>\"wrap\" around RA=0) | [44.53, 47.96]\n",
    "| dec              | Range of values | [2.03, 7.76]\n",
    "| redshift         | Range of values | [0.5, 0.9]\n",
    "| redshift_err     | Range of values | [0.000225, 0.000516]\n",
    "| redshift_warning | List of values  | [0, 3, 5]\n",
    "| spectype         | List of allowed values<br>from [SPARCL Categoricals](https://astrosparcl.datalab.noirlab.edu/sparc/cats/) | ['GALAXY', 'STAR']\n",
    "| instrument       | List of allowed values<br>from [SPARCL Categoricals](https://astrosparcl.datalab.noirlab.edu/sparc/cats/) | ['SDSS', 'BOSS']\n",
    "| telescope        | List of allowed values<br>from [SPARCL Categoricals](https://astrosparcl.datalab.noirlab.edu/sparc/cats/) | ['sloan25m']\n",
    "| site             | List of allowed values<br>from [SPARCL Categoricals](https://astrosparcl.datalab.noirlab.edu/sparc/cats/) |  ['apo']\n",
    "| specprimary      | List of values (but typically<br>would only include 1 if<br>being used for data<br>discovery constraints) | [1]\n",
    "| wavemin          | Range of values | [3607, 3608]\n",
    "| wavemax          | Range of values | [10363, 10364]\n",
    "| dateobs_center   | Range of values | ['2013-03-14T10:16:17Z',<br>'2014-05-24T12:10:00Z']\n",
    "| exptime          | Range of values | [3603.46, 3810.12]\n",
    "| updated          | Range of values | ['2022-08-20T21:37:50.636363Z',<br>'2022-09-20T20:00:00.000000Z']\n"
   ]
  },
  {
   "cell_type": "code",
   "execution_count": 12,
   "metadata": {
    "editable": true,
    "jupyter": {
     "source_hidden": true
    },
    "slideshow": {
     "slide_type": ""
    },
    "tags": []
   },
   "outputs": [
    {
     "data": {
      "text/plain": [
       "\u001b[0;31mSignature:\u001b[0m\n",
       "\u001b[0mclient\u001b[0m\u001b[0;34m.\u001b[0m\u001b[0mfind\u001b[0m\u001b[0;34m(\u001b[0m\u001b[0;34m\u001b[0m\n",
       "\u001b[0;34m\u001b[0m    \u001b[0moutfields\u001b[0m\u001b[0;34m=\u001b[0m\u001b[0;32mNone\u001b[0m\u001b[0;34m,\u001b[0m\u001b[0;34m\u001b[0m\n",
       "\u001b[0;34m\u001b[0m    \u001b[0;34m*\u001b[0m\u001b[0;34m,\u001b[0m\u001b[0;34m\u001b[0m\n",
       "\u001b[0;34m\u001b[0m    \u001b[0mconstraints\u001b[0m\u001b[0;34m=\u001b[0m\u001b[0;34m{\u001b[0m\u001b[0;34m}\u001b[0m\u001b[0;34m,\u001b[0m\u001b[0;34m\u001b[0m\n",
       "\u001b[0;34m\u001b[0m    \u001b[0mlimit\u001b[0m\u001b[0;34m=\u001b[0m\u001b[0;36m500\u001b[0m\u001b[0;34m,\u001b[0m\u001b[0;34m\u001b[0m\n",
       "\u001b[0;34m\u001b[0m    \u001b[0msort\u001b[0m\u001b[0;34m=\u001b[0m\u001b[0;32mNone\u001b[0m\u001b[0;34m,\u001b[0m\u001b[0;34m\u001b[0m\n",
       "\u001b[0;34m\u001b[0m    \u001b[0mverbose\u001b[0m\u001b[0;34m=\u001b[0m\u001b[0;32mNone\u001b[0m\u001b[0;34m,\u001b[0m\u001b[0;34m\u001b[0m\n",
       "\u001b[0;34m\u001b[0m\u001b[0;34m)\u001b[0m\u001b[0;34m\u001b[0m\u001b[0;34m\u001b[0m\u001b[0m\n",
       "\u001b[0;31mDocstring:\u001b[0m\n",
       "Find records in the SPARC database.\n",
       "\n",
       "Args:\n",
       "    outfields (:obj:`list`, optional): List of fields to return.\n",
       "        Only CORE fields may be passed to this parameter.\n",
       "        Defaults to None, which will return only the sparcl_id\n",
       "        and _dr fields.\n",
       "\n",
       "    constraints (:obj:`dict`, optional): Key-Value pairs of\n",
       "        constraints to place on the record selection. The Key\n",
       "        part of the Key-Value pair is the field name and the\n",
       "        Value part of the Key-Value pair is a list of values.\n",
       "        Defaults to no constraints. This will return all records in the\n",
       "        database subject to restrictions imposed by the ``limit``\n",
       "        parameter.\n",
       "\n",
       "    limit (:obj:`int`, optional): Maximum number of records to\n",
       "        return. Defaults to 500.\n",
       "\n",
       "    sort (:obj:`list`, optional): Comma separated list of fields\n",
       "        to sort by. Defaults to None. (no sorting)\n",
       "\n",
       "    verbose (:obj:`bool`, optional): Set to True for in-depth return\n",
       "        statement. Defaults to False.\n",
       "\n",
       "Returns:\n",
       "    :class:`~sparcl.Results.Found`: Contains header and records.\n",
       "\n",
       "Example:\n",
       "    >>> client = SparclClient()\n",
       "    >>> outs = ['sparcl_id', 'ra', 'dec']\n",
       "    >>> cons = {'spectype': ['GALAXY'], 'redshift': [0.5, 0.9]}\n",
       "    >>> found = client.find(outfields=outs, constraints=cons)\n",
       "    >>> sorted(list(found.records[0].keys()))\n",
       "    ['_dr', 'dec', 'ra', 'sparcl_id']\n",
       "\u001b[0;31mFile:\u001b[0m      ~/sandbox/sparclclient/venv/lib/python3.10/site-packages/sparcl/client.py\n",
       "\u001b[0;31mType:\u001b[0m      method"
      ]
     },
     "metadata": {},
     "output_type": "display_data"
    }
   ],
   "source": [
    "client.find?"
   ]
  },
  {
   "cell_type": "markdown",
   "metadata": {},
   "source": [
    "#### Define the fields we want returned (`outfields`) and the constraints (`constraints`):"
   ]
  },
  {
   "cell_type": "code",
   "execution_count": 13,
   "metadata": {},
   "outputs": [],
   "source": [
    "out = ['sparcl_id','specid', 'ra', 'dec', 'redshift', 'spectype', 'data_release', 'redshift_err']\n",
    "cons = {'spectype': ['GALAXY'],\n",
    "        'redshift': [0.5, 0.9],\n",
    "        'data_release': ['BOSS-DR16', 'SDSS-DR16']}"
   ]
  },
  {
   "cell_type": "markdown",
   "metadata": {},
   "source": [
    "#### Execute the `client.find()` method with our parameters:\n",
    "The `limit` argument here is being used for demonstration purposes only, and simply returns only the first 20 results here."
   ]
  },
  {
   "cell_type": "code",
   "execution_count": 14,
   "metadata": {
    "scrolled": true
   },
   "outputs": [
    {
     "name": "stdout",
     "output_type": "stream",
     "text": [
      "curl -X 'POST' -H 'Content-Type: application/json' -d '{\"outfields\": [\"sparcl_id\", \"specid\", \"ra\", \"dec\", \"redshift\", \"spectype\", \"data_release\", \"redshift_err\"], \"search\": [[\"spectype\", \"GALAXY\"], [\"redshift\", 0.5, 0.9], [\"data_release\", \"BOSS-DR16\", \"SDSS-DR16\"]]}' 'https://sparc1.datalab.noirlab.edu/sparc/find/?limit=20' | python3 -m json.tool\n"
     ]
    }
   ],
   "source": [
    "found = client.find(outfields=out, constraints=cons, limit=20)"
   ]
  },
  {
   "cell_type": "code",
   "execution_count": 15,
   "metadata": {},
   "outputs": [
    {
     "data": {
      "text/html": [
       "<div>\n",
       "<style scoped>\n",
       "    .dataframe tbody tr th:only-of-type {\n",
       "        vertical-align: middle;\n",
       "    }\n",
       "\n",
       "    .dataframe tbody tr th {\n",
       "        vertical-align: top;\n",
       "    }\n",
       "\n",
       "    .dataframe thead th {\n",
       "        text-align: right;\n",
       "    }\n",
       "</style>\n",
       "<table border=\"1\" class=\"dataframe\">\n",
       "  <thead>\n",
       "    <tr style=\"text-align: right;\">\n",
       "      <th></th>\n",
       "      <th>redshift_err</th>\n",
       "      <th>sparcl_id</th>\n",
       "      <th>data_release</th>\n",
       "      <th>redshift</th>\n",
       "      <th>specid</th>\n",
       "      <th>dec</th>\n",
       "      <th>spectype</th>\n",
       "      <th>ra</th>\n",
       "      <th>_dr</th>\n",
       "    </tr>\n",
       "  </thead>\n",
       "  <tbody>\n",
       "    <tr>\n",
       "      <th>0</th>\n",
       "      <td>0.000241</td>\n",
       "      <td>559c7b68-75d8-11ee-a90d-525400aad0aa</td>\n",
       "      <td>BOSS-DR16</td>\n",
       "      <td>0.675723</td>\n",
       "      <td>-6444647351317147648</td>\n",
       "      <td>28.038851</td>\n",
       "      <td>GALAXY</td>\n",
       "      <td>134.10755</td>\n",
       "      <td>BOSS-DR16</td>\n",
       "    </tr>\n",
       "    <tr>\n",
       "      <th>1</th>\n",
       "      <td>0.000242</td>\n",
       "      <td>55d7d47d-75d8-11ee-ba50-525400aad0aa</td>\n",
       "      <td>BOSS-DR16</td>\n",
       "      <td>0.782685</td>\n",
       "      <td>-6444646251805519872</td>\n",
       "      <td>28.084685</td>\n",
       "      <td>GALAXY</td>\n",
       "      <td>134.23727</td>\n",
       "      <td>BOSS-DR16</td>\n",
       "    </tr>\n",
       "    <tr>\n",
       "      <th>2</th>\n",
       "      <td>0.000424</td>\n",
       "      <td>565fd69e-75d8-11ee-b584-525400aad0aa</td>\n",
       "      <td>BOSS-DR16</td>\n",
       "      <td>0.797439</td>\n",
       "      <td>-6444643503026450432</td>\n",
       "      <td>28.226386</td>\n",
       "      <td>GALAXY</td>\n",
       "      <td>133.98095</td>\n",
       "      <td>BOSS-DR16</td>\n",
       "    </tr>\n",
       "    <tr>\n",
       "      <th>3</th>\n",
       "      <td>0.000238</td>\n",
       "      <td>56cd210b-75d8-11ee-b3b9-525400aad0aa</td>\n",
       "      <td>BOSS-DR16</td>\n",
       "      <td>0.647712</td>\n",
       "      <td>-6444641304003194880</td>\n",
       "      <td>28.429551</td>\n",
       "      <td>GALAXY</td>\n",
       "      <td>134.54531</td>\n",
       "      <td>BOSS-DR16</td>\n",
       "    </tr>\n",
       "    <tr>\n",
       "      <th>4</th>\n",
       "      <td>0.000274</td>\n",
       "      <td>56e8876a-75d8-11ee-a38d-525400aad0aa</td>\n",
       "      <td>BOSS-DR16</td>\n",
       "      <td>0.886086</td>\n",
       "      <td>-6444640754247380992</td>\n",
       "      <td>28.452505</td>\n",
       "      <td>GALAXY</td>\n",
       "      <td>134.46525</td>\n",
       "      <td>BOSS-DR16</td>\n",
       "    </tr>\n",
       "    <tr>\n",
       "      <th>5</th>\n",
       "      <td>0.000311</td>\n",
       "      <td>57032782-75d8-11ee-b0e2-525400aad0aa</td>\n",
       "      <td>BOSS-DR16</td>\n",
       "      <td>0.898559</td>\n",
       "      <td>-6444640204491567104</td>\n",
       "      <td>28.450988</td>\n",
       "      <td>GALAXY</td>\n",
       "      <td>134.43695</td>\n",
       "      <td>BOSS-DR16</td>\n",
       "    </tr>\n",
       "    <tr>\n",
       "      <th>6</th>\n",
       "      <td>0.000315</td>\n",
       "      <td>571ee9b7-75d8-11ee-86ec-525400aad0aa</td>\n",
       "      <td>BOSS-DR16</td>\n",
       "      <td>0.566015</td>\n",
       "      <td>-6444639654735753216</td>\n",
       "      <td>27.305313</td>\n",
       "      <td>GALAXY</td>\n",
       "      <td>133.95386</td>\n",
       "      <td>BOSS-DR16</td>\n",
       "    </tr>\n",
       "    <tr>\n",
       "      <th>7</th>\n",
       "      <td>0.000412</td>\n",
       "      <td>573c5312-75d8-11ee-a6a5-525400aad0aa</td>\n",
       "      <td>BOSS-DR16</td>\n",
       "      <td>0.599517</td>\n",
       "      <td>-6444639104979939328</td>\n",
       "      <td>27.381025</td>\n",
       "      <td>GALAXY</td>\n",
       "      <td>134.05133</td>\n",
       "      <td>BOSS-DR16</td>\n",
       "    </tr>\n",
       "    <tr>\n",
       "      <th>8</th>\n",
       "      <td>0.000338</td>\n",
       "      <td>575ba44a-75d8-11ee-8ea2-525400aad0aa</td>\n",
       "      <td>BOSS-DR16</td>\n",
       "      <td>0.812179</td>\n",
       "      <td>-6444638555224125440</td>\n",
       "      <td>27.333753</td>\n",
       "      <td>GALAXY</td>\n",
       "      <td>133.95189</td>\n",
       "      <td>BOSS-DR16</td>\n",
       "    </tr>\n",
       "    <tr>\n",
       "      <th>9</th>\n",
       "      <td>0.000337</td>\n",
       "      <td>5777698e-75d8-11ee-9cc0-525400aad0aa</td>\n",
       "      <td>BOSS-DR16</td>\n",
       "      <td>0.795586</td>\n",
       "      <td>-6444638005468311552</td>\n",
       "      <td>27.571681</td>\n",
       "      <td>GALAXY</td>\n",
       "      <td>134.21014</td>\n",
       "      <td>BOSS-DR16</td>\n",
       "    </tr>\n",
       "    <tr>\n",
       "      <th>10</th>\n",
       "      <td>0.000287</td>\n",
       "      <td>57d0abaf-75d8-11ee-9722-525400aad0aa</td>\n",
       "      <td>BOSS-DR16</td>\n",
       "      <td>0.554642</td>\n",
       "      <td>-6444636356200869888</td>\n",
       "      <td>27.491442</td>\n",
       "      <td>GALAXY</td>\n",
       "      <td>134.11568</td>\n",
       "      <td>BOSS-DR16</td>\n",
       "    </tr>\n",
       "    <tr>\n",
       "      <th>11</th>\n",
       "      <td>0.000177</td>\n",
       "      <td>580a251a-75d8-11ee-93f9-525400aad0aa</td>\n",
       "      <td>BOSS-DR16</td>\n",
       "      <td>0.688878</td>\n",
       "      <td>-6444635256689242112</td>\n",
       "      <td>27.657880</td>\n",
       "      <td>GALAXY</td>\n",
       "      <td>134.19652</td>\n",
       "      <td>BOSS-DR16</td>\n",
       "    </tr>\n",
       "    <tr>\n",
       "      <th>12</th>\n",
       "      <td>0.000194</td>\n",
       "      <td>587921ca-75d8-11ee-9ade-525400aad0aa</td>\n",
       "      <td>BOSS-DR16</td>\n",
       "      <td>0.638226</td>\n",
       "      <td>-6444633057665986560</td>\n",
       "      <td>28.080178</td>\n",
       "      <td>GALAXY</td>\n",
       "      <td>133.85629</td>\n",
       "      <td>BOSS-DR16</td>\n",
       "    </tr>\n",
       "    <tr>\n",
       "      <th>13</th>\n",
       "      <td>0.000294</td>\n",
       "      <td>58a1997f-75d8-11ee-aaf9-525400aad0aa</td>\n",
       "      <td>BOSS-DR16</td>\n",
       "      <td>0.614235</td>\n",
       "      <td>-6444632233032265728</td>\n",
       "      <td>27.907149</td>\n",
       "      <td>GALAXY</td>\n",
       "      <td>133.79296</td>\n",
       "      <td>BOSS-DR16</td>\n",
       "    </tr>\n",
       "    <tr>\n",
       "      <th>14</th>\n",
       "      <td>0.000317</td>\n",
       "      <td>58cb1ab5-75d8-11ee-be72-525400aad0aa</td>\n",
       "      <td>BOSS-DR16</td>\n",
       "      <td>0.804484</td>\n",
       "      <td>-6444631408398544896</td>\n",
       "      <td>28.192423</td>\n",
       "      <td>GALAXY</td>\n",
       "      <td>133.87033</td>\n",
       "      <td>BOSS-DR16</td>\n",
       "    </tr>\n",
       "    <tr>\n",
       "      <th>15</th>\n",
       "      <td>0.000191</td>\n",
       "      <td>593b4910-75d8-11ee-84d5-525400aad0aa</td>\n",
       "      <td>BOSS-DR16</td>\n",
       "      <td>0.803163</td>\n",
       "      <td>-6444629209375289344</td>\n",
       "      <td>28.359336</td>\n",
       "      <td>GALAXY</td>\n",
       "      <td>133.83085</td>\n",
       "      <td>BOSS-DR16</td>\n",
       "    </tr>\n",
       "    <tr>\n",
       "      <th>16</th>\n",
       "      <td>0.000273</td>\n",
       "      <td>5998174b-75d8-11ee-a4b9-525400aad0aa</td>\n",
       "      <td>BOSS-DR16</td>\n",
       "      <td>0.581960</td>\n",
       "      <td>-6444627560107847680</td>\n",
       "      <td>27.463273</td>\n",
       "      <td>GALAXY</td>\n",
       "      <td>133.87123</td>\n",
       "      <td>BOSS-DR16</td>\n",
       "    </tr>\n",
       "    <tr>\n",
       "      <th>17</th>\n",
       "      <td>0.000245</td>\n",
       "      <td>5a0d076c-75d8-11ee-a7e3-525400aad0aa</td>\n",
       "      <td>BOSS-DR16</td>\n",
       "      <td>0.647886</td>\n",
       "      <td>-6444625361084592128</td>\n",
       "      <td>27.582793</td>\n",
       "      <td>GALAXY</td>\n",
       "      <td>133.73666</td>\n",
       "      <td>BOSS-DR16</td>\n",
       "    </tr>\n",
       "    <tr>\n",
       "      <th>18</th>\n",
       "      <td>0.000207</td>\n",
       "      <td>5a4a4247-75d8-11ee-944b-525400aad0aa</td>\n",
       "      <td>BOSS-DR16</td>\n",
       "      <td>0.599279</td>\n",
       "      <td>-6444624261572964352</td>\n",
       "      <td>27.730007</td>\n",
       "      <td>GALAXY</td>\n",
       "      <td>133.69511</td>\n",
       "      <td>BOSS-DR16</td>\n",
       "    </tr>\n",
       "    <tr>\n",
       "      <th>19</th>\n",
       "      <td>0.000330</td>\n",
       "      <td>5a843b73-75d8-11ee-9d3a-525400aad0aa</td>\n",
       "      <td>BOSS-DR16</td>\n",
       "      <td>0.623102</td>\n",
       "      <td>-6444623162061336576</td>\n",
       "      <td>27.833640</td>\n",
       "      <td>GALAXY</td>\n",
       "      <td>133.51599</td>\n",
       "      <td>BOSS-DR16</td>\n",
       "    </tr>\n",
       "  </tbody>\n",
       "</table>\n",
       "</div>"
      ],
      "text/plain": [
       "    redshift_err                             sparcl_id data_release  redshift  \\\n",
       "0       0.000241  559c7b68-75d8-11ee-a90d-525400aad0aa    BOSS-DR16  0.675723   \n",
       "1       0.000242  55d7d47d-75d8-11ee-ba50-525400aad0aa    BOSS-DR16  0.782685   \n",
       "2       0.000424  565fd69e-75d8-11ee-b584-525400aad0aa    BOSS-DR16  0.797439   \n",
       "3       0.000238  56cd210b-75d8-11ee-b3b9-525400aad0aa    BOSS-DR16  0.647712   \n",
       "4       0.000274  56e8876a-75d8-11ee-a38d-525400aad0aa    BOSS-DR16  0.886086   \n",
       "5       0.000311  57032782-75d8-11ee-b0e2-525400aad0aa    BOSS-DR16  0.898559   \n",
       "6       0.000315  571ee9b7-75d8-11ee-86ec-525400aad0aa    BOSS-DR16  0.566015   \n",
       "7       0.000412  573c5312-75d8-11ee-a6a5-525400aad0aa    BOSS-DR16  0.599517   \n",
       "8       0.000338  575ba44a-75d8-11ee-8ea2-525400aad0aa    BOSS-DR16  0.812179   \n",
       "9       0.000337  5777698e-75d8-11ee-9cc0-525400aad0aa    BOSS-DR16  0.795586   \n",
       "10      0.000287  57d0abaf-75d8-11ee-9722-525400aad0aa    BOSS-DR16  0.554642   \n",
       "11      0.000177  580a251a-75d8-11ee-93f9-525400aad0aa    BOSS-DR16  0.688878   \n",
       "12      0.000194  587921ca-75d8-11ee-9ade-525400aad0aa    BOSS-DR16  0.638226   \n",
       "13      0.000294  58a1997f-75d8-11ee-aaf9-525400aad0aa    BOSS-DR16  0.614235   \n",
       "14      0.000317  58cb1ab5-75d8-11ee-be72-525400aad0aa    BOSS-DR16  0.804484   \n",
       "15      0.000191  593b4910-75d8-11ee-84d5-525400aad0aa    BOSS-DR16  0.803163   \n",
       "16      0.000273  5998174b-75d8-11ee-a4b9-525400aad0aa    BOSS-DR16  0.581960   \n",
       "17      0.000245  5a0d076c-75d8-11ee-a7e3-525400aad0aa    BOSS-DR16  0.647886   \n",
       "18      0.000207  5a4a4247-75d8-11ee-944b-525400aad0aa    BOSS-DR16  0.599279   \n",
       "19      0.000330  5a843b73-75d8-11ee-9d3a-525400aad0aa    BOSS-DR16  0.623102   \n",
       "\n",
       "                 specid        dec spectype         ra        _dr  \n",
       "0  -6444647351317147648  28.038851   GALAXY  134.10755  BOSS-DR16  \n",
       "1  -6444646251805519872  28.084685   GALAXY  134.23727  BOSS-DR16  \n",
       "2  -6444643503026450432  28.226386   GALAXY  133.98095  BOSS-DR16  \n",
       "3  -6444641304003194880  28.429551   GALAXY  134.54531  BOSS-DR16  \n",
       "4  -6444640754247380992  28.452505   GALAXY  134.46525  BOSS-DR16  \n",
       "5  -6444640204491567104  28.450988   GALAXY  134.43695  BOSS-DR16  \n",
       "6  -6444639654735753216  27.305313   GALAXY  133.95386  BOSS-DR16  \n",
       "7  -6444639104979939328  27.381025   GALAXY  134.05133  BOSS-DR16  \n",
       "8  -6444638555224125440  27.333753   GALAXY  133.95189  BOSS-DR16  \n",
       "9  -6444638005468311552  27.571681   GALAXY  134.21014  BOSS-DR16  \n",
       "10 -6444636356200869888  27.491442   GALAXY  134.11568  BOSS-DR16  \n",
       "11 -6444635256689242112  27.657880   GALAXY  134.19652  BOSS-DR16  \n",
       "12 -6444633057665986560  28.080178   GALAXY  133.85629  BOSS-DR16  \n",
       "13 -6444632233032265728  27.907149   GALAXY  133.79296  BOSS-DR16  \n",
       "14 -6444631408398544896  28.192423   GALAXY  133.87033  BOSS-DR16  \n",
       "15 -6444629209375289344  28.359336   GALAXY  133.83085  BOSS-DR16  \n",
       "16 -6444627560107847680  27.463273   GALAXY  133.87123  BOSS-DR16  \n",
       "17 -6444625361084592128  27.582793   GALAXY  133.73666  BOSS-DR16  \n",
       "18 -6444624261572964352  27.730007   GALAXY  133.69511  BOSS-DR16  \n",
       "19 -6444623162061336576  27.833640   GALAXY  133.51599  BOSS-DR16  "
      ]
     },
     "execution_count": 15,
     "metadata": {},
     "output_type": "execute_result"
    }
   ],
   "source": [
    "pd.DataFrame.from_records(found.records)"
   ]
  },
  {
   "cell_type": "markdown",
   "metadata": {},
   "source": [
    "<a class=\"anchor\" id=\"retrieve\"></a>\n",
    "## Get Spectra: `client.retrieve`"
   ]
  },
  {
   "cell_type": "markdown",
   "metadata": {},
   "source": [
    "In order to retrieve spectra records from SPARCL, pass the following to the `client.retrieve()` function:\n",
    "```\n",
    "uuid_list : List of IDs.\n",
    "dataset_list : List of data sets to search for the IDs in (default: None).\n",
    "include : List of field names to include in each record (default: 'DEFAULT').\n",
    "```\n",
    "\n",
    "**NOTE: A reasonable amount of records to request retrieval of is about 10,000. Exceeding this value may cause the retrieval to timeout or fail.**"
   ]
  },
  {
   "cell_type": "code",
   "execution_count": 16,
   "metadata": {
    "scrolled": true
   },
   "outputs": [
    {
     "data": {
      "text/plain": [
       "\u001b[0;31mSignature:\u001b[0m\n",
       "\u001b[0mclient\u001b[0m\u001b[0;34m.\u001b[0m\u001b[0mretrieve\u001b[0m\u001b[0;34m(\u001b[0m\u001b[0;34m\u001b[0m\n",
       "\u001b[0;34m\u001b[0m    \u001b[0muuid_list\u001b[0m\u001b[0;34m,\u001b[0m\u001b[0;34m\u001b[0m\n",
       "\u001b[0;34m\u001b[0m    \u001b[0;34m*\u001b[0m\u001b[0;34m,\u001b[0m\u001b[0;34m\u001b[0m\n",
       "\u001b[0;34m\u001b[0m    \u001b[0minclude\u001b[0m\u001b[0;34m=\u001b[0m\u001b[0;34m'DEFAULT'\u001b[0m\u001b[0;34m,\u001b[0m\u001b[0;34m\u001b[0m\n",
       "\u001b[0;34m\u001b[0m    \u001b[0mdataset_list\u001b[0m\u001b[0;34m=\u001b[0m\u001b[0;32mNone\u001b[0m\u001b[0;34m,\u001b[0m\u001b[0;34m\u001b[0m\n",
       "\u001b[0;34m\u001b[0m    \u001b[0mlimit\u001b[0m\u001b[0;34m=\u001b[0m\u001b[0;36m500\u001b[0m\u001b[0;34m,\u001b[0m\u001b[0;34m\u001b[0m\n",
       "\u001b[0;34m\u001b[0m    \u001b[0mverbose\u001b[0m\u001b[0;34m=\u001b[0m\u001b[0;32mNone\u001b[0m\u001b[0;34m,\u001b[0m\u001b[0;34m\u001b[0m\n",
       "\u001b[0;34m\u001b[0m\u001b[0;34m)\u001b[0m\u001b[0;34m\u001b[0m\u001b[0;34m\u001b[0m\u001b[0m\n",
       "\u001b[0;31mDocstring:\u001b[0m\n",
       "Retrieve spectra records from the SPARC database by list of\n",
       "sparcl_ids.\n",
       "\n",
       "Args:\n",
       "    uuid_list (:obj:`list`): List of sparcl_ids.\n",
       "\n",
       "    include (:obj:`list`, optional): List of field names to include\n",
       "        in each record. Defaults to 'DEFAULT', which will return\n",
       "        the fields tagged as 'default'.\n",
       "\n",
       "    dataset_list (:obj:`list`, optional): List of data sets from\n",
       "        which to retrieve spectra data. Defaults to None, meaning all\n",
       "        data sets hosted on the SPARC database.\n",
       "\n",
       "    limit (:obj:`int`, optional): Maximum number of records to\n",
       "        return. Defaults to 500. Maximum allowed is 24,000.\n",
       "\n",
       "    verbose (:obj:`bool`, optional): Set to True for in-depth return\n",
       "        statement. Defaults to False.\n",
       "\n",
       "Returns:\n",
       "    :class:`~sparcl.Results.Retrieved`: Contains header and records.\n",
       "\n",
       "Example:\n",
       "    >>> client = SparclClient()\n",
       "    >>> ids = ['00000f0b-07db-4234-892a-6e347db79c89',]\n",
       "    >>> inc = ['sparcl_id', 'flux', 'wavelength', 'model']\n",
       "    >>> ret = client.retrieve(uuid_list=ids, include=inc)\n",
       "    >>> type(ret.records[0].wavelength)\n",
       "    <class 'numpy.ndarray'>\n",
       "\u001b[0;31mFile:\u001b[0m      ~/sandbox/sparclclient/venv/lib/python3.10/site-packages/sparcl/client.py\n",
       "\u001b[0;31mType:\u001b[0m      method"
      ]
     },
     "metadata": {},
     "output_type": "display_data"
    }
   ],
   "source": [
    "client.retrieve?"
   ]
  },
  {
   "cell_type": "markdown",
   "metadata": {},
   "source": [
    "#### Use the IDs from the output of using `client.find()` to retrieve records from SPARCL:\n",
    "Note that `ids` in `found_I.ids` is a property name of the Found class. It is a list of records from all records, not a field name of a record."
   ]
  },
  {
   "cell_type": "code",
   "execution_count": 17,
   "metadata": {},
   "outputs": [],
   "source": [
    "# Define the fields to include in the retrieve function\n",
    "inc = ['specid', 'data_release', 'redshift', 'flux', 'wavelength', 'model', 'ivar', 'mask', 'spectype']"
   ]
  },
  {
   "cell_type": "code",
   "execution_count": 18,
   "metadata": {},
   "outputs": [
    {
     "name": "stdout",
     "output_type": "stream",
     "text": [
      "curl -X 'POST' -H 'Content-Type: application/json' -d '[\"559c7b68-75d8-11ee-a90d-525400aad0aa\", \"55d7d47d-75d8-11ee-ba50-525400aad0aa\", \"565fd69e-75d8-11ee-b584-525400aad0aa\", \"56cd210b-75d8-11ee-b3b9-525400aad0aa\", \"56e8876a-75d8-11ee-a38d-525400aad0aa\", \"57032782-75d8-11ee-b0e2-525400aad0aa\", \"571ee9b7-75d8-11ee-86ec-525400aad0aa\", \"573c5312-75d8-11ee-a6a5-525400aad0aa\", \"575ba44a-75d8-11ee-8ea2-525400aad0aa\", \"5777698e-75d8-11ee-9cc0-525400aad0aa\", \"57d0abaf-75d8-11ee-9722-525400aad0aa\", \"580a251a-75d8-11ee-93f9-525400aad0aa\", \"587921ca-75d8-11ee-9ade-525400aad0aa\", \"58a1997f-75d8-11ee-aaf9-525400aad0aa\", \"58cb1ab5-75d8-11ee-be72-525400aad0aa\", \"593b4910-75d8-11ee-84d5-525400aad0aa\", \"5998174b-75d8-11ee-a4b9-525400aad0aa\", \"5a0d076c-75d8-11ee-a7e3-525400aad0aa\", \"5a4a4247-75d8-11ee-944b-525400aad0aa\", \"5a843b73-75d8-11ee-9d3a-525400aad0aa\"]' 'https://sparc1.datalab.noirlab.edu/sparc/spectras/?include=mask%2Cflux%2Cspectype%2Credshift%2Cmodel%2Cspecid%2Civar%2Cdata_release%2Cwavelength&format=pkl&dataset_list=SDSS-DR16%2CBOSS-DR16' | python3 -m json.tool\n",
      "CPU times: user 88.7 ms, sys: 36.2 ms, total: 125 ms\n",
      "Wall time: 915 ms\n"
     ]
    },
    {
     "data": {
      "text/plain": [
       "{'status': {'success': True,\n",
       "  'info': [\"Successfully found 20 records in dr_list=['SDSS-DR16', 'BOSS-DR16']\"],\n",
       "  'warnings': []}}"
      ]
     },
     "execution_count": 18,
     "metadata": {},
     "output_type": "execute_result"
    }
   ],
   "source": [
    "%%time\n",
    "results = client.retrieve(uuid_list=found.ids,\n",
    "                          include=inc,\n",
    "                          dataset_list=['SDSS-DR16','BOSS-DR16'])\n",
    "results.info"
   ]
  },
  {
   "cell_type": "code",
   "execution_count": 19,
   "metadata": {},
   "outputs": [
    {
     "data": {
      "text/plain": [
       "{'data_release': 'BOSS-DR16',\n",
       " 'redshift': 0.6757226586341858,\n",
       " 'spectype': 'GALAXY',\n",
       " 'specid': -6444647351317147648,\n",
       " 'ivar': array([0., 0., 0., ..., 0., 0., 0.]),\n",
       " 'wavelength': array([ 3580.13991843,  3580.96437103,  3581.78901348, ...,\n",
       "        10368.11964061, 10370.50726326, 10372.89543574]),\n",
       " 'flux': array([3.62588525, 3.62471676, 3.62354994, ..., 1.97833729, 1.97839582,\n",
       "        1.97845423]),\n",
       " 'mask': array([88080384, 88080384, 88080384, ..., 83886080, 83886080, 83886080]),\n",
       " 'model': array([0.03469909, 0.03500503, 0.03542256, ..., 1.32534087, 1.31770504,\n",
       "        1.31096995]),\n",
       " '_dr': 'BOSS-DR16'}"
      ]
     },
     "execution_count": 19,
     "metadata": {},
     "output_type": "execute_result"
    }
   ],
   "source": [
    "results.records[0]"
   ]
  },
  {
   "cell_type": "code",
   "execution_count": 20,
   "metadata": {},
   "outputs": [
    {
     "data": {
      "text/plain": [
       "<matplotlib.legend.Legend at 0x7f3da4d42230>"
      ]
     },
     "execution_count": 20,
     "metadata": {},
     "output_type": "execute_result"
    },
    {
     "data": {
      "application/vnd.jupyter.widget-view+json": {
       "model_id": "70c6a9ffd1d04b8e94eaa8df97c079db",
       "version_major": 2,
       "version_minor": 0
      },
      "image/png": "[encoded data removed]",
      "text/html": [
       "\n",
       "            <div style=\"display: inline-block;\">\n",
       "                <div class=\"jupyter-widgets widget-label\" style=\"text-align: center;\">\n",
       "                    Figure\n",
       "                </div>\n",
       "                <img src='data:image/png;base64,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' width=800.0/>\n",
       "            </div>\n",
       "        "
      ],
      "text/plain": [
       "Canvas(toolbar=Toolbar(toolitems=[('Home', 'Reset original view', 'home', 'home'), ('Back', 'Back to previous …"
      ]
     },
     "metadata": {},
     "output_type": "display_data"
    }
   ],
   "source": [
    "recs = results.records\n",
    "fig=plt.figure(1, figsize=(8,4), dpi= 100, facecolor='w', edgecolor='k')\n",
    "fline, = plt.plot(recs[1].flux, label=f'flux')\n",
    "mline, = plt.plot(recs[1].model, label=f'model')\n",
    "plt.legend(handles=[fline,mline])"
   ]
  },
  {
   "cell_type": "code",
   "execution_count": 21,
   "metadata": {},
   "outputs": [],
   "source": [
    "import sparcl.gather_2d\n",
    "ar_dict, grid = sparcl.gather_2d.align_records(results.records)"
   ]
  },
  {
   "cell_type": "markdown",
   "metadata": {
    "toc-hr-collapsed": true
   },
   "source": [
    "## Plot full FLUX for all records"
   ]
  },
  {
   "cell_type": "code",
   "execution_count": 22,
   "metadata": {},
   "outputs": [
    {
     "data": {
      "text/plain": [
       "<Axes: xlabel='Wavelength', ylabel='Flux'>"
      ]
     },
     "execution_count": 22,
     "metadata": {},
     "output_type": "execute_result"
    },
    {
     "data": {
      "application/vnd.jupyter.widget-view+json": {
       "model_id": "6592541c8b3a46c0be243727160a71b5",
       "version_major": 2,
       "version_minor": 0
      },
      "image/png": "[encoded data removed]",
      "text/html": [
       "\n",
       "            <div style=\"display: inline-block;\">\n",
       "                <div class=\"jupyter-widgets widget-label\" style=\"text-align: center;\">\n",
       "                    Figure\n",
       "                </div>\n",
       "                <img src='data:image/png;base64,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' width=640.0/>\n",
       "            </div>\n",
       "        "
      ],
      "text/plain": [
       "Canvas(toolbar=Toolbar(toolitems=[('Home', 'Reset original view', 'home', 'home'), ('Back', 'Back to previous …"
      ]
     },
     "metadata": {},
     "output_type": "display_data"
    }
   ],
   "source": [
    "modeldf = pd.DataFrame(data=ar_dict['flux'],columns=grid)\n",
    "modeldf.transpose().plot(xlabel='Wavelength', ylabel='Flux', legend=False)"
   ]
  },
  {
   "cell_type": "code",
   "execution_count": null,
   "metadata": {},
   "outputs": [],
   "source": []
  }
 ],
 "metadata": {
  "kernelspec": {
   "display_name": "Python 3 (ipykernel)",
   "language": "python",
   "name": "python3"
  },
  "language_info": {
   "codemirror_mode": {
    "name": "ipython",
    "version": 3
   },
   "file_extension": ".py",
   "mimetype": "text/x-python",
   "name": "python",
   "nbconvert_exporter": "python",
   "pygments_lexer": "ipython3",
   "version": "3.10.12"
  },
  "toc": {
   "base_numbering": 1
  },
  "toc-showmarkdowntxt": false
 },
 "nbformat": 4,
 "nbformat_minor": 4
}
